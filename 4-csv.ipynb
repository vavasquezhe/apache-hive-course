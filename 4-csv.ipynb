{
 "cells": [
  {
   "cell_type": "markdown",
   "metadata": {},
   "source": [
    "Archivos CSV\n",
    "===\n",
    "\n",
    "**Juan David Velásquez Henao**  \n",
    "jdvelasq@unal.edu.co   \n",
    "Universidad Nacional de Colombia, Sede Medellín  \n",
    "Facultad de Minas  \n",
    "Medellín, Colombia\n",
    "\n",
    "---\n",
    "\n",
    "Haga click [aquí](https://github.com/jdvelasq/apache-hive-course) para acceder al repositorio en GitHub.\n",
    "\n",
    "Haga click [aquí](http://nbviewer.jupyter.org/github/jdvelasq/apache-hive-course/tree/master/) para explorar el repositorio usando en `nbviewer`. "
   ]
  },
  {
   "cell_type": "markdown",
   "metadata": {},
   "source": [
    "---"
   ]
  },
  {
   "cell_type": "code",
   "execution_count": 1,
   "metadata": {},
   "outputs": [
    {
     "name": "stdout",
     "output_type": "stream",
     "text": [
      "SLF4J: Class path contains multiple SLF4J bindings.\n",
      "SLF4J: Found binding in [jar:file:/Users/jdvelasq/hive/lib/log4j-slf4j-impl-2.10.0.jar!/org/slf4j/impl/StaticLoggerBinder.class]\n",
      "SLF4J: Found binding in [jar:file:/Users/jdvelasq/hadoop/share/hadoop/common/lib/slf4j-log4j12-1.7.25.jar!/org/slf4j/impl/StaticLoggerBinder.class]\n",
      "SLF4J: See http://www.slf4j.org/codes.html#multiple_bindings for an explanation.\n",
      "SLF4J: Actual binding is of type [org.apache.logging.slf4j.Log4jLoggerFactory]\n",
      "Hive Session ID = 6fd37e21-6a51-4f28-b069-2c8d95854e21\n",
      "\n",
      "Logging initialized using configuration in jar:file:/Users/jdvelasq/hive/lib/hive-common-3.1.0.jar!/hive-log4j2.properties Async: true\n",
      "Hive Session ID = cbac8b16-d51e-4863-aef0-af0cc390e62e\n",
      "Hive-on-MR is deprecated in Hive 2 and may not be available in the future versions. Consider using a different execution engine (i.e. spark, tez) or using Hive 1.X releases.\n",
      "\n"
     ]
    }
   ],
   "source": [
    "%run hivemagic.py"
   ]
  },
  {
   "cell_type": "code",
   "execution_count": 2,
   "metadata": {
    "scrolled": true
   },
   "outputs": [
    {
     "name": "stdout",
     "output_type": "stream",
     "text": [
      "DROP DATABASE IF EXISTS mydb CASCADE;\n",
      "OK\n",
      "Time taken: 1.624 seconds\n",
      "CREATE DATABASE mydb;\n",
      "OK\n",
      "Time taken: 0.095 seconds\n",
      "USE mydb;\n",
      "OK\n",
      "Time taken: 0.006 seconds\n"
     ]
    }
   ],
   "source": [
    "%%hive\n",
    "DROP DATABASE IF EXISTS mydb CASCADE;\n",
    "CREATE DATABASE mydb;\n",
    "USE mydb;"
   ]
  },
  {
   "cell_type": "markdown",
   "metadata": {},
   "source": [
    "# Preparación de los datos"
   ]
  },
  {
   "cell_type": "markdown",
   "metadata": {},
   "source": [
    "Se generan tres archivos de datos en formato CSV para importar a la base de datos. El magic `%%writefile filename` escribe el contenido de la celda al archivo llamada `filename` en el directorio actual de trabajo."
   ]
  },
  {
   "cell_type": "code",
   "execution_count": 3,
   "metadata": {},
   "outputs": [
    {
     "name": "stdout",
     "output_type": "stream",
     "text": [
      "mkdir: franquicias: File exists\n"
     ]
    }
   ],
   "source": [
    "!mkdir bancos\n",
    "!mkdir personas\n",
    "!mkdir franquicias"
   ]
  },
  {
   "cell_type": "code",
   "execution_count": 4,
   "metadata": {},
   "outputs": [
    {
     "name": "stdout",
     "output_type": "stream",
     "text": [
      "Writing bancos/bancos.csv\n"
     ]
    }
   ],
   "source": [
    "%%writefile bancos/bancos.csv\n",
    "Ally Financial,3608-2596-5394-1054,216-82-1048\n",
    "BB&T,3608-1721-4951-1198,116-81-1883\n",
    "BBVA Compass,3608-1395-5632-1976,224-25-1891\n",
    "BBVA Compass,3608-1721-4005-1322,116-51-1291\n",
    "BBVA Compass,3608-2181-5724-1476,144-25-1448\n",
    "BBVA Compass,3608-2596-5634-1497,224-99-1262\n",
    "BMO Harris Bank,3608-1721-4236-1828,279-81-1912\n",
    "BNP Paribas,3608-2181-5030-1465,216-51-1025\n",
    "Fifth Third Bank,3608-1782-5015-1001,429-83-1156\n",
    "Citizens Financial Group,3608-2181-4711-1693,177-44-1054\n",
    "Comerica,3608-1333-4580-1185,216-85-1367\n",
    "Comerica,3608-2596-5551-1572,116-93-1394\n",
    "Deutsche Bank,3608-1782-5551-1837,339-74-1545\n",
    "Discover Financial,3608-1395-4951-1668,116-51-1291\n",
    "Fifth Third Bank,3608-1782-4458-1383,166-82-1605\n",
    "First Republic Bank,3608-1682-4160-1476,425-82-1851\n",
    "First Republic Bank,3608-2596-5696-1134,429-83-1156\n",
    "JPMorgan Chase,3608-1782-5890-1999,287-74-1145\n",
    "JPMorgan Chase,3608-2067-5766-1056,177-23-1359\n",
    "JPMorgan Chase,3608-2181-5988-1718,116-54-1259\n",
    "JPMorgan Chase,3608-2751-4236-1394,320-54-1856\n",
    "MUFG Union Bank,3608-2800-5459-1497,144-54-1840\n",
    "New York Community Bancorp,3608-2968-5745-1804,323-51-1535\n",
    "Popular. Inc.,3608-1333-4394-1935,177-44-1159\n",
    "Popular. Inc.,3608-1721-5632-1589,224-55-1496\n",
    "Popular. Inc.,3608-2800-5551-1351,279-81-1912\n",
    "Santander Bank,3608-1395-5691-1428,301-25-1394\n",
    "Signature Bank,3608-2588-5394-1381,216-82-1048\n",
    "Signature Bank,3608-2751-5015-1278,224-55-1496\n",
    "SunTrust Banks,3608-1682-5152-1053,339-74-1545\n",
    "MUFG Union Bank,3608-1782-4038-1052,238-81-1227\n",
    "U.S. Bancorp,3608-1192-5884-1614,391-55-1442\n",
    "U.S. Bancorp,3608-1333-4005-1623,177-44-1054\n",
    "U.S. Bancorp,3608-2067-5394-1306,216-85-1367\n",
    "U.S. Bancorp,3608-2181-4288-1394,381-54-1605\n",
    "USAA,3608-1782-5791-1558,368-83-1054\n",
    "Wells Fargo,3608-1782-5030-1572,339-82-1442\n",
    "Wells Fargo,3608-2588-5988-1551,144-25-1448"
   ]
  },
  {
   "cell_type": "code",
   "execution_count": 5,
   "metadata": {},
   "outputs": [
    {
     "name": "stdout",
     "output_type": "stream",
     "text": [
      "Writing personas/personas.csv\n"
     ]
    }
   ],
   "source": [
    "%%writefile personas/personas.csv\n",
    "216-51-1025,(09)-5580-7527,Memphis (Tennessee),Single,Marco Goodman,1988-06-30\n",
    "116-51-1291,(07)-2905-7818,Buffalo (New York),Married,Roxanne Kerns,1974-11-27\n",
    "177-44-1159,(09)-5062-6922,Detroit (Michigan),Single,Regina Lauritzen,1969-07-27\n",
    "116-81-1883,(03)-1350-7402,Chandler (Arizona),Divorced,Howard Samsel,1989-11-26\n",
    "429-83-1156,(09)-5794-9470,Scottsdale (Arizona),Married,Gabriel Kingston,1978-05-05\n",
    "381-54-1605,(05)-5330-5036,Albuquerque (New Mexico),Single,Carrie Bigelow,1982-05-02\n",
    "224-99-1262,(05)-3339-3262,Milwaukee (Wisconsin),Married,Nichelle Thaxton,1988-01-02\n",
    "301-25-1394,(07)-4370-8507,Houston (Texas),Single,Joaquin Yap,1972-11-12\n",
    "323-51-1535,(03)-5179-6500,Las Vegas (Nevada),Married,Yu Kittredge,1978-01-22\n",
    "216-85-1367,(07)-2905-9114,Saint Paul (Minnesota),Divorced,Tania Raley,1973-12-16\n",
    "166-82-1605,(09)-6473-4208,Irvine (California),Married,Demetrius Fry,1975-03-27\n",
    "116-54-1259,(04)-3468-6535,San Bernardino (California),Divorced,Jake Vansant,1980-02-01\n",
    "224-55-1496,(03)-8685-6502,Aurora (Colorado),Common-Law,Tamesha Lawlor,1983-10-02\n",
    "177-44-1054,(08)-5902-5867,El Paso (Texas),Single,Millie Lasher,1976-03-29\n",
    "320-54-1856,(04)-3858-1079,Houston (Texas),Divorced,Lilly Macdonald,1983-09-07\n",
    "144-25-1448,(09)-5179-2725,Durham (North Carolina),Divorced,Gerald Glynn,1985-07-07\n",
    "144-54-1840,(03)-7508-9910,Orlando (Florida),Single,Felipe Malpass,1982-06-08\n",
    "224-25-1891,(05)-9333-5713,Las Vegas (Nevada),Divorced,Wallace Lowery,1971-12-19\n",
    "216-82-1048,(04)-1199-9661,Las Vegas (Nevada),Married,Pedro Welch,1972-05-07\n",
    "116-93-1394,(05)-9333-4606,Tampa (Florida),Married,Betty Fitzhugh,1973-08-12\n",
    "279-81-1912,(08)-2905-8942,Winston–Salem (North Carolina),Single,Lauren Seifert,1977-10-07\n",
    "425-82-1851,(03)-5794-3345,Aurora (Colorado),Married,Livia Castillo,1972-02-26\n",
    "339-74-1545,(08)-4858-6766,Atlanta (Georgia),Married,Leland Scully,1975-07-25\n",
    "368-83-1054,(05)-7508-4870,Omaha (Nebraska),Married,Elton Castellanos,1975-10-08\n",
    "339-82-1442,(09)-5854-7191,Henderson (Nevada),Single,Sondra Pike,1980-06-25\n",
    "391-55-1442,(05)-6865-1079,Baton Rouge (Louisiana),Divorced,Laquita Murrin,1984-04-21\n",
    "177-23-1359,(07)-5854-6781,St. Louis (Missouri),Single,Gigi Ragland,1977-01-27\n",
    "238-81-1227,(03)-9999-9910,Laredo (Texas),Common-Law,Ronald Signorelli,1977-06-13\n",
    "287-74-1145,(03)-5794-9130,Fremont (California),Single,Wilson Upshaw,1976-02-21"
   ]
  },
  {
   "cell_type": "code",
   "execution_count": 6,
   "metadata": {},
   "outputs": [
    {
     "name": "stdout",
     "output_type": "stream",
     "text": [
      "Overwriting franquicias/franquicias.csv\n"
     ]
    }
   ],
   "source": [
    "%%writefile franquicias/franquicias.csv\n",
    "Capital One,3608-2181-5030-1465,2023-05-27,4538,337,1400\n",
    "USAA,3608-1395-4951-1668,2024-03-11,5101,240,1900\n",
    "U.S. Bank,3608-1333-4394-1935,2020-03-08,4814,231,2000\n",
    "Capital One,3608-1721-4951-1198,2019-05-30,3925,366,1600\n",
    "PNC,3608-1782-5015-1001,2025-06-08,4241,048,1200\n",
    "Capital One,3608-2181-4288-1394,2021-12-08,4253,556,1700\n",
    "Wells Fargo,3608-2596-5634-1497,2018-07-15,5205,140,1200\n",
    "USAA,3608-1395-5691-1428,2023-04-20,2111,512,1400\n",
    "American Express,3608-2968-5745-1804,2025-12-01,5065,993,1000\n",
    "American Express,3608-1333-4580-1185,2025-01-13,2377,277,1300\n",
    "Discover,3608-1782-4458-1383,2018-07-19,4623,863,1500\n",
    "Chase,3608-2181-5988-1718,2024-03-23,2987,452,1000\n",
    "USAA,3608-2751-5015-1278,2024-04-25,2744,831,1700\n",
    "U.S. Bank,3608-1333-4005-1623,2022-11-10,2117,373,1400\n",
    "MasterCard,3608-2751-4236-1394,2022-07-22,7943,109,1200\n",
    "MasterCard,3608-2588-5988-1551,2021-11-11,2172,945,1900\n",
    "USAA,3608-2800-5459-1497,2024-04-02,7568,458,1400\n",
    "Discover,3608-1395-5632-1976,2022-12-22,5884,272,1200\n",
    "BarclayCard US,3608-2588-5394-1381,2020-12-24,5280,237,1200\n",
    "American Express,3608-2596-5551-1572,2024-07-28,4107,438,1500\n",
    "BarclayCard US,3608-2800-5551-1351,2020-09-30,4174,318,1700\n",
    "Discover,3608-1682-4160-1476,2021-05-08,2135,864,2000\n",
    "U.S. Bank,3608-1682-5152-1053,2024-04-27,7022,246,1100\n",
    "U.S. Bank,3608-1782-5791-1558,2023-09-24,7502,188,2000\n",
    "PNC,3608-1782-5030-1572,2024-07-31,6887,951,1700\n",
    "MasterCard,3608-1192-5884-1614,2018-06-20,5594,800,2000\n",
    "Bank of America,3608-2067-5766-1056,2025-09-30,2338,355,1200\n",
    "BarclayCard US,3608-1782-4038-1052,2022-06-25,2130,117,1500\n",
    "American Express,3608-1782-5890-1999,2021-11-10,3195,732,1600\n",
    "Visa,3608-1782-5551-1837,2024-11-05,5357,255,2000\n",
    "MasterCard,3608-1721-4236-1828,2018-05-15,3700,561,1800\n",
    "U.S. Bank,3608-2596-5394-1054,2022-06-05,6787,233,1000\n",
    "Discover,3608-2181-5724-1476,2022-09-18,3027,475,1000\n",
    "MasterCard,3608-2181-4711-1693,2024-03-26,2739,733,1400\n",
    "Bank of America,3608-1721-5632-1589,2025-02-08,6587,337,1500\n",
    "Chase,3608-2067-5394-1306,2019-02-13,2544,222,1200\n",
    "U.S. Bank,3608-2596-5696-1134,2024-05-22,7442,587,1900\n",
    "USAA,3608-1721-4005-1322,2018-08-16,7241,201,1300"
   ]
  },
  {
   "cell_type": "markdown",
   "metadata": {},
   "source": [
    "# Importación a Hive de datos en CSV"
   ]
  },
  {
   "cell_type": "code",
   "execution_count": 7,
   "metadata": {},
   "outputs": [
    {
     "name": "stdout",
     "output_type": "stream",
     "text": [
      "DROP TABLE IF EXISTS personas;\n",
      "OK\n",
      "Time taken: 0.027 seconds\n",
      "\n",
      "CREATE TABLE IF NOT EXISTS personas (\n",
      "    id INT,\n",
      "    ssn VARCHAR(11),\n",
      "    phone VARCHAR(14),\n",
      "    city VARCHAR(40),\n",
      "    maritalstatus VARCHAR(10),\n",
      "    fullname VARCHAR(40),\n",
      "    birthdate DATE\n",
      ")\n",
      "ROW FORMAT DELIMITED\n",
      "FIELDS TERMINATED BY ','\n",
      "STORED AS TEXTFILE\n",
      "LOCATION 'personas';\n",
      "OK\n",
      "Time taken: 0.166 seconds\n",
      "\n",
      "SELECT * FROM personas LIMIT 5;\n",
      "OK\n",
      "NULL\t(09)-5580-7\tMemphis (Tenne\tSingle\tMarco Good\t1988-06-30\tNULL\n",
      "NULL\t(07)-2905-7\tBuffalo (New Y\tMarried\tRoxanne Ke\t1974-11-27\tNULL\n",
      "NULL\t(09)-5062-6\tDetroit (Michi\tSingle\tRegina Lau\t1969-07-27\tNULL\n",
      "NULL\t(03)-1350-7\tChandler (Ariz\tDivorced\tHoward Sam\t1989-11-26\tNULL\n",
      "NULL\t(09)-5794-9\tScottsdale (Ar\tMarried\tGabriel Ki\t1978-05-05\tNULL\n",
      "Time taken: 1.305 seconds, Fetched: 5 row(s)\n"
     ]
    }
   ],
   "source": [
    "%%hive\n",
    "DROP TABLE IF EXISTS personas;\n",
    "\n",
    "CREATE TABLE IF NOT EXISTS personas (\n",
    "    id INT,\n",
    "    ssn VARCHAR(11),\n",
    "    phone VARCHAR(14),\n",
    "    city VARCHAR(40),\n",
    "    maritalstatus VARCHAR(10),\n",
    "    fullname VARCHAR(40),\n",
    "    birthdate DATE\n",
    ")\n",
    "ROW FORMAT DELIMITED\n",
    "FIELDS TERMINATED BY ','\n",
    "STORED AS TEXTFILE\n",
    "LOCATION 'personas';\n",
    "\n",
    "SELECT * FROM personas LIMIT 5;"
   ]
  },
  {
   "cell_type": "code",
   "execution_count": null,
   "metadata": {},
   "outputs": [],
   "source": [
    "%%hive\n",
    "SHOW TABLES;"
   ]
  },
  {
   "cell_type": "markdown",
   "metadata": {},
   "source": [
    "Una vez la tabla ha sido creada también puede usarse el comando:\n",
    "\n",
    "    LOAD DATA LOCAL INPATH '../personas.csv'\n",
    "    OVERWRITE INTO TABLE personas;\n",
    "    \n",
    "Para el comando anterior, debe ubicar el archivo fuera de la carpeta actual."
   ]
  },
  {
   "cell_type": "code",
   "execution_count": 8,
   "metadata": {
    "scrolled": false
   },
   "outputs": [
    {
     "name": "stdout",
     "output_type": "stream",
     "text": [
      "DROP TABLE IF EXISTS franquicias;\n",
      "OK\n",
      "Time taken: 0.006 seconds\n",
      "\n",
      "CREATE EXTERNAL TABLE IF NOT EXISTS franquicias (\n",
      "    id INT,\n",
      "    ccntype VARCHAR(40),\n",
      "    ccn VARCHAR(20),\n",
      "    validthru DATE,\n",
      "    userkey VARCHAR(6),\n",
      "    userpin VARCHAR(4),\n",
      "    quota SMALLINT\n",
      ")\n",
      "ROW FORMAT DELIMITED\n",
      "FIELDS TERMINATED BY ','\n",
      "STORED AS TEXTFILE\n",
      "LOCATION 'franquicias';\n",
      "OK\n",
      "Time taken: 0.028 seconds\n",
      "\n",
      "SELECT * FROM franquicias LIMIT 5;\n",
      "OK\n",
      "NULL\t3608-2181-5030-1465\t2023-05-27\tNULL\t337\t1400\tNULL\n",
      "NULL\t3608-1395-4951-1668\t2024-03-11\tNULL\t240\t1900\tNULL\n",
      "NULL\t3608-1333-4394-1935\t2020-03-08\tNULL\t231\t2000\tNULL\n",
      "NULL\t3608-1721-4951-1198\t2019-05-30\tNULL\t366\t1600\tNULL\n",
      "NULL\t3608-1782-5015-1001\t2025-06-08\tNULL\t048\t1200\tNULL\n",
      "Time taken: 0.098 seconds, Fetched: 5 row(s)\n"
     ]
    }
   ],
   "source": [
    "%%hive\n",
    "DROP TABLE IF EXISTS franquicias;\n",
    "\n",
    "CREATE EXTERNAL TABLE IF NOT EXISTS franquicias (\n",
    "    id INT,\n",
    "    ccntype VARCHAR(40),\n",
    "    ccn VARCHAR(20),\n",
    "    validthru DATE,\n",
    "    userkey VARCHAR(6),\n",
    "    userpin VARCHAR(4),\n",
    "    quota SMALLINT\n",
    ")\n",
    "ROW FORMAT DELIMITED\n",
    "FIELDS TERMINATED BY ','\n",
    "STORED AS TEXTFILE\n",
    "LOCATION 'franquicias';\n",
    "\n",
    "SELECT * FROM franquicias LIMIT 5;"
   ]
  },
  {
   "cell_type": "code",
   "execution_count": 9,
   "metadata": {
    "scrolled": true
   },
   "outputs": [
    {
     "name": "stdout",
     "output_type": "stream",
     "text": [
      "DROP TABLE IF EXISTS bancos;\n",
      "OK\n",
      "Time taken: 0.006 seconds\n",
      "\n",
      "CREATE TABLE IF NOT EXISTS bancos (\n",
      "    id INT,\n",
      "    bank VARCHAR(40),\n",
      "    ccn VARCHAR(20),\n",
      "    ssn VARCHAR(15)\n",
      ")\n",
      "ROW FORMAT DELIMITED\n",
      "FIELDS TERMINATED BY ','\n",
      "STORED AS TEXTFILE\n",
      "LOCATION 'bancos';\n",
      "OK\n",
      "Time taken: 0.032 seconds\n",
      "\n",
      "SELECT * FROM bancos LIMIT 5;\n",
      "OK\n",
      "NULL\t3608-2596-5394-1054\t216-82-1048\tNULL\n",
      "NULL\t3608-1721-4951-1198\t116-81-1883\tNULL\n",
      "NULL\t3608-1395-5632-1976\t224-25-1891\tNULL\n",
      "NULL\t3608-1721-4005-1322\t116-51-1291\tNULL\n",
      "NULL\t3608-2181-5724-1476\t144-25-1448\tNULL\n",
      "Time taken: 0.105 seconds, Fetched: 5 row(s)\n"
     ]
    }
   ],
   "source": [
    "%%hive\n",
    "DROP TABLE IF EXISTS bancos;\n",
    "\n",
    "CREATE TABLE IF NOT EXISTS bancos (\n",
    "    id INT,\n",
    "    bank VARCHAR(40),\n",
    "    ccn VARCHAR(20),\n",
    "    ssn VARCHAR(15)\n",
    ")\n",
    "ROW FORMAT DELIMITED\n",
    "FIELDS TERMINATED BY ','\n",
    "STORED AS TEXTFILE\n",
    "LOCATION 'bancos';\n",
    "\n",
    "SELECT * FROM bancos LIMIT 5;"
   ]
  },
  {
   "cell_type": "markdown",
   "metadata": {},
   "source": [
    "También es posible insertar datos desde queries. La sintaxis sería la siguiente:\n",
    "\n",
    "    INSERT OVERWRITE TABLE bancos1\n",
    "    SELECT * FROM Bancos\n",
    "    WHERE .... ;\n",
    "    \n",
    "\n",
    "La clausula anterior es posible reescribirla como:\n",
    "\n",
    "    FROM Bancos se \n",
    "    INSERT OVERWRITE TABLE bancos1\n",
    "       SELECT * WEHRE ....\n",
    "    INSERT OVERWRITE TABLE bancos2\n",
    "       SELECT * WHERE ... ;\n",
    "       \n",
    "generando múltiples INSERT a tablas diferentes."
   ]
  },
  {
   "cell_type": "markdown",
   "metadata": {},
   "source": [
    "# Exportación de datos "
   ]
  },
  {
   "cell_type": "code",
   "execution_count": 10,
   "metadata": {},
   "outputs": [],
   "source": [
    "!mkdir bancos1"
   ]
  },
  {
   "cell_type": "markdown",
   "metadata": {},
   "source": [
    "Si el archivo requerido ya tiene el formato deseado, es posible copiarlo directamente del sistema de archivos. En caso contrario, puede usar un INSERT para realizar la conversión de formato."
   ]
  },
  {
   "cell_type": "code",
   "execution_count": 13,
   "metadata": {},
   "outputs": [
    {
     "name": "stdout",
     "output_type": "stream",
     "text": [
      "INSERT OVERWRITE LOCAL DIRECTORY 'bancos1'\n",
      "ROW FORMAT \n",
      "DELIMITED FIELDS TERMINATED BY ','\n",
      "SELECT * FROM bancos;\n",
      "Query ID = jdvelasq_20180906214744_781fed33-7f79-489b-8e66-86ac1e0c3d97\n",
      "Total jobs = 1\n",
      "Launching Job 1 out of 1\n",
      "Number of reduce tasks is set to 0 since there's no reduce operator\n",
      "Job running in-process (local Hadoop)\n",
      "2018-09-06 21:47:46,680 Stage-1 map = 100%,  reduce = 0%\n",
      "Ended Job = job_local75031346_0001\n",
      "Moving data to local directory bancos1\n",
      "MapReduce Jobs Launched: \n",
      "Stage-Stage-1:  HDFS Read: 0 HDFS Write: 0 SUCCESS\n",
      "Total MapReduce CPU Time Spent: 0 msec\n",
      "OK\n",
      "Time taken: 2.289 seconds\n"
     ]
    }
   ],
   "source": [
    "%%hive\n",
    "INSERT OVERWRITE LOCAL DIRECTORY 'bancos1'\n",
    "ROW FORMAT \n",
    "DELIMITED FIELDS TERMINATED BY ','\n",
    "SELECT * FROM bancos;"
   ]
  },
  {
   "cell_type": "code",
   "execution_count": 14,
   "metadata": {},
   "outputs": [
    {
     "name": "stdout",
     "output_type": "stream",
     "text": [
      "\\N,3608-2596-5394-1054,216-82-1048,\\N\n",
      "\\N,3608-1721-4951-1198,116-81-1883,\\N\n",
      "\\N,3608-1395-5632-1976,224-25-1891,\\N\n",
      "\\N,3608-1721-4005-1322,116-51-1291,\\N\n",
      "\\N,3608-2181-5724-1476,144-25-1448,\\N\n",
      "\\N,3608-2596-5634-1497,224-99-1262,\\N\n",
      "\\N,3608-1721-4236-1828,279-81-1912,\\N\n",
      "\\N,3608-2181-5030-1465,216-51-1025,\\N\n",
      "\\N,3608-1782-5015-1001,429-83-1156,\\N\n",
      "\\N,3608-2181-4711-1693,177-44-1054,\\N\n"
     ]
    }
   ],
   "source": [
    "!cat bancos1/* > bancos1.csv\n",
    "!head bancos1.csv"
   ]
  },
  {
   "cell_type": "markdown",
   "metadata": {},
   "source": [
    "Archivos CSV\n",
    "===\n",
    "\n",
    "**Juan David Velásquez Henao**  \n",
    "jdvelasq@unal.edu.co   \n",
    "Universidad Nacional de Colombia, Sede Medellín  \n",
    "Facultad de Minas  \n",
    "Medellín, Colombia\n",
    "\n",
    "---\n",
    "\n",
    "Haga click [aquí](https://github.com/jdvelasq/apache-hive-course) para acceder al repositorio en GitHub.\n",
    "\n",
    "Haga click [aquí](http://nbviewer.jupyter.org/github/jdvelasq/apache-hive-course/tree/master/) para explorar el repositorio usando en `nbviewer`. \n",
    "\n",
    "---"
   ]
  }
 ],
 "metadata": {
  "kernelspec": {
   "display_name": "Python 3",
   "language": "python",
   "name": "python3"
  },
  "language_info": {
   "codemirror_mode": {
    "name": "ipython",
    "version": 3
   },
   "file_extension": ".py",
   "mimetype": "text/x-python",
   "name": "python",
   "nbconvert_exporter": "python",
   "pygments_lexer": "ipython3",
   "version": "3.6.5"
  }
 },
 "nbformat": 4,
 "nbformat_minor": 2
}
