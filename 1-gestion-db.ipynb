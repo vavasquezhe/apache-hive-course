{
 "cells": [
  {
   "cell_type": "markdown",
   "metadata": {},
   "source": [
    "Gestión de las Bases de Datos\n",
    "===\n",
    "\n",
    "**Juan David Velásquez Henao**  \n",
    "jdvelasq@unal.edu.co   \n",
    "Universidad Nacional de Colombia, Sede Medellín  \n",
    "Facultad de Minas  \n",
    "Medellín, Colombia\n",
    "\n",
    "---\n",
    "\n",
    "Haga click [aquí](https://github.com/jdvelasq/apache-hive-course) para acceder al repositorio en GitHub.\n",
    "\n",
    "Haga click [aquí](http://nbviewer.jupyter.org/github/jdvelasq/apache-hive-course/tree/master/) para explorar el repositorio usando en `nbviewer`. "
   ]
  },
  {
   "cell_type": "markdown",
   "metadata": {},
   "source": [
    "---"
   ]
  },
  {
   "cell_type": "markdown",
   "metadata": {},
   "source": [
    "**Ejecución de Hive en la consola de comandos.--** Esta es la forma más común de trabajo. La bodega de datos debe ser creada en la carpeta donde se invocará `hive` con el siguiente comando:\n",
    "\n",
    "     $HIVE_HOME/bin/schematool -dbType derby -initSchema\n",
    "     \n",
    "Note que si invoca `hive` desde otra carpeta se generará un error. En otras palabras, use el comando anterior en la carpeta donde descargo esta serie de tutoriales para que los comandos puedan ejecutarse desde Jupyter.\n",
    "\n",
    "También es posible enviar comandos y salir inmediatamente de `hive`. Para ello, use la opción `-e`; por ejemplo, en Terminal digite:\n",
    "\n",
    "    hive -e \"SHOW DATABASES;\"\n",
    "    \n",
    "La opción `-S` corresponde al modo silencioso, en el que se suprime información adicional. En conjunción con el operador `>` hace posible la generación de archivos de texto con los resultados de la ejecución de uno o más comandos:\n",
    "\n",
    "    hive -S -e \"SELECT * FROM table LIMIT 3;\" > result.txt\n",
    "    \n",
    "    \n",
    "Adicionalmente, es posible almacenar secuencias de comandos en archivos (usualmente con extensión \".q\" o \".hql\" que pueden ejecutarse desde `hive`. En el prompt de `hive` use el comando `source`:\n",
    "\n",
    "    hive> source miprog.hql\n",
    "    \n",
    "    \n",
    "y en la línea de comandos\n",
    "\n",
    "    hive -S -e \"source miprog.hql\"\n",
    "\n",
    "\n"
   ]
  },
  {
   "cell_type": "markdown",
   "metadata": {},
   "source": [
    "**Ejecución de comandos del sistema operativo desde Hive.--** `hive` permite la ejecución de comandos del sistema operativo usando `!`; por ejemplo:\n",
    "\n",
    "     hive> ! ls\n",
    "     \n",
    "También es posible usar comandos del sistema HDFS; el comando `hadoop dfs -ls /` se escribiría en `hive` como\n",
    "\n",
    "     hive> dfs -ls / ;\n",
    "     "
   ]
  },
  {
   "cell_type": "markdown",
   "metadata": {},
   "source": [
    "**Comentarios.--** Se usan los dos guiones `--`."
   ]
  },
  {
   "cell_type": "markdown",
   "metadata": {},
   "source": [
    "**Ejecución de Hive en Jupyter.--** A continuación se describe como ejecutar comandos de Hive en Jupyter. El archivo `hivemagic.py` contiene el codigo para ejecutar comandos de Hive directamente en las celdas de un libro de Jupyter. Para instalar el magic, simplemente ejecute el código de dicho archivo.\n",
    "\n",
    "Modifique el archivo `hivemagic.py` indicando el directorio de instalación de Hive."
   ]
  },
  {
   "cell_type": "code",
   "execution_count": 1,
   "metadata": {},
   "outputs": [
    {
     "name": "stdout",
     "output_type": "stream",
     "text": [
      "SLF4J: Class path contains multiple SLF4J bindings.\n",
      "SLF4J: Found binding in [jar:file:/Users/jdvelasq/hive/lib/log4j-slf4j-impl-2.10.0.jar!/org/slf4j/impl/StaticLoggerBinder.class]\n",
      "SLF4J: Found binding in [jar:file:/Users/jdvelasq/hadoop/share/hadoop/common/lib/slf4j-log4j12-1.7.25.jar!/org/slf4j/impl/StaticLoggerBinder.class]\n",
      "SLF4J: See http://www.slf4j.org/codes.html#multiple_bindings for an explanation.\n",
      "SLF4J: Actual binding is of type [org.apache.logging.slf4j.Log4jLoggerFactory]\n",
      "Hive Session ID = a9c41b53-6d99-41df-a7cb-19d7c7983335\n",
      "\n",
      "Logging initialized using configuration in jar:file:/Users/jdvelasq/hive/lib/hive-common-3.1.0.jar!/hive-log4j2.properties Async: true\n",
      "Hive Session ID = 5cf2071b-29b2-4791-860a-16194ec10678\n",
      "Hive-on-MR is deprecated in Hive 2 and may not be available in the future versions. Consider using a different execution engine (i.e. spark, tez) or using Hive 1.X releases.\n",
      "\n"
     ]
    }
   ],
   "source": [
    "%run hivemagic.py"
   ]
  },
  {
   "cell_type": "markdown",
   "metadata": {},
   "source": [
    "---"
   ]
  },
  {
   "cell_type": "markdown",
   "metadata": {},
   "source": [
    "# Introducción"
   ]
  },
  {
   "cell_type": "markdown",
   "metadata": {},
   "source": [
    "La primera vez que se ejecuta Hive, crea en la carpeta actual, las carpetas:\n",
    "\n",
    "\n",
    "* metastore_db: contiene los metadatos\n",
    "\n",
    "\n",
    "* warehouse: contiene las bases de datos y las tablas"
   ]
  },
  {
   "cell_type": "markdown",
   "metadata": {},
   "source": [
    "**CREATE DATABASE**\n",
    "\n",
    "    CREATE (DATABASE|SCHEMA) [IF NOT EXISTS] database_name\n",
    "       [COMMENT database_comment]\n",
    "       [LOCATION hdfs_path]\n",
    "       [WITH DBPROPERTIES (property_name=property_value, ...)];"
   ]
  },
  {
   "cell_type": "code",
   "execution_count": 2,
   "metadata": {
    "scrolled": true
   },
   "outputs": [
    {
     "name": "stdout",
     "output_type": "stream",
     "text": [
      "-- \n",
      "-- Crea la base de datos mydb.\n",
      "--\n",
      "CREATE DATABASE mydb;\n",
      "OK\n",
      "Time taken: 0.985 seconds\n"
     ]
    }
   ],
   "source": [
    "%%hive\n",
    "-- \n",
    "-- Crea la base de datos mydb.\n",
    "--\n",
    "CREATE DATABASE mydb;"
   ]
  },
  {
   "cell_type": "code",
   "execution_count": 3,
   "metadata": {
    "scrolled": false
   },
   "outputs": [
    {
     "name": "stdout",
     "output_type": "stream",
     "text": [
      "--\n",
      "-- crea la base de datos mydb únicamente si no existe\n",
      "-- (note que aparece un warning)\n",
      "--\n",
      "CREATE DATABASE IF NOT EXISTS mydb COMMENT 'Database de prueba';\n",
      "OK\n",
      "Time taken: 0.009 seconds\n"
     ]
    }
   ],
   "source": [
    "%%hive\n",
    "--\n",
    "-- crea la base de datos mydb únicamente si no existe\n",
    "-- (note que aparece un warning)\n",
    "--\n",
    "CREATE DATABASE IF NOT EXISTS mydb COMMENT 'Database de prueba';"
   ]
  },
  {
   "cell_type": "markdown",
   "metadata": {},
   "source": [
    "---\n",
    "**Ejercicio.--** Describa el efecto del siguiente comando:\n",
    "  \n",
    "     CREATE DATABASE demo LOCATION ~/temp/directory ;\n",
    "     \n",
    "---"
   ]
  },
  {
   "cell_type": "markdown",
   "metadata": {},
   "source": [
    "**SHOW DATABASES**"
   ]
  },
  {
   "cell_type": "code",
   "execution_count": 4,
   "metadata": {
    "scrolled": false
   },
   "outputs": [
    {
     "name": "stdout",
     "output_type": "stream",
     "text": [
      "--\n",
      "-- muestra las bases de datos existentes\n",
      "-- \n",
      "SHOW DATABASES;\n",
      "OK\n",
      "db\n",
      "default\n",
      "mydb\n",
      "Time taken: 0.133 seconds, Fetched: 3 row(s)\n"
     ]
    }
   ],
   "source": [
    "%%hive\n",
    "--\n",
    "-- muestra las bases de datos existentes\n",
    "-- \n",
    "SHOW DATABASES;"
   ]
  },
  {
   "cell_type": "code",
   "execution_count": 5,
   "metadata": {},
   "outputs": [
    {
     "name": "stdout",
     "output_type": "stream",
     "text": [
      "SHOW DATABASES LIKE 'm*';\n",
      "OK\n",
      "mydb\n",
      "Time taken: 0.038 seconds, Fetched: 1 row(s)\n"
     ]
    }
   ],
   "source": [
    "%%hive\n",
    "SHOW DATABASES LIKE 'm*';"
   ]
  },
  {
   "cell_type": "markdown",
   "metadata": {},
   "source": [
    "**USE**"
   ]
  },
  {
   "cell_type": "code",
   "execution_count": 6,
   "metadata": {},
   "outputs": [
    {
     "name": "stdout",
     "output_type": "stream",
     "text": [
      "--\n",
      "-- Se conecta a la base de datos llamada mydb\n",
      "--\n",
      "USE mydb;\n",
      "OK\n",
      "Time taken: 0.008 seconds\n"
     ]
    }
   ],
   "source": [
    "%%hive\n",
    "--\n",
    "-- Se conecta a la base de datos llamada mydb\n",
    "--\n",
    "USE mydb;"
   ]
  },
  {
   "cell_type": "markdown",
   "metadata": {},
   "source": [
    "---\n",
    "**Ejercicio.--** Cuál es el resultado de los siguientes comandos:\n",
    "\n",
    "    DESCRIBE DATABASE mydb;\n",
    "    \n",
    "    DESCRIBE DATABASE EXTENDED mydb;\n",
    "    \n",
    "---"
   ]
  },
  {
   "cell_type": "markdown",
   "metadata": {},
   "source": [
    "**DROP DATABASE**\n",
    "\n",
    "    DROP (DATABASE|SCHEMA) [IF EXISTS] database_name [RESTRICT|CASCADE];\n",
    "    \n",
    "Por defecto se usa RESTRICT; esta opción genera un error si la base de datos no esta vacía. Si desea borrar también las tablas use la opción CASCADE.   "
   ]
  },
  {
   "cell_type": "code",
   "execution_count": 7,
   "metadata": {
    "scrolled": true
   },
   "outputs": [
    {
     "name": "stdout",
     "output_type": "stream",
     "text": [
      "--\n",
      "-- Borra la base de datos\n",
      "--\n",
      "DROP DATABASE IF EXISTS mydb CASCADE;\n",
      "OK\n",
      "Time taken: 0.152 seconds\n",
      "SHOW DATABASES;\n",
      "OK\n",
      "db\n",
      "default\n",
      "Time taken: 0.029 seconds, Fetched: 2 row(s)\n"
     ]
    }
   ],
   "source": [
    "%%hive\n",
    "--\n",
    "-- Borra la base de datos\n",
    "--\n",
    "DROP DATABASE IF EXISTS mydb CASCADE;\n",
    "SHOW DATABASES;"
   ]
  },
  {
   "cell_type": "markdown",
   "metadata": {},
   "source": [
    "---\n",
    "**Ejercicio.--** Cuál es el significado de la opción CASCADE?.\n",
    "\n",
    "**Ejercicio.--** Cree las bases de datos llamadas db1 y db2.\n",
    "\n",
    "**Ejercicio.--** Conectese a la base de datos db1.\n",
    "\n",
    "**Ejercicio.--** Conectese a la base de datos db2.\n",
    "\n",
    "**Ejercicio.--** Borre las bases de datos db1 y db2.\n",
    "\n",
    "---"
   ]
  },
  {
   "cell_type": "markdown",
   "metadata": {},
   "source": [
    "Gestión de las Bases de Datos\n",
    "===\n",
    "\n",
    "**Juan David Velásquez Henao**  \n",
    "jdvelasq@unal.edu.co   \n",
    "Universidad Nacional de Colombia, Sede Medellín  \n",
    "Facultad de Minas  \n",
    "Medellín, Colombia\n",
    "\n",
    "---\n",
    "\n",
    "Haga click [aquí](https://github.com/jdvelasq/apache-hive-course) para acceder al repositorio en GitHub.\n",
    "\n",
    "Haga click [aquí](http://nbviewer.jupyter.org/github/jdvelasq/apache-hive-course/tree/master/) para explorar el repositorio usando en `nbviewer`. \n",
    "\n",
    "---"
   ]
  }
 ],
 "metadata": {
  "kernelspec": {
   "display_name": "Python 3",
   "language": "python",
   "name": "python3"
  },
  "language_info": {
   "codemirror_mode": {
    "name": "ipython",
    "version": 3
   },
   "file_extension": ".py",
   "mimetype": "text/x-python",
   "name": "python",
   "nbconvert_exporter": "python",
   "pygments_lexer": "ipython3",
   "version": "3.6.5"
  }
 },
 "nbformat": 4,
 "nbformat_minor": 2
}
