{
 "cells": [
  {
   "cell_type": "markdown",
   "metadata": {},
   "source": [
    "Consultas\n",
    "===\n",
    "\n",
    "**Juan David Velásquez Henao**  \n",
    "jdvelasq@unal.edu.co   \n",
    "Universidad Nacional de Colombia, Sede Medellín  \n",
    "Facultad de Minas  \n",
    "Medellín, Colombia\n",
    "\n",
    "---\n",
    "\n",
    "Haga click [aquí](https://github.com/jdvelasq/apache-hive-course) para acceder al repositorio en GitHub.\n",
    "\n",
    "Haga click [aquí](http://nbviewer.jupyter.org/github/jdvelasq/apache-hive-course/tree/master/) para explorar el repositorio usando en `nbviewer`. "
   ]
  },
  {
   "cell_type": "markdown",
   "metadata": {},
   "source": [
    "---"
   ]
  },
  {
   "cell_type": "code",
   "execution_count": 1,
   "metadata": {},
   "outputs": [
    {
     "name": "stdout",
     "output_type": "stream",
     "text": [
      "SLF4J: Class path contains multiple SLF4J bindings.\n",
      "SLF4J: Found binding in [jar:file:/Users/jdvelasq/hive/lib/log4j-slf4j-impl-2.10.0.jar!/org/slf4j/impl/StaticLoggerBinder.class]\n",
      "SLF4J: Found binding in [jar:file:/Users/jdvelasq/hadoop/share/hadoop/common/lib/slf4j-log4j12-1.7.25.jar!/org/slf4j/impl/StaticLoggerBinder.class]\n",
      "SLF4J: See http://www.slf4j.org/codes.html#multiple_bindings for an explanation.\n",
      "SLF4J: Actual binding is of type [org.apache.logging.slf4j.Log4jLoggerFactory]\n",
      "Hive Session ID = 19249a77-ea69-45af-a095-5df4d56ad134\n",
      "\n",
      "Logging initialized using configuration in jar:file:/Users/jdvelasq/hive/lib/hive-common-3.1.0.jar!/hive-log4j2.properties Async: true\n",
      "Hive Session ID = ac756863-8898-4199-b152-f2812d554940\n",
      "Hive-on-MR is deprecated in Hive 2 and may not be available in the future versions. Consider using a different execution engine (i.e. spark, tez) or using Hive 1.X releases.\n",
      "\n"
     ]
    }
   ],
   "source": [
    "%run hivemagic.py"
   ]
  },
  {
   "cell_type": "markdown",
   "metadata": {},
   "source": [
    "---"
   ]
  },
  {
   "cell_type": "markdown",
   "metadata": {},
   "source": [
    "**Preparación de datos.**"
   ]
  },
  {
   "cell_type": "code",
   "execution_count": 2,
   "metadata": {},
   "outputs": [
    {
     "name": "stdout",
     "output_type": "stream",
     "text": [
      "DROP DATABASE IF EXISTS SQLdb CASCADE;\n",
      "OK\n",
      "Time taken: 1.569 seconds\n",
      "\n",
      "CREATE DATABASE SQLdb;\n",
      "OK\n",
      "Time taken: 0.091 seconds\n",
      "USE SQLdb;\n",
      "OK\n",
      "Time taken: 0.008 seconds\n",
      "\n",
      "CREATE TABLE IF NOT EXISTS personas (\n",
      "    ssn VARCHAR(11),\n",
      "    phone VARCHAR(14),\n",
      "    city VARCHAR(40),\n",
      "    maritalstatus VARCHAR(10),\n",
      "    fullname VARCHAR(40),\n",
      "    birthdate DATE\n",
      ")\n",
      "ROW FORMAT DELIMITED\n",
      "FIELDS TERMINATED BY ','\n",
      "STORED AS TEXTFILE\n",
      "LOCATION 'files/SQL-personas';\n",
      "OK\n",
      "Time taken: 0.176 seconds\n",
      "\n",
      "\n",
      "CREATE TABLE IF NOT EXISTS bancos (\n",
      "    bank VARCHAR(40),\n",
      "    ccn VARCHAR(20),\n",
      "    ssn VARCHAR(15)\n",
      ")\n",
      "ROW FORMAT DELIMITED\n",
      "FIELDS TERMINATED BY ','\n",
      "STORED AS TEXTFILE\n",
      "LOCATION 'files/SQL-bancos';\n",
      "OK\n",
      "Time taken: 0.03 seconds\n",
      "\n",
      "\n",
      "CREATE EXTERNAL TABLE IF NOT EXISTS franquicias (\n",
      "    ccntype VARCHAR(40),\n",
      "    ccn VARCHAR(20),\n",
      "    validthru DATE,\n",
      "    userkey VARCHAR(6),\n",
      "    userpin VARCHAR(4),\n",
      "    quota SMALLINT\n",
      ")\n",
      "ROW FORMAT DELIMITED\n",
      "FIELDS TERMINATED BY ','\n",
      "STORED AS TEXTFILE\n",
      "LOCATION 'files/SQL-franquicias';\n",
      "OK\n",
      "Time taken: 0.033 seconds\n",
      "\n",
      "\n"
     ]
    }
   ],
   "source": [
    "%%hive\n",
    "DROP DATABASE IF EXISTS SQLdb CASCADE;\n",
    "\n",
    "CREATE DATABASE SQLdb;\n",
    "USE SQLdb;\n",
    "\n",
    "CREATE TABLE IF NOT EXISTS personas (\n",
    "    ssn VARCHAR(11),\n",
    "    phone VARCHAR(14),\n",
    "    city VARCHAR(40),\n",
    "    maritalstatus VARCHAR(10),\n",
    "    fullname VARCHAR(40),\n",
    "    birthdate DATE\n",
    ")\n",
    "ROW FORMAT DELIMITED\n",
    "FIELDS TERMINATED BY ','\n",
    "STORED AS TEXTFILE\n",
    "LOCATION 'files/SQL-personas';\n",
    "\n",
    "\n",
    "CREATE TABLE IF NOT EXISTS bancos (\n",
    "    bank VARCHAR(40),\n",
    "    ccn VARCHAR(20),\n",
    "    ssn VARCHAR(15)\n",
    ")\n",
    "ROW FORMAT DELIMITED\n",
    "FIELDS TERMINATED BY ','\n",
    "STORED AS TEXTFILE\n",
    "LOCATION 'files/SQL-bancos';\n",
    "\n",
    "\n",
    "CREATE EXTERNAL TABLE IF NOT EXISTS franquicias (\n",
    "    ccntype VARCHAR(40),\n",
    "    ccn VARCHAR(20),\n",
    "    validthru DATE,\n",
    "    userkey VARCHAR(6),\n",
    "    userpin VARCHAR(4),\n",
    "    quota SMALLINT\n",
    ")\n",
    "ROW FORMAT DELIMITED\n",
    "FIELDS TERMINATED BY ','\n",
    "STORED AS TEXTFILE\n",
    "LOCATION 'files/SQL-franquicias';\n",
    "\n",
    "\n"
   ]
  },
  {
   "cell_type": "code",
   "execution_count": 3,
   "metadata": {},
   "outputs": [
    {
     "name": "stdout",
     "output_type": "stream",
     "text": [
      "SELECT * FROM personas;\n",
      "OK\n",
      "216-51-1025\t(09)-5580-7527\tMemphis (Tennessee)\tSingle\tMarco Goodman\t1988-06-30\n",
      "116-51-1291\t(07)-2905-7818\tBuffalo (New York)\tMarried\tRoxanne Kerns\t1974-11-27\n",
      "177-44-1159\t(09)-5062-6922\tDetroit (Michigan)\tSingle\tRegina Lauritzen\t1969-07-27\n",
      "116-81-1883\t(03)-1350-7402\tChandler (Arizona)\tDivorced\tHoward Samsel\t1989-11-26\n",
      "429-83-1156\t(09)-5794-9470\tScottsdale (Arizona)\tMarried\tGabriel Kingston\t1978-05-05\n",
      "381-54-1605\t(05)-5330-5036\tAlbuquerque (New Mexico)\tSingle\tCarrie Bigelow\t1982-05-02\n",
      "224-99-1262\t(05)-3339-3262\tMilwaukee (Wisconsin)\tMarried\tNichelle Thaxton\t1988-01-02\n",
      "301-25-1394\t(07)-4370-8507\tHouston (Texas)\tSingle\tJoaquin Yap\t1972-11-12\n",
      "323-51-1535\t(03)-5179-6500\tLas Vegas (Nevada)\tMarried\tYu Kittredge\t1978-01-22\n",
      "216-85-1367\t(07)-2905-9114\tSaint Paul (Minnesota)\tDivorced\tTania Raley\t1973-12-16\n",
      "166-82-1605\t(09)-6473-4208\tIrvine (California)\tMarried\tDemetrius Fry\t1975-03-27\n",
      "116-54-1259\t(04)-3468-6535\tSan Bernardino (California)\tDivorced\tJake Vansant\t1980-02-01\n",
      "224-55-1496\t(03)-8685-6502\tAurora (Colorado)\tCommon-Law\tTamesha Lawlor\t1983-10-02\n",
      "177-44-1054\t(08)-5902-5867\tEl Paso (Texas)\tSingle\tMillie Lasher\t1976-03-29\n",
      "320-54-1856\t(04)-3858-1079\tHouston (Texas)\tDivorced\tLilly Macdonald\t1983-09-07\n",
      "144-25-1448\t(09)-5179-2725\tDurham (North Carolina)\tDivorced\tGerald Glynn\t1985-07-07\n",
      "144-54-1840\t(03)-7508-9910\tOrlando (Florida)\tSingle\tFelipe Malpass\t1982-06-08\n",
      "224-25-1891\t(05)-9333-5713\tLas Vegas (Nevada)\tDivorced\tWallace Lowery\t1971-12-19\n",
      "216-82-1048\t(04)-1199-9661\tLas Vegas (Nevada)\tMarried\tPedro Welch\t1972-05-07\n",
      "116-93-1394\t(05)-9333-4606\tTampa (Florida)\tMarried\tBetty Fitzhugh\t1973-08-12\n",
      "279-81-1912\t(08)-2905-8942\tWinston–Salem (North Carolina)\tSingle\tLauren Seifert\t1977-10-07\n",
      "425-82-1851\t(03)-5794-3345\tAurora (Colorado)\tMarried\tLivia Castillo\t1972-02-26\n",
      "339-74-1545\t(08)-4858-6766\tAtlanta (Georgia)\tMarried\tLeland Scully\t1975-07-25\n",
      "368-83-1054\t(05)-7508-4870\tOmaha (Nebraska)\tMarried\tElton Castellanos\t1975-10-08\n",
      "339-82-1442\t(09)-5854-7191\tHenderson (Nevada)\tSingle\tSondra Pike\t1980-06-25\n",
      "391-55-1442\t(05)-6865-1079\tBaton Rouge (Louisiana)\tDivorced\tLaquita Murrin\t1984-04-21\n",
      "177-23-1359\t(07)-5854-6781\tSt. Louis (Missouri)\tSingle\tGigi Ragland\t1977-01-27\n",
      "238-81-1227\t(03)-9999-9910\tLaredo (Texas)\tCommon-Law\tRonald Signorelli\t1977-06-13\n",
      "287-74-1145\t(03)-5794-9130\tFremont (California)\tSingle\tWilson Upshaw\t1976-02-21\n",
      "Time taken: 1.262 seconds, Fetched: 29 row(s)\n"
     ]
    }
   ],
   "source": [
    "%%hive\n",
    "SELECT * FROM personas;"
   ]
  },
  {
   "cell_type": "markdown",
   "metadata": {},
   "source": [
    "---"
   ]
  },
  {
   "cell_type": "markdown",
   "metadata": {},
   "source": [
    "**SELECT**\n",
    "\n",
    "    SELECT what FROM tbl_name [WHERE where-conditions] [ORDER BY column_name];\n"
   ]
  },
  {
   "cell_type": "code",
   "execution_count": 5,
   "metadata": {},
   "outputs": [
    {
     "name": "stdout",
     "output_type": "stream",
     "text": [
      "--\n",
      "-- Este es el comando básico para visualizar el contenido de la BD\n",
      "--\n",
      "SELECT * FROM personas;\n",
      "OK\n",
      "216-51-1025\t(09)-5580-7527\tMemphis (Tennessee)\tSingle\tMarco Goodman\t1988-06-30\n",
      "116-51-1291\t(07)-2905-7818\tBuffalo (New York)\tMarried\tRoxanne Kerns\t1974-11-27\n",
      "177-44-1159\t(09)-5062-6922\tDetroit (Michigan)\tSingle\tRegina Lauritzen\t1969-07-27\n",
      "116-81-1883\t(03)-1350-7402\tChandler (Arizona)\tDivorced\tHoward Samsel\t1989-11-26\n",
      "429-83-1156\t(09)-5794-9470\tScottsdale (Arizona)\tMarried\tGabriel Kingston\t1978-05-05\n",
      "381-54-1605\t(05)-5330-5036\tAlbuquerque (New Mexico)\tSingle\tCarrie Bigelow\t1982-05-02\n",
      "224-99-1262\t(05)-3339-3262\tMilwaukee (Wisconsin)\tMarried\tNichelle Thaxton\t1988-01-02\n",
      "301-25-1394\t(07)-4370-8507\tHouston (Texas)\tSingle\tJoaquin Yap\t1972-11-12\n",
      "323-51-1535\t(03)-5179-6500\tLas Vegas (Nevada)\tMarried\tYu Kittredge\t1978-01-22\n",
      "216-85-1367\t(07)-2905-9114\tSaint Paul (Minnesota)\tDivorced\tTania Raley\t1973-12-16\n",
      "166-82-1605\t(09)-6473-4208\tIrvine (California)\tMarried\tDemetrius Fry\t1975-03-27\n",
      "116-54-1259\t(04)-3468-6535\tSan Bernardino (California)\tDivorced\tJake Vansant\t1980-02-01\n",
      "224-55-1496\t(03)-8685-6502\tAurora (Colorado)\tCommon-Law\tTamesha Lawlor\t1983-10-02\n",
      "177-44-1054\t(08)-5902-5867\tEl Paso (Texas)\tSingle\tMillie Lasher\t1976-03-29\n",
      "320-54-1856\t(04)-3858-1079\tHouston (Texas)\tDivorced\tLilly Macdonald\t1983-09-07\n",
      "144-25-1448\t(09)-5179-2725\tDurham (North Carolina)\tDivorced\tGerald Glynn\t1985-07-07\n",
      "144-54-1840\t(03)-7508-9910\tOrlando (Florida)\tSingle\tFelipe Malpass\t1982-06-08\n",
      "224-25-1891\t(05)-9333-5713\tLas Vegas (Nevada)\tDivorced\tWallace Lowery\t1971-12-19\n",
      "216-82-1048\t(04)-1199-9661\tLas Vegas (Nevada)\tMarried\tPedro Welch\t1972-05-07\n",
      "116-93-1394\t(05)-9333-4606\tTampa (Florida)\tMarried\tBetty Fitzhugh\t1973-08-12\n",
      "279-81-1912\t(08)-2905-8942\tWinston–Salem (North Carolina)\tSingle\tLauren Seifert\t1977-10-07\n",
      "425-82-1851\t(03)-5794-3345\tAurora (Colorado)\tMarried\tLivia Castillo\t1972-02-26\n",
      "339-74-1545\t(08)-4858-6766\tAtlanta (Georgia)\tMarried\tLeland Scully\t1975-07-25\n",
      "368-83-1054\t(05)-7508-4870\tOmaha (Nebraska)\tMarried\tElton Castellanos\t1975-10-08\n",
      "339-82-1442\t(09)-5854-7191\tHenderson (Nevada)\tSingle\tSondra Pike\t1980-06-25\n",
      "391-55-1442\t(05)-6865-1079\tBaton Rouge (Louisiana)\tDivorced\tLaquita Murrin\t1984-04-21\n",
      "177-23-1359\t(07)-5854-6781\tSt. Louis (Missouri)\tSingle\tGigi Ragland\t1977-01-27\n",
      "238-81-1227\t(03)-9999-9910\tLaredo (Texas)\tCommon-Law\tRonald Signorelli\t1977-06-13\n",
      "287-74-1145\t(03)-5794-9130\tFremont (California)\tSingle\tWilson Upshaw\t1976-02-21\n",
      "Time taken: 0.099 seconds, Fetched: 29 row(s)\n"
     ]
    }
   ],
   "source": [
    "%%hive\n",
    "--\n",
    "-- Este es el comando básico para visualizar el contenido de la BD\n",
    "--\n",
    "SELECT * FROM personas;"
   ]
  },
  {
   "cell_type": "code",
   "execution_count": 6,
   "metadata": {},
   "outputs": [
    {
     "name": "stdout",
     "output_type": "stream",
     "text": [
      "--\n",
      "-- Se limita la cantidad de registros a visualizar.\n",
      "--\n",
      "SELECT * FROM personas LIMIT 2;\n",
      "OK\n",
      "216-51-1025\t(09)-5580-7527\tMemphis (Tennessee)\tSingle\tMarco Goodman\t1988-06-30\n",
      "116-51-1291\t(07)-2905-7818\tBuffalo (New York)\tMarried\tRoxanne Kerns\t1974-11-27\n",
      "Time taken: 0.106 seconds, Fetched: 2 row(s)\n"
     ]
    }
   ],
   "source": [
    "%%hive\n",
    "--\n",
    "-- Se limita la cantidad de registros a visualizar.\n",
    "--\n",
    "SELECT * FROM personas LIMIT 2;"
   ]
  },
  {
   "cell_type": "code",
   "execution_count": 7,
   "metadata": {},
   "outputs": [
    {
     "name": "stdout",
     "output_type": "stream",
     "text": [
      "--\n",
      "-- Este comando permite ver los registro únicos de un campo.\n",
      "--\n",
      "SELECT DISTINCT maritalstatus FROM personas;\n",
      "Query ID = jdvelasq_20180909214744_7cfafc15-8e94-414c-aead-3a13b8d31469\n",
      "Total jobs = 1\n",
      "Launching Job 1 out of 1\n",
      "Number of reduce tasks not specified. Estimated from input data size: 1\n",
      "In order to change the average load for a reducer (in bytes):\n",
      "  set hive.exec.reducers.bytes.per.reducer=<number>\n",
      "In order to limit the maximum number of reducers:\n",
      "  set hive.exec.reducers.max=<number>\n",
      "In order to set a constant number of reducers:\n",
      "  set mapreduce.job.reduces=<number>\n",
      "Job running in-process (local Hadoop)\n",
      "2018-09-09 21:47:47,242 Stage-1 map = 100%,  reduce = 100%\n",
      "Ended Job = job_local611960578_0001\n",
      "MapReduce Jobs Launched: \n",
      "Stage-Stage-1:  HDFS Read: 0 HDFS Write: 0 SUCCESS\n",
      "Total MapReduce CPU Time Spent: 0 msec\n",
      "OK\n",
      "Common-Law\n",
      "Divorced\n",
      "Married\n",
      "Single\n",
      "Time taken: 2.508 seconds, Fetched: 4 row(s)\n"
     ]
    }
   ],
   "source": [
    "%%hive\n",
    "--\n",
    "-- Este comando permite ver los registro únicos de un campo.\n",
    "--\n",
    "SELECT DISTINCT maritalstatus FROM personas;"
   ]
  },
  {
   "cell_type": "code",
   "execution_count": 8,
   "metadata": {
    "scrolled": false
   },
   "outputs": [
    {
     "name": "stdout",
     "output_type": "stream",
     "text": [
      "--\n",
      "-- Se indica que campos se desean seleccionar.\n",
      "--\n",
      "SELECT ssn, fullname FROM personas;\n",
      "OK\n",
      "216-51-1025\tMarco Goodman\n",
      "116-51-1291\tRoxanne Kerns\n",
      "177-44-1159\tRegina Lauritzen\n",
      "116-81-1883\tHoward Samsel\n",
      "429-83-1156\tGabriel Kingston\n",
      "381-54-1605\tCarrie Bigelow\n",
      "224-99-1262\tNichelle Thaxton\n",
      "301-25-1394\tJoaquin Yap\n",
      "323-51-1535\tYu Kittredge\n",
      "216-85-1367\tTania Raley\n",
      "166-82-1605\tDemetrius Fry\n",
      "116-54-1259\tJake Vansant\n",
      "224-55-1496\tTamesha Lawlor\n",
      "177-44-1054\tMillie Lasher\n",
      "320-54-1856\tLilly Macdonald\n",
      "144-25-1448\tGerald Glynn\n",
      "144-54-1840\tFelipe Malpass\n",
      "224-25-1891\tWallace Lowery\n",
      "216-82-1048\tPedro Welch\n",
      "116-93-1394\tBetty Fitzhugh\n",
      "279-81-1912\tLauren Seifert\n",
      "425-82-1851\tLivia Castillo\n",
      "339-74-1545\tLeland Scully\n",
      "368-83-1054\tElton Castellanos\n",
      "339-82-1442\tSondra Pike\n",
      "391-55-1442\tLaquita Murrin\n",
      "177-23-1359\tGigi Ragland\n",
      "238-81-1227\tRonald Signorelli\n",
      "287-74-1145\tWilson Upshaw\n",
      "Time taken: 0.236 seconds, Fetched: 29 row(s)\n"
     ]
    }
   ],
   "source": [
    "%%hive\n",
    "--\n",
    "-- Se indica que campos se desean seleccionar.\n",
    "--\n",
    "SELECT ssn, fullname FROM personas;"
   ]
  },
  {
   "cell_type": "code",
   "execution_count": 11,
   "metadata": {},
   "outputs": [
    {
     "name": "stdout",
     "output_type": "stream",
     "text": [
      "--\n",
      "-- Expresiones regulares en los nombres\n",
      "--\n",
      "SELECT 's*' FROM personas;\n",
      "OK\n",
      "s*\n",
      "s*\n",
      "s*\n",
      "s*\n",
      "s*\n",
      "s*\n",
      "s*\n",
      "s*\n",
      "s*\n",
      "s*\n",
      "s*\n",
      "s*\n",
      "s*\n",
      "s*\n",
      "s*\n",
      "s*\n",
      "s*\n",
      "s*\n",
      "s*\n",
      "s*\n",
      "s*\n",
      "s*\n",
      "s*\n",
      "s*\n",
      "s*\n",
      "s*\n",
      "s*\n",
      "s*\n",
      "s*\n",
      "Time taken: 0.083 seconds, Fetched: 29 row(s)\n"
     ]
    }
   ],
   "source": [
    "%%hive\n",
    "--\n",
    "-- Expresiones regulares en los nombres\n",
    "--\n",
    "SELECT 's*' FROM personas;"
   ]
  },
  {
   "cell_type": "code",
   "execution_count": 13,
   "metadata": {},
   "outputs": [
    {
     "name": "stdout",
     "output_type": "stream",
     "text": [
      "--\n",
      "-- También es posible usar funciones y realizar cómputos con los\n",
      "-- valores de las columnas\n",
      "--\n",
      "SELECT upper(fullname) FROM personas;\n",
      "OK\n",
      "MARCO GOODMAN\n",
      "ROXANNE KERNS\n",
      "REGINA LAURITZEN\n",
      "HOWARD SAMSEL\n",
      "GABRIEL KINGSTON\n",
      "CARRIE BIGELOW\n",
      "NICHELLE THAXTON\n",
      "JOAQUIN YAP\n",
      "YU KITTREDGE\n",
      "TANIA RALEY\n",
      "DEMETRIUS FRY\n",
      "JAKE VANSANT\n",
      "TAMESHA LAWLOR\n",
      "MILLIE LASHER\n",
      "LILLY MACDONALD\n",
      "GERALD GLYNN\n",
      "FELIPE MALPASS\n",
      "WALLACE LOWERY\n",
      "PEDRO WELCH\n",
      "BETTY FITZHUGH\n",
      "LAUREN SEIFERT\n",
      "LIVIA CASTILLO\n",
      "LELAND SCULLY\n",
      "ELTON CASTELLANOS\n",
      "SONDRA PIKE\n",
      "LAQUITA MURRIN\n",
      "GIGI RAGLAND\n",
      "RONALD SIGNORELLI\n",
      "WILSON UPSHAW\n",
      "Time taken: 0.31 seconds, Fetched: 29 row(s)\n"
     ]
    }
   ],
   "source": [
    "%%hive\n",
    "--\n",
    "-- También es posible usar funciones y realizar cómputos con los\n",
    "-- valores de las columnas\n",
    "--\n",
    "SELECT upper(fullname) FROM personas;"
   ]
  },
  {
   "cell_type": "markdown",
   "metadata": {},
   "source": [
    "---\n",
    "**Ejercicio.--** Cuáles funciones se pueden aplicar en `Hive` en una clausula SELECT?.\n",
    "\n",
    "**Ejercicio.--** Qué función cumplen las siguientes funciones en una clausula SELECT?\n",
    "\n",
    "* `explode`.\n",
    "\n",
    "\n",
    "* `json_tuple`.\n",
    "\n",
    "\n",
    "* `parse_url_tuple`.\n",
    "\n",
    "\n",
    "* `stack`\n",
    "\n",
    "---"
   ]
  },
  {
   "cell_type": "markdown",
   "metadata": {},
   "source": [
    "**WHERE**"
   ]
  },
  {
   "cell_type": "code",
   "execution_count": 14,
   "metadata": {},
   "outputs": [
    {
     "name": "stdout",
     "output_type": "stream",
     "text": [
      "--\n",
      "-- Condicional.\n",
      "--\n",
      "SELECT * FROM personas WHERE birthdate >= \"1974-01-01\";\n",
      "OK\n",
      "216-51-1025\t(09)-5580-7527\tMemphis (Tennessee)\tSingle\tMarco Goodman\t1988-06-30\n",
      "116-51-1291\t(07)-2905-7818\tBuffalo (New York)\tMarried\tRoxanne Kerns\t1974-11-27\n",
      "116-81-1883\t(03)-1350-7402\tChandler (Arizona)\tDivorced\tHoward Samsel\t1989-11-26\n",
      "429-83-1156\t(09)-5794-9470\tScottsdale (Arizona)\tMarried\tGabriel Kingston\t1978-05-05\n",
      "381-54-1605\t(05)-5330-5036\tAlbuquerque (New Mexico)\tSingle\tCarrie Bigelow\t1982-05-02\n",
      "224-99-1262\t(05)-3339-3262\tMilwaukee (Wisconsin)\tMarried\tNichelle Thaxton\t1988-01-02\n",
      "323-51-1535\t(03)-5179-6500\tLas Vegas (Nevada)\tMarried\tYu Kittredge\t1978-01-22\n",
      "166-82-1605\t(09)-6473-4208\tIrvine (California)\tMarried\tDemetrius Fry\t1975-03-27\n",
      "116-54-1259\t(04)-3468-6535\tSan Bernardino (California)\tDivorced\tJake Vansant\t1980-02-01\n",
      "224-55-1496\t(03)-8685-6502\tAurora (Colorado)\tCommon-Law\tTamesha Lawlor\t1983-10-02\n",
      "177-44-1054\t(08)-5902-5867\tEl Paso (Texas)\tSingle\tMillie Lasher\t1976-03-29\n",
      "320-54-1856\t(04)-3858-1079\tHouston (Texas)\tDivorced\tLilly Macdonald\t1983-09-07\n",
      "144-25-1448\t(09)-5179-2725\tDurham (North Carolina)\tDivorced\tGerald Glynn\t1985-07-07\n",
      "144-54-1840\t(03)-7508-9910\tOrlando (Florida)\tSingle\tFelipe Malpass\t1982-06-08\n",
      "279-81-1912\t(08)-2905-8942\tWinston–Salem (North Carolina)\tSingle\tLauren Seifert\t1977-10-07\n",
      "339-74-1545\t(08)-4858-6766\tAtlanta (Georgia)\tMarried\tLeland Scully\t1975-07-25\n",
      "368-83-1054\t(05)-7508-4870\tOmaha (Nebraska)\tMarried\tElton Castellanos\t1975-10-08\n",
      "339-82-1442\t(09)-5854-7191\tHenderson (Nevada)\tSingle\tSondra Pike\t1980-06-25\n",
      "391-55-1442\t(05)-6865-1079\tBaton Rouge (Louisiana)\tDivorced\tLaquita Murrin\t1984-04-21\n",
      "177-23-1359\t(07)-5854-6781\tSt. Louis (Missouri)\tSingle\tGigi Ragland\t1977-01-27\n",
      "238-81-1227\t(03)-9999-9910\tLaredo (Texas)\tCommon-Law\tRonald Signorelli\t1977-06-13\n",
      "287-74-1145\t(03)-5794-9130\tFremont (California)\tSingle\tWilson Upshaw\t1976-02-21\n",
      "Time taken: 0.127 seconds, Fetched: 22 row(s)\n"
     ]
    }
   ],
   "source": [
    "%%hive\n",
    "--\n",
    "-- Condicional.\n",
    "--\n",
    "SELECT * FROM personas WHERE birthdate >= \"1974-01-01\";"
   ]
  },
  {
   "cell_type": "markdown",
   "metadata": {},
   "source": [
    "La función LIKE permite buscar patrones específicos dentro de cadenas de caracteres.\n",
    "\n",
    "    > LIKE 'a%'   : Encuentra los valores que inician con 'a'\n",
    "    > LIKE '%a'   : Encuentra los valores que terminan con 'a'\n",
    "    > LIKE '%a%'  : Encuentra los valores que contengan 'a' en cualquier posición\n",
    "    > LIKE '_a%'  : Encuentra los valores que contengan 'a' en la segunda posición\n",
    "    > LIKE 'a_%_%': Encuentra los valores que inician con 'a' y tienen al menos 3 caracteres\n",
    "    > LIKE 'a%o'  : Encuentra los valores que inician con 'a' y terminan con 'o'"
   ]
  },
  {
   "cell_type": "markdown",
   "metadata": {},
   "source": [
    "---\n",
    "**Ejercicio.--** Que significa el comando `RLIKE` que soporta Hive?\n",
    "\n",
    "---"
   ]
  },
  {
   "cell_type": "code",
   "execution_count": 15,
   "metadata": {},
   "outputs": [
    {
     "name": "stdout",
     "output_type": "stream",
     "text": [
      "--\n",
      "-- Condicional para cadenas de caracteres.\n",
      "--\n",
      "SELECT * FROM personas WHERE fullname LIKE \"R%\";\n",
      "OK\n",
      "116-51-1291\t(07)-2905-7818\tBuffalo (New York)\tMarried\tRoxanne Kerns\t1974-11-27\n",
      "177-44-1159\t(09)-5062-6922\tDetroit (Michigan)\tSingle\tRegina Lauritzen\t1969-07-27\n",
      "238-81-1227\t(03)-9999-9910\tLaredo (Texas)\tCommon-Law\tRonald Signorelli\t1977-06-13\n",
      "Time taken: 0.092 seconds, Fetched: 3 row(s)\n"
     ]
    }
   ],
   "source": [
    "%%hive\n",
    "--\n",
    "-- Condicional para cadenas de caracteres.\n",
    "--\n",
    "SELECT * FROM personas WHERE fullname LIKE \"R%\";"
   ]
  },
  {
   "cell_type": "code",
   "execution_count": 16,
   "metadata": {},
   "outputs": [
    {
     "name": "stdout",
     "output_type": "stream",
     "text": [
      "--\n",
      "-- Conectores lógicos (OR).\n",
      "--\n",
      "%';\n",
      "OK\n",
      "116-51-1291\t(07)-2905-7818\tBuffalo (New York)\tMarried\tRoxanne Kerns\t1974-11-27\n",
      "177-44-1159\t(09)-5062-6922\tDetroit (Michigan)\tSingle\tRegina Lauritzen\t1969-07-27\n",
      "429-83-1156\t(09)-5794-9470\tScottsdale (Arizona)\tMarried\tGabriel Kingston\t1978-05-05\n",
      "224-99-1262\t(05)-3339-3262\tMilwaukee (Wisconsin)\tMarried\tNichelle Thaxton\t1988-01-02\n",
      "323-51-1535\t(03)-5179-6500\tLas Vegas (Nevada)\tMarried\tYu Kittredge\t1978-01-22\n",
      "166-82-1605\t(09)-6473-4208\tIrvine (California)\tMarried\tDemetrius Fry\t1975-03-27\n",
      "216-82-1048\t(04)-1199-9661\tLas Vegas (Nevada)\tMarried\tPedro Welch\t1972-05-07\n",
      "116-93-1394\t(05)-9333-4606\tTampa (Florida)\tMarried\tBetty Fitzhugh\t1973-08-12\n",
      "425-82-1851\t(03)-5794-3345\tAurora (Colorado)\tMarried\tLivia Castillo\t1972-02-26\n",
      "339-74-1545\t(08)-4858-6766\tAtlanta (Georgia)\tMarried\tLeland Scully\t1975-07-25\n",
      "368-83-1054\t(05)-7508-4870\tOmaha (Nebraska)\tMarried\tElton Castellanos\t1975-10-08\n",
      "238-81-1227\t(03)-9999-9910\tLaredo (Texas)\tCommon-Law\tRonald Signorelli\t1977-06-13\n",
      "Time taken: 0.085 seconds, Fetched: 12 row(s)\n"
     ]
    }
   ],
   "source": [
    "%%hive\n",
    "--\n",
    "-- Conectores lógicos (OR).\n",
    "--\n",
    "SELECT * FROM personas WHERE maritalstatus = 'Married' OR fullname LIKE 'R%';"
   ]
  },
  {
   "cell_type": "code",
   "execution_count": 17,
   "metadata": {},
   "outputs": [
    {
     "name": "stdout",
     "output_type": "stream",
     "text": [
      "--\n",
      "-- Conectores lógicos (AND).\n",
      "--\n",
      "R%';\n",
      "OK\n",
      "116-51-1291\t(07)-2905-7818\tBuffalo (New York)\tMarried\tRoxanne Kerns\t1974-11-27\n",
      "Time taken: 0.087 seconds, Fetched: 1 row(s)\n"
     ]
    }
   ],
   "source": [
    "%%hive\n",
    "--\n",
    "-- Conectores lógicos (AND).\n",
    "--\n",
    "SELECT * FROM personas WHERE maritalstatus = 'Married' AND fullname LIKE 'R%';"
   ]
  },
  {
   "cell_type": "markdown",
   "metadata": {},
   "source": [
    "La función ORDER BY permite organizar los registros de manera ascendente (ORDER BY ... ASC) o de manera descendente (ORDER BY ... DESC). Por defecto, ordena de manera ascendente."
   ]
  },
  {
   "cell_type": "code",
   "execution_count": 18,
   "metadata": {},
   "outputs": [
    {
     "name": "stdout",
     "output_type": "stream",
     "text": [
      "--\n",
      "-- Ordenamiento\n",
      "--\n",
      "SELECT * FROM personas ORDER BY maritalstatus LIMIT 4;\n",
      "Query ID = jdvelasq_20180909214935_4d51673e-5838-4011-8096-cbbef2346198\n",
      "Total jobs = 1\n",
      "Launching Job 1 out of 1\n",
      "Number of reduce tasks determined at compile time: 1\n",
      "In order to change the average load for a reducer (in bytes):\n",
      "  set hive.exec.reducers.bytes.per.reducer=<number>\n",
      "In order to limit the maximum number of reducers:\n",
      "  set hive.exec.reducers.max=<number>\n",
      "In order to set a constant number of reducers:\n",
      "  set mapreduce.job.reduces=<number>\n",
      "Job running in-process (local Hadoop)\n",
      "2018-09-09 21:49:37,029 Stage-1 map = 100%,  reduce = 100%\n",
      "Ended Job = job_local827285872_0002\n",
      "MapReduce Jobs Launched: \n",
      "Stage-Stage-1:  HDFS Read: 0 HDFS Write: 0 SUCCESS\n",
      "Total MapReduce CPU Time Spent: 0 msec\n",
      "OK\n",
      "238-81-1227\t(03)-9999-9910\tLaredo (Texas)\tCommon-Law\tRonald Signorelli\t1977-06-13\n",
      "224-55-1496\t(03)-8685-6502\tAurora (Colorado)\tCommon-Law\tTamesha Lawlor\t1983-10-02\n",
      "116-81-1883\t(03)-1350-7402\tChandler (Arizona)\tDivorced\tHoward Samsel\t1989-11-26\n",
      "216-85-1367\t(07)-2905-9114\tSaint Paul (Minnesota)\tDivorced\tTania Raley\t1973-12-16\n",
      "Time taken: 1.659 seconds, Fetched: 4 row(s)\n"
     ]
    }
   ],
   "source": [
    "%%hive\n",
    "--\n",
    "-- Ordenamiento\n",
    "--\n",
    "SELECT * FROM personas ORDER BY maritalstatus LIMIT 4;"
   ]
  },
  {
   "cell_type": "code",
   "execution_count": 19,
   "metadata": {},
   "outputs": [
    {
     "name": "stdout",
     "output_type": "stream",
     "text": [
      "--\n",
      "-- Condicional para campos string\n",
      "--\n",
      "SELECT * FROM personas WHERE maritalstatus IN ('Married','Single');\n",
      "OK\n",
      "216-51-1025\t(09)-5580-7527\tMemphis (Tennessee)\tSingle\tMarco Goodman\t1988-06-30\n",
      "116-51-1291\t(07)-2905-7818\tBuffalo (New York)\tMarried\tRoxanne Kerns\t1974-11-27\n",
      "177-44-1159\t(09)-5062-6922\tDetroit (Michigan)\tSingle\tRegina Lauritzen\t1969-07-27\n",
      "429-83-1156\t(09)-5794-9470\tScottsdale (Arizona)\tMarried\tGabriel Kingston\t1978-05-05\n",
      "381-54-1605\t(05)-5330-5036\tAlbuquerque (New Mexico)\tSingle\tCarrie Bigelow\t1982-05-02\n",
      "224-99-1262\t(05)-3339-3262\tMilwaukee (Wisconsin)\tMarried\tNichelle Thaxton\t1988-01-02\n",
      "301-25-1394\t(07)-4370-8507\tHouston (Texas)\tSingle\tJoaquin Yap\t1972-11-12\n",
      "323-51-1535\t(03)-5179-6500\tLas Vegas (Nevada)\tMarried\tYu Kittredge\t1978-01-22\n",
      "166-82-1605\t(09)-6473-4208\tIrvine (California)\tMarried\tDemetrius Fry\t1975-03-27\n",
      "177-44-1054\t(08)-5902-5867\tEl Paso (Texas)\tSingle\tMillie Lasher\t1976-03-29\n",
      "144-54-1840\t(03)-7508-9910\tOrlando (Florida)\tSingle\tFelipe Malpass\t1982-06-08\n",
      "216-82-1048\t(04)-1199-9661\tLas Vegas (Nevada)\tMarried\tPedro Welch\t1972-05-07\n",
      "116-93-1394\t(05)-9333-4606\tTampa (Florida)\tMarried\tBetty Fitzhugh\t1973-08-12\n",
      "279-81-1912\t(08)-2905-8942\tWinston–Salem (North Carolina)\tSingle\tLauren Seifert\t1977-10-07\n",
      "425-82-1851\t(03)-5794-3345\tAurora (Colorado)\tMarried\tLivia Castillo\t1972-02-26\n",
      "339-74-1545\t(08)-4858-6766\tAtlanta (Georgia)\tMarried\tLeland Scully\t1975-07-25\n",
      "368-83-1054\t(05)-7508-4870\tOmaha (Nebraska)\tMarried\tElton Castellanos\t1975-10-08\n",
      "339-82-1442\t(09)-5854-7191\tHenderson (Nevada)\tSingle\tSondra Pike\t1980-06-25\n",
      "177-23-1359\t(07)-5854-6781\tSt. Louis (Missouri)\tSingle\tGigi Ragland\t1977-01-27\n",
      "287-74-1145\t(03)-5794-9130\tFremont (California)\tSingle\tWilson Upshaw\t1976-02-21\n",
      "Time taken: 0.206 seconds, Fetched: 20 row(s)\n"
     ]
    }
   ],
   "source": [
    "%%hive\n",
    "--\n",
    "-- Condicional para campos string\n",
    "--\n",
    "SELECT * FROM personas WHERE maritalstatus IN ('Married','Single');"
   ]
  },
  {
   "cell_type": "code",
   "execution_count": 20,
   "metadata": {},
   "outputs": [
    {
     "name": "stdout",
     "output_type": "stream",
     "text": [
      "--\n",
      "-- Condicional para campos string\n",
      "--\n",
      "SELECT * FROM personas WHERE maritalstatus NOT IN ('Married','Divorced');\n",
      "OK\n",
      "216-51-1025\t(09)-5580-7527\tMemphis (Tennessee)\tSingle\tMarco Goodman\t1988-06-30\n",
      "177-44-1159\t(09)-5062-6922\tDetroit (Michigan)\tSingle\tRegina Lauritzen\t1969-07-27\n",
      "381-54-1605\t(05)-5330-5036\tAlbuquerque (New Mexico)\tSingle\tCarrie Bigelow\t1982-05-02\n",
      "301-25-1394\t(07)-4370-8507\tHouston (Texas)\tSingle\tJoaquin Yap\t1972-11-12\n",
      "224-55-1496\t(03)-8685-6502\tAurora (Colorado)\tCommon-Law\tTamesha Lawlor\t1983-10-02\n",
      "177-44-1054\t(08)-5902-5867\tEl Paso (Texas)\tSingle\tMillie Lasher\t1976-03-29\n",
      "144-54-1840\t(03)-7508-9910\tOrlando (Florida)\tSingle\tFelipe Malpass\t1982-06-08\n",
      "279-81-1912\t(08)-2905-8942\tWinston–Salem (North Carolina)\tSingle\tLauren Seifert\t1977-10-07\n",
      "339-82-1442\t(09)-5854-7191\tHenderson (Nevada)\tSingle\tSondra Pike\t1980-06-25\n",
      "177-23-1359\t(07)-5854-6781\tSt. Louis (Missouri)\tSingle\tGigi Ragland\t1977-01-27\n",
      "238-81-1227\t(03)-9999-9910\tLaredo (Texas)\tCommon-Law\tRonald Signorelli\t1977-06-13\n",
      "287-74-1145\t(03)-5794-9130\tFremont (California)\tSingle\tWilson Upshaw\t1976-02-21\n",
      "Time taken: 0.08 seconds, Fetched: 12 row(s)\n"
     ]
    }
   ],
   "source": [
    "%%hive\n",
    "--\n",
    "-- Condicional para campos string\n",
    "--\n",
    "SELECT * FROM personas WHERE maritalstatus NOT IN ('Married','Divorced');"
   ]
  },
  {
   "cell_type": "code",
   "execution_count": 21,
   "metadata": {
    "scrolled": false
   },
   "outputs": [
    {
     "name": "stdout",
     "output_type": "stream",
     "text": [
      "--\n",
      "-- Combinación de clausulas opcionales.\n",
      "--\n",
      "SELECT * FROM personas WHERE birthdate >= '1970-01-01' ORDER BY fullname;\n",
      "Query ID = jdvelasq_20180909214954_45280075-7693-482f-bdc9-79e73b15585a\n",
      "Total jobs = 1\n",
      "Launching Job 1 out of 1\n",
      "Number of reduce tasks determined at compile time: 1\n",
      "In order to change the average load for a reducer (in bytes):\n",
      "  set hive.exec.reducers.bytes.per.reducer=<number>\n",
      "In order to limit the maximum number of reducers:\n",
      "  set hive.exec.reducers.max=<number>\n",
      "In order to set a constant number of reducers:\n",
      "  set mapreduce.job.reduces=<number>\n",
      "Job running in-process (local Hadoop)\n",
      "2018-09-09 21:49:55,740 Stage-1 map = 100%,  reduce = 100%\n",
      "Ended Job = job_local195710600_0003\n",
      "MapReduce Jobs Launched: \n",
      "Stage-Stage-1:  HDFS Read: 0 HDFS Write: 0 SUCCESS\n",
      "Total MapReduce CPU Time Spent: 0 msec\n",
      "OK\n",
      "116-93-1394\t(05)-9333-4606\tTampa (Florida)\tMarried\tBetty Fitzhugh\t1973-08-12\n",
      "381-54-1605\t(05)-5330-5036\tAlbuquerque (New Mexico)\tSingle\tCarrie Bigelow\t1982-05-02\n",
      "166-82-1605\t(09)-6473-4208\tIrvine (California)\tMarried\tDemetrius Fry\t1975-03-27\n",
      "368-83-1054\t(05)-7508-4870\tOmaha (Nebraska)\tMarried\tElton Castellanos\t1975-10-08\n",
      "144-54-1840\t(03)-7508-9910\tOrlando (Florida)\tSingle\tFelipe Malpass\t1982-06-08\n",
      "429-83-1156\t(09)-5794-9470\tScottsdale (Arizona)\tMarried\tGabriel Kingston\t1978-05-05\n",
      "144-25-1448\t(09)-5179-2725\tDurham (North Carolina)\tDivorced\tGerald Glynn\t1985-07-07\n",
      "177-23-1359\t(07)-5854-6781\tSt. Louis (Missouri)\tSingle\tGigi Ragland\t1977-01-27\n",
      "116-81-1883\t(03)-1350-7402\tChandler (Arizona)\tDivorced\tHoward Samsel\t1989-11-26\n",
      "116-54-1259\t(04)-3468-6535\tSan Bernardino (California)\tDivorced\tJake Vansant\t1980-02-01\n",
      "301-25-1394\t(07)-4370-8507\tHouston (Texas)\tSingle\tJoaquin Yap\t1972-11-12\n",
      "391-55-1442\t(05)-6865-1079\tBaton Rouge (Louisiana)\tDivorced\tLaquita Murrin\t1984-04-21\n",
      "279-81-1912\t(08)-2905-8942\tWinston–Salem (North Carolina)\tSingle\tLauren Seifert\t1977-10-07\n",
      "339-74-1545\t(08)-4858-6766\tAtlanta (Georgia)\tMarried\tLeland Scully\t1975-07-25\n",
      "320-54-1856\t(04)-3858-1079\tHouston (Texas)\tDivorced\tLilly Macdonald\t1983-09-07\n",
      "425-82-1851\t(03)-5794-3345\tAurora (Colorado)\tMarried\tLivia Castillo\t1972-02-26\n",
      "216-51-1025\t(09)-5580-7527\tMemphis (Tennessee)\tSingle\tMarco Goodman\t1988-06-30\n",
      "177-44-1054\t(08)-5902-5867\tEl Paso (Texas)\tSingle\tMillie Lasher\t1976-03-29\n",
      "224-99-1262\t(05)-3339-3262\tMilwaukee (Wisconsin)\tMarried\tNichelle Thaxton\t1988-01-02\n",
      "216-82-1048\t(04)-1199-9661\tLas Vegas (Nevada)\tMarried\tPedro Welch\t1972-05-07\n",
      "238-81-1227\t(03)-9999-9910\tLaredo (Texas)\tCommon-Law\tRonald Signorelli\t1977-06-13\n",
      "116-51-1291\t(07)-2905-7818\tBuffalo (New York)\tMarried\tRoxanne Kerns\t1974-11-27\n",
      "339-82-1442\t(09)-5854-7191\tHenderson (Nevada)\tSingle\tSondra Pike\t1980-06-25\n",
      "224-55-1496\t(03)-8685-6502\tAurora (Colorado)\tCommon-Law\tTamesha Lawlor\t1983-10-02\n",
      "216-85-1367\t(07)-2905-9114\tSaint Paul (Minnesota)\tDivorced\tTania Raley\t1973-12-16\n",
      "224-25-1891\t(05)-9333-5713\tLas Vegas (Nevada)\tDivorced\tWallace Lowery\t1971-12-19\n",
      "287-74-1145\t(03)-5794-9130\tFremont (California)\tSingle\tWilson Upshaw\t1976-02-21\n",
      "323-51-1535\t(03)-5179-6500\tLas Vegas (Nevada)\tMarried\tYu Kittredge\t1978-01-22\n",
      "Time taken: 1.636 seconds, Fetched: 28 row(s)\n"
     ]
    }
   ],
   "source": [
    "%%hive\n",
    "--\n",
    "-- Combinación de clausulas opcionales.\n",
    "--\n",
    "SELECT * FROM personas WHERE birthdate >= '1970-01-01' ORDER BY fullname;"
   ]
  },
  {
   "cell_type": "markdown",
   "metadata": {},
   "source": [
    "---\n",
    "**Ejercicio.--** Calcule la edad promedio de las personas.\n",
    "\n",
    "---"
   ]
  },
  {
   "cell_type": "markdown",
   "metadata": {},
   "source": [
    "**FUNCIONES**"
   ]
  },
  {
   "cell_type": "code",
   "execution_count": 22,
   "metadata": {},
   "outputs": [
    {
     "name": "stdout",
     "output_type": "stream",
     "text": [
      "--\n",
      "-- Cuenta cuantos registros hay en la tabla.\n",
      "--\n",
      "SELECT COUNT(*) FROM personas;\n",
      "Query ID = jdvelasq_20180909215001_c3530f86-1c6a-4da0-898d-084ee2a56f73\n",
      "Total jobs = 1\n",
      "Launching Job 1 out of 1\n",
      "Number of reduce tasks determined at compile time: 1\n",
      "In order to change the average load for a reducer (in bytes):\n",
      "  set hive.exec.reducers.bytes.per.reducer=<number>\n",
      "In order to limit the maximum number of reducers:\n",
      "  set hive.exec.reducers.max=<number>\n",
      "In order to set a constant number of reducers:\n",
      "  set mapreduce.job.reduces=<number>\n",
      "Job running in-process (local Hadoop)\n",
      "2018-09-09 21:50:03,218 Stage-1 map = 100%,  reduce = 100%\n",
      "Ended Job = job_local40490744_0004\n",
      "MapReduce Jobs Launched: \n",
      "Stage-Stage-1:  HDFS Read: 0 HDFS Write: 0 SUCCESS\n",
      "Total MapReduce CPU Time Spent: 0 msec\n",
      "OK\n",
      "29\n",
      "Time taken: 1.713 seconds, Fetched: 1 row(s)\n"
     ]
    }
   ],
   "source": [
    "%%hive\n",
    "--\n",
    "-- Cuenta cuantos registros hay en la tabla.\n",
    "--\n",
    "SELECT COUNT(*) FROM personas;"
   ]
  },
  {
   "cell_type": "code",
   "execution_count": 23,
   "metadata": {},
   "outputs": [
    {
     "name": "stdout",
     "output_type": "stream",
     "text": [
      "--\n",
      "-- Cuenta la cantidad de registros con información \n",
      "-- en el campo fullname\n",
      "--\n",
      "SELECT COUNT(fullname) FROM personas;\n",
      "Query ID = jdvelasq_20180909215010_798c25a6-778b-43cd-bb61-869404a8d137\n",
      "Total jobs = 1\n",
      "Launching Job 1 out of 1\n",
      "Number of reduce tasks determined at compile time: 1\n",
      "In order to change the average load for a reducer (in bytes):\n",
      "  set hive.exec.reducers.bytes.per.reducer=<number>\n",
      "In order to limit the maximum number of reducers:\n",
      "  set hive.exec.reducers.max=<number>\n",
      "In order to set a constant number of reducers:\n",
      "  set mapreduce.job.reduces=<number>\n",
      "Job running in-process (local Hadoop)\n",
      "2018-09-09 21:50:12,382 Stage-1 map = 100%,  reduce = 100%\n",
      "Ended Job = job_local297684796_0005\n",
      "MapReduce Jobs Launched: \n",
      "Stage-Stage-1:  HDFS Read: 0 HDFS Write: 0 SUCCESS\n",
      "Total MapReduce CPU Time Spent: 0 msec\n",
      "OK\n",
      "29\n",
      "Time taken: 1.601 seconds, Fetched: 1 row(s)\n"
     ]
    }
   ],
   "source": [
    "%%hive\n",
    "--\n",
    "-- Cuenta la cantidad de registros con información \n",
    "-- en el campo fullname\n",
    "--\n",
    "SELECT COUNT(fullname) FROM personas;"
   ]
  },
  {
   "cell_type": "markdown",
   "metadata": {},
   "source": [
    "---\n",
    "**Ejercicio.--** Calcule la suma de las edades de las personas.\n",
    "\n",
    "---"
   ]
  },
  {
   "cell_type": "code",
   "execution_count": 24,
   "metadata": {},
   "outputs": [
    {
     "name": "stdout",
     "output_type": "stream",
     "text": [
      "--\n",
      "-- Cuenta cuantas veces aparece cada año\n",
      "-- de nacimiento en la tabla.\n",
      "--\n",
      "SELECT YEAR(birthdate), COUNT(*) FROM personas GROUP BY YEAR(birthdate);\n",
      "Query ID = jdvelasq_20180909215020_31b299ba-844c-49b7-ac44-ca64f1abc09d\n",
      "Total jobs = 1\n",
      "Launching Job 1 out of 1\n",
      "Number of reduce tasks not specified. Estimated from input data size: 1\n",
      "In order to change the average load for a reducer (in bytes):\n",
      "  set hive.exec.reducers.bytes.per.reducer=<number>\n",
      "In order to limit the maximum number of reducers:\n",
      "  set hive.exec.reducers.max=<number>\n",
      "In order to set a constant number of reducers:\n",
      "  set mapreduce.job.reduces=<number>\n",
      "Job running in-process (local Hadoop)\n",
      "2018-09-09 21:50:22,019 Stage-1 map = 100%,  reduce = 100%\n",
      "Ended Job = job_local1621903543_0006\n",
      "MapReduce Jobs Launched: \n",
      "Stage-Stage-1:  HDFS Read: 0 HDFS Write: 0 SUCCESS\n",
      "Total MapReduce CPU Time Spent: 0 msec\n",
      "OK\n",
      "1969\t1\n",
      "1971\t1\n",
      "1972\t3\n",
      "1973\t2\n",
      "1974\t1\n",
      "1975\t3\n",
      "1976\t2\n",
      "1977\t3\n",
      "1978\t2\n",
      "1980\t2\n",
      "1982\t2\n",
      "1983\t2\n",
      "1984\t1\n",
      "1985\t1\n",
      "1988\t2\n",
      "1989\t1\n",
      "Time taken: 1.705 seconds, Fetched: 16 row(s)\n"
     ]
    }
   ],
   "source": [
    "%%hive\n",
    "--\n",
    "-- Cuenta cuantas veces aparece cada año\n",
    "-- de nacimiento en la tabla.\n",
    "--\n",
    "SELECT YEAR(birthdate), COUNT(*) FROM personas GROUP BY YEAR(birthdate);"
   ]
  },
  {
   "cell_type": "code",
   "execution_count": 25,
   "metadata": {},
   "outputs": [
    {
     "name": "stdout",
     "output_type": "stream",
     "text": [
      "--\n",
      "-- Cuenta cuantas veces aparece cada año\n",
      "-- de nacimiento en la tabla.\n",
      "--\n",
      "SELECT YEAR(birthdate), COUNT(*) FROM personas GROUP BY YEAR(birthdate);\n",
      "Query ID = jdvelasq_20180909215029_0712fc5b-62a2-4134-bd7b-01aeead7420f\n",
      "Total jobs = 1\n",
      "Launching Job 1 out of 1\n",
      "Number of reduce tasks not specified. Estimated from input data size: 1\n",
      "In order to change the average load for a reducer (in bytes):\n",
      "  set hive.exec.reducers.bytes.per.reducer=<number>\n",
      "In order to limit the maximum number of reducers:\n",
      "  set hive.exec.reducers.max=<number>\n",
      "In order to set a constant number of reducers:\n",
      "  set mapreduce.job.reduces=<number>\n",
      "Job running in-process (local Hadoop)\n",
      "2018-09-09 21:50:30,892 Stage-1 map = 100%,  reduce = 100%\n",
      "Ended Job = job_local156421100_0007\n",
      "MapReduce Jobs Launched: \n",
      "Stage-Stage-1:  HDFS Read: 0 HDFS Write: 0 SUCCESS\n",
      "Total MapReduce CPU Time Spent: 0 msec\n",
      "OK\n",
      "1969\t1\n",
      "1971\t1\n",
      "1972\t3\n",
      "1973\t2\n",
      "1974\t1\n",
      "1975\t3\n",
      "1976\t2\n",
      "1977\t3\n",
      "1978\t2\n",
      "1980\t2\n",
      "1982\t2\n",
      "1983\t2\n",
      "1984\t1\n",
      "1985\t1\n",
      "1988\t2\n",
      "1989\t1\n",
      "Time taken: 1.692 seconds, Fetched: 16 row(s)\n"
     ]
    }
   ],
   "source": [
    "%%hive\n",
    "--\n",
    "-- Cuenta cuantas veces aparece cada año\n",
    "-- de nacimiento en la tabla.\n",
    "--\n",
    "SELECT YEAR(birthdate), COUNT(*) FROM personas GROUP BY YEAR(birthdate);"
   ]
  },
  {
   "cell_type": "markdown",
   "metadata": {},
   "source": [
    "---\n",
    "**Ejercicio.--** Agregue la columna edad con la edad de las personas.\n",
    "\n",
    "---"
   ]
  },
  {
   "cell_type": "markdown",
   "metadata": {},
   "source": [
    "**SUBCONSULTAS**"
   ]
  },
  {
   "cell_type": "code",
   "execution_count": 26,
   "metadata": {},
   "outputs": [
    {
     "name": "stdout",
     "output_type": "stream",
     "text": [
      "--\n",
      "-- Sub-consultas.\n",
      "-- Busca la persona más vieja en la tabla.\n",
      "--\n",
      "ns);\n",
      "FAILED: SemanticException Line 0:-1 Unsupported SubQuery Expression 'birthdate': Only SubQuery expressions that are top level conjuncts are allowed\n"
     ]
    }
   ],
   "source": [
    "%%hive\n",
    "--\n",
    "-- Sub-consultas.\n",
    "-- Busca la persona más vieja en la tabla.\n",
    "--\n",
    "SELECT * FROM personas WHERE birthdate = (SELECT MIN(birthdate) FROM persons);"
   ]
  },
  {
   "cell_type": "markdown",
   "metadata": {},
   "source": [
    "---\n",
    "**Ejercicio.--** Cómo se usa una clausula `CASE` ... `WHEN` ... `THEN` en Hive?\n",
    "\n",
    "**Ejercicio.--** Cómo se usa una clausula `GROUPBY` en Hive?\n",
    "\n",
    "**Ejercicio.--** Cómo se usa una clausula `HAVING` en Hive?\n",
    " \n",
    "---\n",
    "\n"
   ]
  },
  {
   "cell_type": "markdown",
   "metadata": {},
   "source": [
    "**JOIN**\n",
    "\n",
    "Los joins permiten unir la información de dos o más tablas. Los distintos tipos de joins son explicados en la siguiente gráfica:\n",
    "\n",
    "![joins.jpg](images/joins.jpg)"
   ]
  },
  {
   "cell_type": "code",
   "execution_count": 27,
   "metadata": {},
   "outputs": [
    {
     "name": "stdout",
     "output_type": "stream",
     "text": [
      "--\n",
      "-- Combina la información de las dos tablas usando como clave\n",
      "-- el campo ssn.\n",
      "--\n",
      "SELECT fullname, phone, bank, personas.ssn, bancos.ssn\n",
      "FROM personas JOIN bancos\n",
      "ON personas.ssn = bancos.ssn LIMIT 10;\n",
      "Query ID = jdvelasq_20180909215102_884c2211-92fd-40cf-aad5-8ab8e2c78beb\n",
      "Total jobs = 1\n",
      "SLF4J: Found binding in [jar:file:/Users/jdvelasq/hive/lib/log4j-slf4j-impl-2.10.0.jar!/org/slf4j/impl/StaticLoggerBinder.class]\n",
      "2018-09-09 21:51:16\tStarting to launch local task to process map join;\tmaximum memory = 239075328\n",
      "\n",
      "2018-09-09 21:51:17\tEnd of local task; Time Taken: 0.542 sec.\n",
      "Execution completed successfully\n",
      "MapredLocal task succeeded\n",
      "Launching Job 1 out of 1\n",
      "Number of reduce tasks is set to 0 since there's no reduce operator\n",
      "Job running in-process (local Hadoop)\n",
      "2018-09-09 21:51:22,177 Stage-3 map = 100%,  reduce = 0%\n",
      "Ended Job = job_local481227128_0008\n",
      "MapReduce Jobs Launched: \n",
      "Stage-Stage-3:  HDFS Read: 0 HDFS Write: 0 SUCCESS\n",
      "Total MapReduce CPU Time Spent: 0 msec\n",
      "OK\n",
      "Marco Goodman\t(09)-5580-7527\tBNP Paribas\t216-51-1025\t216-51-1025\n",
      "Roxanne Kerns\t(07)-2905-7818\tBBVA Compass\t116-51-1291\t116-51-1291\n",
      "Roxanne Kerns\t(07)-2905-7818\tDiscover Financial\t116-51-1291\t116-51-1291\n",
      "Regina Lauritzen\t(09)-5062-6922\tPopular. Inc.\t177-44-1159\t177-44-1159\n",
      "Howard Samsel\t(03)-1350-7402\tBB&T\t116-81-1883\t116-81-1883\n",
      "Gabriel Kingston\t(09)-5794-9470\tFifth Third Bank\t429-83-1156\t429-83-1156\n",
      "Gabriel Kingston\t(09)-5794-9470\tFirst Republic Bank\t429-83-1156\t429-83-1156\n",
      "Carrie Bigelow\t(05)-5330-5036\tU.S. Bancorp\t381-54-1605\t381-54-1605\n",
      "Nichelle Thaxton\t(05)-3339-3262\tBBVA Compass\t224-99-1262\t224-99-1262\n",
      "Joaquin Yap\t(07)-4370-8507\tSantander Bank\t301-25-1394\t301-25-1394\n",
      "Time taken: 19.75 seconds, Fetched: 10 row(s)\n"
     ]
    }
   ],
   "source": [
    "%%hive\n",
    "--\n",
    "-- Combina la información de las dos tablas usando como clave\n",
    "-- el campo ssn.\n",
    "--\n",
    "SELECT fullname, phone, bank, personas.ssn, bancos.ssn\n",
    "FROM personas JOIN bancos\n",
    "ON personas.ssn = bancos.ssn LIMIT 10;"
   ]
  },
  {
   "cell_type": "markdown",
   "metadata": {},
   "source": [
    "---\n",
    "**Ejercicio.--** Genere una tabla que contenga la cantidad de tarjetas emitidas por cada banco (campo `bank`).\n",
    "\n",
    "**Ejercicio.--** Genere una tabla que contenga la cantidad de tarjetas de cada franquicia (campo `ccntype`).\n",
    "\n",
    "**Ejercicio.--** Genere una tabla que contenga el cliente más joven de cada banco.\n",
    "\n",
    "**Ejercicio.--** Genere una tabla que contenga por cada banco, la cantidad de clientes nacidos cada año.\n",
    "\n",
    "**Ejercicio.--** Genere una tabla que contenga la suma de los montos (`quote`) por franquisia.\n",
    "\n",
    "**Ejercicio.--** Genere una tabla que contenga el banco, la franquisia y el nombre del titular de la tarjeta de crédito. \n",
    "\n",
    "---"
   ]
  },
  {
   "cell_type": "markdown",
   "metadata": {},
   "source": [
    "Consultas\n",
    "===\n",
    "\n",
    "**Juan David Velásquez Henao**  \n",
    "jdvelasq@unal.edu.co   \n",
    "Universidad Nacional de Colombia, Sede Medellín  \n",
    "Facultad de Minas  \n",
    "Medellín, Colombia\n",
    "\n",
    "---\n",
    "\n",
    "Haga click [aquí](https://github.com/jdvelasq/apache-hive-course) para acceder al repositorio en GitHub.\n",
    "\n",
    "Haga click [aquí](http://nbviewer.jupyter.org/github/jdvelasq/apache-hive-course/tree/master/) para explorar el repositorio usando en `nbviewer`. \n",
    "\n",
    "---"
   ]
  }
 ],
 "metadata": {
  "kernelspec": {
   "display_name": "Python 3",
   "language": "python",
   "name": "python3"
  },
  "language_info": {
   "codemirror_mode": {
    "name": "ipython",
    "version": 3
   },
   "file_extension": ".py",
   "mimetype": "text/x-python",
   "name": "python",
   "nbconvert_exporter": "python",
   "pygments_lexer": "ipython3",
   "version": "3.6.5"
  }
 },
 "nbformat": 4,
 "nbformat_minor": 2
}
