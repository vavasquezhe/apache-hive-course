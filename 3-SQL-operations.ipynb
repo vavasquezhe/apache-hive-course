{
 "cells": [
  {
   "cell_type": "markdown",
   "metadata": {},
   "source": [
    "Gestión de Registros\n",
    "===\n",
    "\n",
    "**Juan David Velásquez Henao**  \n",
    "jdvelasq@unal.edu.co   \n",
    "Universidad Nacional de Colombia, Sede Medellín  \n",
    "Facultad de Minas  \n",
    "Medellín, Colombia\n",
    "\n",
    "---\n",
    "\n",
    "Haga click [aquí](https://github.com/jdvelasq/apache-hive-course) para acceder al repositorio en GitHub.\n",
    "\n",
    "Haga click [aquí](http://nbviewer.jupyter.org/github/jdvelasq/apache-hive-course/tree/master/) para explorar el repositorio usando en `nbviewer`. "
   ]
  },
  {
   "cell_type": "markdown",
   "metadata": {},
   "source": [
    "---"
   ]
  },
  {
   "cell_type": "code",
   "execution_count": 1,
   "metadata": {},
   "outputs": [
    {
     "name": "stdout",
     "output_type": "stream",
     "text": [
      "SLF4J: Class path contains multiple SLF4J bindings.\n",
      "SLF4J: Found binding in [jar:file:/Users/jdvelasq/hive/lib/log4j-slf4j-impl-2.10.0.jar!/org/slf4j/impl/StaticLoggerBinder.class]\n",
      "SLF4J: Found binding in [jar:file:/Users/jdvelasq/hadoop/share/hadoop/common/lib/slf4j-log4j12-1.7.25.jar!/org/slf4j/impl/StaticLoggerBinder.class]\n",
      "SLF4J: See http://www.slf4j.org/codes.html#multiple_bindings for an explanation.\n",
      "SLF4J: Actual binding is of type [org.apache.logging.slf4j.Log4jLoggerFactory]\n",
      "Hive Session ID = ee42b93c-3f20-4c48-996f-a3f301fad579\n",
      "\n",
      "Logging initialized using configuration in jar:file:/Users/jdvelasq/hive/lib/hive-common-3.1.0.jar!/hive-log4j2.properties Async: true\n",
      "Hive Session ID = 57317f13-a98d-42b3-89e0-37111fa6d0e3\n",
      "Hive-on-MR is deprecated in Hive 2 and may not be available in the future versions. Consider using a different execution engine (i.e. spark, tez) or using Hive 1.X releases.\n",
      "\n"
     ]
    }
   ],
   "source": [
    "%run hivemagic.py"
   ]
  },
  {
   "cell_type": "markdown",
   "metadata": {},
   "source": [
    "---"
   ]
  },
  {
   "cell_type": "code",
   "execution_count": 2,
   "metadata": {},
   "outputs": [
    {
     "name": "stdout",
     "output_type": "stream",
     "text": [
      "DROP DATABASE IF EXISTS mydb CASCADE;\n",
      "OK\n",
      "Time taken: 1.621 seconds\n",
      "CREATE DATABASE mydb;\n",
      "OK\n",
      "Time taken: 0.094 seconds\n",
      "USE mydb;\n",
      "OK\n",
      "Time taken: 0.006 seconds\n",
      "\n",
      "CREATE TABLE persons (\n",
      "    id INT ,\n",
      "    ssn VARCHAR(11),\n",
      "    phone VARCHAR(14),\n",
      "    city VARCHAR(30),\n",
      "    maritalstatus VARCHAR(10),\n",
      "    fullname VARCHAR(40),\n",
      "    birthdate DATE\n",
      ");\n",
      "OK\n",
      "Time taken: 0.231 seconds\n"
     ]
    }
   ],
   "source": [
    "%%hive\n",
    "DROP DATABASE IF EXISTS mydb CASCADE;\n",
    "CREATE DATABASE mydb;\n",
    "USE mydb;\n",
    "\n",
    "CREATE TABLE persons (\n",
    "    id INT ,\n",
    "    ssn VARCHAR(11),\n",
    "    phone VARCHAR(14),\n",
    "    city VARCHAR(30),\n",
    "    maritalstatus VARCHAR(10),\n",
    "    fullname VARCHAR(40),\n",
    "    birthdate DATE\n",
    ");"
   ]
  },
  {
   "cell_type": "markdown",
   "metadata": {},
   "source": [
    "**INSERT** \n",
    "\n",
    "    INSERT INTO TABLE tablename VALUES values_row [, values_row ...]\n",
    "    \n",
    "    values_row: \n",
    "       (value [, value ...])\n",
    "       \n",
    "Note que a diferencia de SQL, aca no es posible indicar para que columnas se van a insertar los valores, de tal manera que siempre se deben dar valores para todas las columnas.       "
   ]
  },
  {
   "cell_type": "code",
   "execution_count": 3,
   "metadata": {},
   "outputs": [
    {
     "name": "stdout",
     "output_type": "stream",
     "text": [
      "--\n",
      "-- Inserta el registro en la tabla.\n",
      "-- Los valores están en el mismo orden de los campos.\n",
      "--\n",
      "INSERT INTO persons VALUES\n",
      " Goodman\",\"1988-06-30\");\n",
      "Query ID = jdvelasq_20180906213954_918427d1-0c85-4f19-bf25-ad834806d524\n",
      "Total jobs = 3\n",
      "Launching Job 1 out of 3\n",
      "Number of reduce tasks is set to 0 since there's no reduce operator\n",
      "Job running in-process (local Hadoop)\n",
      "2018-09-06 21:39:58,650 Stage-1 map = 100%,  reduce = 0%\n",
      "Ended Job = job_local444891554_0001\n",
      "Stage-4 is selected by condition resolver.\n",
      "Stage-3 is filtered out by condition resolver.\n",
      "Stage-5 is filtered out by condition resolver.\n",
      "Moving data to directory file:/Users/jdvelasq/warehouse/mydb.db/persons/.hive-staging_hive_2018-09-06_21-39-54_945_4685980950099312180-1/-ext-10000\n",
      "Loading data to table mydb.persons\n",
      "MapReduce Jobs Launched: \n",
      "Stage-Stage-1:  HDFS Read: 0 HDFS Write: 0 SUCCESS\n",
      "Total MapReduce CPU Time Spent: 0 msec\n",
      "OK\n",
      "Time taken: 3.833 seconds\n",
      "    \n",
      "SELECT * FROM persons;\n",
      "OK\n",
      "1\t216-51-1025\t(09)-5580-7527\tMemphis (Tennessee)\tSingle\tMarco Goodman\t1988-06-30\n",
      "Time taken: 0.138 seconds, Fetched: 1 row(s)\n"
     ]
    }
   ],
   "source": [
    "%%hive\n",
    "--\n",
    "-- Inserta el registro en la tabla.\n",
    "-- Los valores están en el mismo orden de los campos.\n",
    "--\n",
    "INSERT INTO persons VALUES\n",
    "   (1,\"216-51-1025\",\"(09)-5580-7527\",\"Memphis (Tennessee)\",\"Single\",\"Marco Goodman\",\"1988-06-30\");\n",
    "    \n",
    "SELECT * FROM persons;"
   ]
  },
  {
   "cell_type": "code",
   "execution_count": 4,
   "metadata": {},
   "outputs": [
    {
     "name": "stdout",
     "output_type": "stream",
     "text": [
      "--\n",
      "-- Inserta varios registros a la vez.\n",
      "-- Los valores deben estar en el mismo orden de los campos.\n",
      "--\n",
      "INSERT INTO persons VALUES\n",
      "Roxanne Kerns\",\"1974-11-27\"),\n",
      "egina Lauritzen\",\"1969-07-27\");\n",
      "Query ID = jdvelasq_20180906213959_13f98c73-4746-4aa9-bec1-2f20691a3022\n",
      "Total jobs = 3\n",
      "Launching Job 1 out of 3\n",
      "Number of reduce tasks is set to 0 since there's no reduce operator\n",
      "Job running in-process (local Hadoop)\n",
      "2018-09-06 21:40:01,161 Stage-1 map = 100%,  reduce = 0%\n",
      "Ended Job = job_local1603309405_0002\n",
      "Stage-4 is selected by condition resolver.\n",
      "Stage-3 is filtered out by condition resolver.\n",
      "Stage-5 is filtered out by condition resolver.\n",
      "Moving data to directory file:/Users/jdvelasq/warehouse/mydb.db/persons/.hive-staging_hive_2018-09-06_21-39-59_462_7488909273717948123-1/-ext-10000\n",
      "Loading data to table mydb.persons\n",
      "MapReduce Jobs Launched: \n",
      "Stage-Stage-1:  HDFS Read: 0 HDFS Write: 0 SUCCESS\n",
      "Total MapReduce CPU Time Spent: 0 msec\n",
      "OK\n",
      "Time taken: 1.782 seconds\n",
      "    \n",
      "SELECT * FROM persons;    \n",
      "OK\n",
      "1\t216-51-1025\t(09)-5580-7527\tMemphis (Tennessee)\tSingle\tMarco Goodman\t1988-06-30\n",
      "NULL\t116-51-1291\t(07)-2905-7818\tBuffalo (New York)\tMarried\tRoxanne Kerns\t1974-11-27\n",
      "NULL\t177-44-1159\t(09)-5062-6922\tDetroit (Michigan)\tSingle\tRegina Lauritzen\t1969-07-27\n",
      "Time taken: 0.08 seconds, Fetched: 3 row(s)\n"
     ]
    }
   ],
   "source": [
    "%%hive\n",
    "--\n",
    "-- Inserta varios registros a la vez.\n",
    "-- Los valores deben estar en el mismo orden de los campos.\n",
    "--\n",
    "INSERT INTO persons VALUES\n",
    "    (NULL, \"116-51-1291\",\"(07)-2905-7818\",\"Buffalo (New York)\",\"Married\",\"Roxanne Kerns\",\"1974-11-27\"),\n",
    "    (NULL, \"177-44-1159\",\"(09)-5062-6922\",\"Detroit (Michigan)\",\"Single\",\"Regina Lauritzen\",\"1969-07-27\");\n",
    "    \n",
    "SELECT * FROM persons;    "
   ]
  },
  {
   "cell_type": "markdown",
   "metadata": {},
   "source": [
    "**UPDATE**\n",
    "\n",
    "Hive no soporta operaciones de actualización de registros o grupos de registros en tablas."
   ]
  },
  {
   "cell_type": "markdown",
   "metadata": {},
   "source": [
    "**DELETE**\n",
    "\n",
    "Hive no soporta operaciones de borrado de registros o grupos de registros en tablas."
   ]
  },
  {
   "cell_type": "markdown",
   "metadata": {},
   "source": [
    "**Escritura de datos al disco**\n",
    "\n",
    "    INSERT OVERWRITE [LOCAL] DIRECTORY directory1\n",
    "      [ROW FORMAT row_format] [STORED AS file_format] \n",
    "      SELECT ... FROM ..."
   ]
  },
  {
   "cell_type": "markdown",
   "metadata": {},
   "source": [
    "Si el archivo requerido ya tiene el formato deseado, es posible copiarlo directamente del sistema de archivos. En caso contrario, puede usar un INSERT para realizar la conversión de formato."
   ]
  },
  {
   "cell_type": "code",
   "execution_count": 5,
   "metadata": {},
   "outputs": [
    {
     "name": "stdout",
     "output_type": "stream",
     "text": [
      "INSERT OVERWRITE LOCAL DIRECTORY 'persons-data'\n",
      "ROW FORMAT \n",
      "DELIMITED FIELDS TERMINATED BY ','\n",
      "SELECT * FROM persons;\n",
      "Query ID = jdvelasq_20180906214001_f6f73721-bcb2-4e1f-809b-e968fd51c1fc\n",
      "Total jobs = 1\n",
      "Launching Job 1 out of 1\n",
      "Number of reduce tasks is set to 0 since there's no reduce operator\n",
      "Job running in-process (local Hadoop)\n",
      "2018-09-06 21:40:03,339 Stage-1 map = 100%,  reduce = 0%\n",
      "Ended Job = job_local1867639099_0003\n",
      "Moving data to local directory persons-data\n",
      "MapReduce Jobs Launched: \n",
      "Stage-Stage-1:  HDFS Read: 0 HDFS Write: 0 SUCCESS\n",
      "Total MapReduce CPU Time Spent: 0 msec\n",
      "OK\n",
      "Time taken: 1.665 seconds\n"
     ]
    }
   ],
   "source": [
    "%%hive\n",
    "INSERT OVERWRITE LOCAL DIRECTORY 'persons-data'\n",
    "ROW FORMAT \n",
    "DELIMITED FIELDS TERMINATED BY ','\n",
    "SELECT * FROM persons;"
   ]
  },
  {
   "cell_type": "code",
   "execution_count": 6,
   "metadata": {},
   "outputs": [
    {
     "name": "stdout",
     "output_type": "stream",
     "text": [
      "000000_0\n"
     ]
    }
   ],
   "source": [
    "## crea el directorio persons-data\n",
    "!ls persons-data/"
   ]
  },
  {
   "cell_type": "code",
   "execution_count": 7,
   "metadata": {},
   "outputs": [
    {
     "name": "stdout",
     "output_type": "stream",
     "text": [
      "1,216-51-1025,(09)-5580-7527,Memphis (Tennessee),Single,Marco Goodman,1988-06-30\n",
      "\\N,116-51-1291,(07)-2905-7818,Buffalo (New York),Married,Roxanne Kerns,1974-11-27\n",
      "\\N,177-44-1159,(09)-5062-6922,Detroit (Michigan),Single,Regina Lauritzen,1969-07-27\n"
     ]
    }
   ],
   "source": [
    "!cat persons-data/* "
   ]
  },
  {
   "cell_type": "code",
   "execution_count": 8,
   "metadata": {},
   "outputs": [],
   "source": [
    "!cat persons-data/* > persons-data.csv"
   ]
  },
  {
   "cell_type": "code",
   "execution_count": 9,
   "metadata": {},
   "outputs": [
    {
     "name": "stdout",
     "output_type": "stream",
     "text": [
      "1,216-51-1025,(09)-5580-7527,Memphis (Tennessee),Single,Marco Goodman,1988-06-30\n",
      "\\N,116-51-1291,(07)-2905-7818,Buffalo (New York),Married,Roxanne Kerns,1974-11-27\n",
      "\\N,177-44-1159,(09)-5062-6922,Detroit (Michigan),Single,Regina Lauritzen,1969-07-27\n"
     ]
    }
   ],
   "source": [
    "!cat persons-data.csv"
   ]
  },
  {
   "cell_type": "code",
   "execution_count": 10,
   "metadata": {},
   "outputs": [],
   "source": [
    "## se borra el archivo si existe\n",
    "!rm -rf persons-data\n",
    "!rm persons-data.csv"
   ]
  },
  {
   "cell_type": "markdown",
   "metadata": {},
   "source": [
    "**SELECT**\n",
    "\n",
    "    SELECT what FROM tbl_name [WHERE where-conditions] [ORDER BY column_name];\n"
   ]
  },
  {
   "cell_type": "code",
   "execution_count": 11,
   "metadata": {},
   "outputs": [
    {
     "name": "stdout",
     "output_type": "stream",
     "text": [
      "--\n",
      "-- Este es el comando básico para visualizar el contenido de la BD\n",
      "--\n",
      "SELECT * FROM persons;\n",
      "OK\n",
      "1\t216-51-1025\t(09)-5580-7527\tMemphis (Tennessee)\tSingle\tMarco Goodman\t1988-06-30\n",
      "NULL\t116-51-1291\t(07)-2905-7818\tBuffalo (New York)\tMarried\tRoxanne Kerns\t1974-11-27\n",
      "NULL\t177-44-1159\t(09)-5062-6922\tDetroit (Michigan)\tSingle\tRegina Lauritzen\t1969-07-27\n",
      "Time taken: 0.08 seconds, Fetched: 3 row(s)\n"
     ]
    }
   ],
   "source": [
    "%%hive\n",
    "--\n",
    "-- Este es el comando básico para visualizar el contenido de la BD\n",
    "--\n",
    "SELECT * FROM persons;"
   ]
  },
  {
   "cell_type": "code",
   "execution_count": 12,
   "metadata": {},
   "outputs": [
    {
     "name": "stdout",
     "output_type": "stream",
     "text": [
      "--\n",
      "-- Se limita la cantidad de registros a visualizar.\n",
      "--\n",
      "SELECT * FROM persons LIMIT 2;\n",
      "OK\n",
      "1\t216-51-1025\t(09)-5580-7527\tMemphis (Tennessee)\tSingle\tMarco Goodman\t1988-06-30\n",
      "NULL\t116-51-1291\t(07)-2905-7818\tBuffalo (New York)\tMarried\tRoxanne Kerns\t1974-11-27\n",
      "Time taken: 0.078 seconds, Fetched: 2 row(s)\n"
     ]
    }
   ],
   "source": [
    "%%hive\n",
    "--\n",
    "-- Se limita la cantidad de registros a visualizar.\n",
    "--\n",
    "SELECT * FROM persons LIMIT 2;"
   ]
  },
  {
   "cell_type": "code",
   "execution_count": 13,
   "metadata": {},
   "outputs": [
    {
     "name": "stdout",
     "output_type": "stream",
     "text": [
      "--\n",
      "-- Este comando permite ver los registro únicos de un campo.\n",
      "--\n",
      "SELECT DISTINCT maritalstatus FROM persons;\n",
      "Query ID = jdvelasq_20180906214004_d3e9a66b-b43a-4ff6-8d7d-2a75e4cb713c\n",
      "Total jobs = 1\n",
      "Launching Job 1 out of 1\n",
      "Number of reduce tasks not specified. Estimated from input data size: 1\n",
      "In order to change the average load for a reducer (in bytes):\n",
      "  set hive.exec.reducers.bytes.per.reducer=<number>\n",
      "In order to limit the maximum number of reducers:\n",
      "  set hive.exec.reducers.max=<number>\n",
      "In order to set a constant number of reducers:\n",
      "  set mapreduce.job.reduces=<number>\n",
      "Job running in-process (local Hadoop)\n",
      "2018-09-06 21:40:06,684 Stage-1 map = 100%,  reduce = 100%\n",
      "Ended Job = job_local253899178_0004\n",
      "MapReduce Jobs Launched: \n",
      "Stage-Stage-1:  HDFS Read: 0 HDFS Write: 0 SUCCESS\n",
      "Total MapReduce CPU Time Spent: 0 msec\n",
      "OK\n",
      "Married\n",
      "Single\n",
      "Time taken: 1.698 seconds, Fetched: 2 row(s)\n"
     ]
    }
   ],
   "source": [
    "%%hive\n",
    "--\n",
    "-- Este comando permite ver los registro únicos de un campo.\n",
    "--\n",
    "SELECT DISTINCT maritalstatus FROM persons;"
   ]
  },
  {
   "cell_type": "code",
   "execution_count": 14,
   "metadata": {
    "scrolled": false
   },
   "outputs": [
    {
     "name": "stdout",
     "output_type": "stream",
     "text": [
      "--\n",
      "-- Se indica que campos se desean seleccionar.\n",
      "--\n",
      "SELECT ssn, fullname FROM persons;\n",
      "OK\n",
      "216-51-1025\tMarco Goodman\n",
      "116-51-1291\tRoxanne Kerns\n",
      "177-44-1159\tRegina Lauritzen\n",
      "Time taken: 0.07 seconds, Fetched: 3 row(s)\n"
     ]
    }
   ],
   "source": [
    "%%hive\n",
    "--\n",
    "-- Se indica que campos se desean seleccionar.\n",
    "--\n",
    "SELECT ssn, fullname FROM persons;"
   ]
  },
  {
   "cell_type": "code",
   "execution_count": 15,
   "metadata": {},
   "outputs": [
    {
     "name": "stdout",
     "output_type": "stream",
     "text": [
      "--\n",
      "-- Expresiones regulares en los nombres\n",
      "--\n",
      "SELECT 's*' FROM persons;\n",
      "OK\n",
      "s*\n",
      "s*\n",
      "s*\n",
      "Time taken: 0.072 seconds, Fetched: 3 row(s)\n"
     ]
    }
   ],
   "source": [
    "%%hive\n",
    "--\n",
    "-- Expresiones regulares en los nombres\n",
    "--\n",
    "SELECT 's*' FROM persons;"
   ]
  },
  {
   "cell_type": "code",
   "execution_count": 16,
   "metadata": {},
   "outputs": [
    {
     "name": "stdout",
     "output_type": "stream",
     "text": [
      "--\n",
      "-- También es posible usar funciones y realizar cómputos con los\n",
      "-- valores de las columnas\n",
      "--\n",
      "SELECT upper(fullname) FROM persons;\n",
      "OK\n",
      "MARCO GOODMAN\n",
      "ROXANNE KERNS\n",
      "REGINA LAURITZEN\n",
      "Time taken: 0.074 seconds, Fetched: 3 row(s)\n"
     ]
    }
   ],
   "source": [
    "%%hive\n",
    "--\n",
    "-- También es posible usar funciones y realizar cómputos con los\n",
    "-- valores de las columnas\n",
    "--\n",
    "SELECT upper(fullname) FROM persons;"
   ]
  },
  {
   "cell_type": "markdown",
   "metadata": {},
   "source": [
    "---\n",
    "**Ejercicio.--** Cuáles funciones se pueden aplicar en `Hive` en una clausula SELECT?.\n",
    "\n",
    "**Ejercicio.--** Qué función cumplen las siguientes funciones en una clausula SELECT?\n",
    "\n",
    "* `explode`.\n",
    "\n",
    "\n",
    "* `json_tuple`.\n",
    "\n",
    "\n",
    "* `parse_url_tuple`.\n",
    "\n",
    "\n",
    "* `stack`\n",
    "\n",
    "---"
   ]
  },
  {
   "cell_type": "markdown",
   "metadata": {},
   "source": [
    "**WHERE**"
   ]
  },
  {
   "cell_type": "code",
   "execution_count": 17,
   "metadata": {},
   "outputs": [
    {
     "name": "stdout",
     "output_type": "stream",
     "text": [
      "--\n",
      "-- Condicional.\n",
      "--\n",
      "SELECT * FROM persons WHERE birthdate >= \"1974-01-01\";\n",
      "OK\n",
      "1\t216-51-1025\t(09)-5580-7527\tMemphis (Tennessee)\tSingle\tMarco Goodman\t1988-06-30\n",
      "NULL\t116-51-1291\t(07)-2905-7818\tBuffalo (New York)\tMarried\tRoxanne Kerns\t1974-11-27\n",
      "Time taken: 0.111 seconds, Fetched: 2 row(s)\n"
     ]
    }
   ],
   "source": [
    "%%hive\n",
    "--\n",
    "-- Condicional.\n",
    "--\n",
    "SELECT * FROM persons WHERE birthdate >= \"1974-01-01\";"
   ]
  },
  {
   "cell_type": "markdown",
   "metadata": {},
   "source": [
    "La función LIKE permite buscar patrones específicos dentro de cadenas de caracteres.\n",
    "\n",
    "    > LIKE 'a%'   : Encuentra los valores que inician con 'a'\n",
    "    > LIKE '%a'   : Encuentra los valores que terminan con 'a'\n",
    "    > LIKE '%a%'  : Encuentra los valores que contengan 'a' en cualquier posición\n",
    "    > LIKE '_a%'  : Encuentra los valores que contengan 'a' en la segunda posición\n",
    "    > LIKE 'a_%_%': Encuentra los valores que inician con 'a' y tienen al menos 3 caracteres\n",
    "    > LIKE 'a%o'  : Encuentra los valores que inician con 'a' y terminan con 'o'"
   ]
  },
  {
   "cell_type": "markdown",
   "metadata": {},
   "source": [
    "---\n",
    "**Ejercicio.--** Que significa el comando `RLIKE` que soporta Hive?\n",
    "\n",
    "---"
   ]
  },
  {
   "cell_type": "code",
   "execution_count": 18,
   "metadata": {},
   "outputs": [
    {
     "name": "stdout",
     "output_type": "stream",
     "text": [
      "--\n",
      "-- Condicional para cadenas de caracteres.\n",
      "--\n",
      "SELECT * FROM persons WHERE fullname LIKE \"R%\";\n",
      "OK\n",
      "NULL\t116-51-1291\t(07)-2905-7818\tBuffalo (New York)\tMarried\tRoxanne Kerns\t1974-11-27\n",
      "NULL\t177-44-1159\t(09)-5062-6922\tDetroit (Michigan)\tSingle\tRegina Lauritzen\t1969-07-27\n",
      "Time taken: 0.071 seconds, Fetched: 2 row(s)\n"
     ]
    }
   ],
   "source": [
    "%%hive\n",
    "--\n",
    "-- Condicional para cadenas de caracteres.\n",
    "--\n",
    "SELECT * FROM persons WHERE fullname LIKE \"R%\";"
   ]
  },
  {
   "cell_type": "code",
   "execution_count": 19,
   "metadata": {},
   "outputs": [
    {
     "name": "stdout",
     "output_type": "stream",
     "text": [
      "--\n",
      "-- Conectores lógicos (OR).\n",
      "--\n",
      "';\n",
      "OK\n",
      "NULL\t116-51-1291\t(07)-2905-7818\tBuffalo (New York)\tMarried\tRoxanne Kerns\t1974-11-27\n",
      "NULL\t177-44-1159\t(09)-5062-6922\tDetroit (Michigan)\tSingle\tRegina Lauritzen\t1969-07-27\n",
      "Time taken: 0.076 seconds, Fetched: 2 row(s)\n"
     ]
    }
   ],
   "source": [
    "%%hive\n",
    "--\n",
    "-- Conectores lógicos (OR).\n",
    "--\n",
    "SELECT * FROM persons WHERE maritalstatus = 'Married' OR fullname LIKE 'R%';"
   ]
  },
  {
   "cell_type": "code",
   "execution_count": 20,
   "metadata": {},
   "outputs": [
    {
     "name": "stdout",
     "output_type": "stream",
     "text": [
      "--\n",
      "-- Conectores lógicos (AND).\n",
      "--\n",
      "%';\n",
      "OK\n",
      "NULL\t116-51-1291\t(07)-2905-7818\tBuffalo (New York)\tMarried\tRoxanne Kerns\t1974-11-27\n",
      "Time taken: 0.075 seconds, Fetched: 1 row(s)\n"
     ]
    }
   ],
   "source": [
    "%%hive\n",
    "--\n",
    "-- Conectores lógicos (AND).\n",
    "--\n",
    "SELECT * FROM persons WHERE maritalstatus = 'Married' AND fullname LIKE 'R%';"
   ]
  },
  {
   "cell_type": "markdown",
   "metadata": {},
   "source": [
    "La función ORDER BY permite organizar los registros de manera ascendente (ORDER BY ... ASC) o de manera descendente (ORDER BY ... DESC). Por defecto, ordena de manera ascendente."
   ]
  },
  {
   "cell_type": "code",
   "execution_count": 21,
   "metadata": {},
   "outputs": [
    {
     "name": "stdout",
     "output_type": "stream",
     "text": [
      "--\n",
      "-- Ordenamiento\n",
      "--\n",
      "SELECT * FROM persons ORDER BY maritalstatus LIMIT 4;\n",
      "Query ID = jdvelasq_20180906214009_502cc91b-7678-48be-bf0a-4561e06a694b\n",
      "Total jobs = 1\n",
      "Launching Job 1 out of 1\n",
      "Number of reduce tasks determined at compile time: 1\n",
      "In order to change the average load for a reducer (in bytes):\n",
      "  set hive.exec.reducers.bytes.per.reducer=<number>\n",
      "In order to limit the maximum number of reducers:\n",
      "  set hive.exec.reducers.max=<number>\n",
      "In order to set a constant number of reducers:\n",
      "  set mapreduce.job.reduces=<number>\n",
      "Job running in-process (local Hadoop)\n",
      "2018-09-06 21:40:10,910 Stage-1 map = 100%,  reduce = 100%\n",
      "Ended Job = job_local1335954732_0005\n",
      "MapReduce Jobs Launched: \n",
      "Stage-Stage-1:  HDFS Read: 0 HDFS Write: 0 SUCCESS\n",
      "Total MapReduce CPU Time Spent: 0 msec\n",
      "OK\n",
      "NULL\t116-51-1291\t(07)-2905-7818\tBuffalo (New York)\tMarried\tRoxanne Kerns\t1974-11-27\n",
      "NULL\t177-44-1159\t(09)-5062-6922\tDetroit (Michigan)\tSingle\tRegina Lauritzen\t1969-07-27\n",
      "1\t216-51-1025\t(09)-5580-7527\tMemphis (Tennessee)\tSingle\tMarco Goodman\t1988-06-30\n",
      "Time taken: 1.623 seconds, Fetched: 3 row(s)\n"
     ]
    }
   ],
   "source": [
    "%%hive\n",
    "--\n",
    "-- Ordenamiento\n",
    "--\n",
    "SELECT * FROM persons ORDER BY maritalstatus LIMIT 4;"
   ]
  },
  {
   "cell_type": "code",
   "execution_count": 22,
   "metadata": {},
   "outputs": [
    {
     "name": "stdout",
     "output_type": "stream",
     "text": [
      "--\n",
      "-- Condicional para campos string\n",
      "--\n",
      "SELECT * FROM persons WHERE maritalstatus IN ('Married','Single');\n",
      "OK\n",
      "1\t216-51-1025\t(09)-5580-7527\tMemphis (Tennessee)\tSingle\tMarco Goodman\t1988-06-30\n",
      "NULL\t116-51-1291\t(07)-2905-7818\tBuffalo (New York)\tMarried\tRoxanne Kerns\t1974-11-27\n",
      "NULL\t177-44-1159\t(09)-5062-6922\tDetroit (Michigan)\tSingle\tRegina Lauritzen\t1969-07-27\n",
      "Time taken: 0.071 seconds, Fetched: 3 row(s)\n"
     ]
    }
   ],
   "source": [
    "%%hive\n",
    "--\n",
    "-- Condicional para campos string\n",
    "--\n",
    "SELECT * FROM persons WHERE maritalstatus IN ('Married','Single');"
   ]
  },
  {
   "cell_type": "code",
   "execution_count": 23,
   "metadata": {},
   "outputs": [
    {
     "name": "stdout",
     "output_type": "stream",
     "text": [
      "--\n",
      "-- Condicional para campos string\n",
      "--\n",
      "SELECT * FROM persons WHERE maritalstatus NOT IN ('Married','Divorced');\n",
      "OK\n",
      "1\t216-51-1025\t(09)-5580-7527\tMemphis (Tennessee)\tSingle\tMarco Goodman\t1988-06-30\n",
      "NULL\t177-44-1159\t(09)-5062-6922\tDetroit (Michigan)\tSingle\tRegina Lauritzen\t1969-07-27\n",
      "Time taken: 0.065 seconds, Fetched: 2 row(s)\n"
     ]
    }
   ],
   "source": [
    "%%hive\n",
    "--\n",
    "-- Condicional para campos string\n",
    "--\n",
    "SELECT * FROM persons WHERE maritalstatus NOT IN ('Married','Divorced');"
   ]
  },
  {
   "cell_type": "code",
   "execution_count": 24,
   "metadata": {
    "scrolled": false
   },
   "outputs": [
    {
     "name": "stdout",
     "output_type": "stream",
     "text": [
      "--\n",
      "-- Combinación de clausulas opcionales.\n",
      "--\n",
      "SELECT * FROM persons WHERE birthdate >= '1970-01-01' ORDER BY fullname;\n",
      "Query ID = jdvelasq_20180906214011_da3bf8e2-0815-4033-84a3-c24b50343653\n",
      "Total jobs = 1\n",
      "Launching Job 1 out of 1\n",
      "Number of reduce tasks determined at compile time: 1\n",
      "In order to change the average load for a reducer (in bytes):\n",
      "  set hive.exec.reducers.bytes.per.reducer=<number>\n",
      "In order to limit the maximum number of reducers:\n",
      "  set hive.exec.reducers.max=<number>\n",
      "In order to set a constant number of reducers:\n",
      "  set mapreduce.job.reduces=<number>\n",
      "Job running in-process (local Hadoop)\n",
      "2018-09-06 21:40:13,516 Stage-1 map = 100%,  reduce = 100%\n",
      "Ended Job = job_local843192725_0006\n",
      "MapReduce Jobs Launched: \n",
      "Stage-Stage-1:  HDFS Read: 0 HDFS Write: 0 SUCCESS\n",
      "Total MapReduce CPU Time Spent: 0 msec\n",
      "OK\n",
      "1\t216-51-1025\t(09)-5580-7527\tMemphis (Tennessee)\tSingle\tMarco Goodman\t1988-06-30\n",
      "NULL\t116-51-1291\t(07)-2905-7818\tBuffalo (New York)\tMarried\tRoxanne Kerns\t1974-11-27\n",
      "Time taken: 1.734 seconds, Fetched: 2 row(s)\n"
     ]
    }
   ],
   "source": [
    "%%hive\n",
    "--\n",
    "-- Combinación de clausulas opcionales.\n",
    "--\n",
    "SELECT * FROM persons WHERE birthdate >= '1970-01-01' ORDER BY fullname;"
   ]
  },
  {
   "cell_type": "markdown",
   "metadata": {},
   "source": [
    "---\n",
    "**Ejercicio.--** Calcule la edad promedio de las personas.\n",
    "\n",
    "---"
   ]
  },
  {
   "cell_type": "markdown",
   "metadata": {},
   "source": [
    "**FUNCIONES**"
   ]
  },
  {
   "cell_type": "code",
   "execution_count": 25,
   "metadata": {},
   "outputs": [
    {
     "name": "stdout",
     "output_type": "stream",
     "text": [
      "--\n",
      "-- Cuenta cuantos registros hay en la tabla.\n",
      "--\n",
      "SELECT COUNT(*) FROM persons;\n",
      "OK\n",
      "3\n",
      "Time taken: 0.181 seconds, Fetched: 1 row(s)\n"
     ]
    }
   ],
   "source": [
    "%%hive\n",
    "--\n",
    "-- Cuenta cuantos registros hay en la tabla.\n",
    "--\n",
    "SELECT COUNT(*) FROM persons;"
   ]
  },
  {
   "cell_type": "code",
   "execution_count": 26,
   "metadata": {},
   "outputs": [
    {
     "name": "stdout",
     "output_type": "stream",
     "text": [
      "--\n",
      "-- Cuenta la cantidad de registros con información \n",
      "-- en el campo fullname\n",
      "--\n",
      "SELECT COUNT(fullname) FROM persons;\n",
      "Query ID = jdvelasq_20180906214014_f68031f7-683e-461c-aeed-5298f7c0679e\n",
      "Total jobs = 1\n",
      "Launching Job 1 out of 1\n",
      "Number of reduce tasks determined at compile time: 1\n",
      "In order to change the average load for a reducer (in bytes):\n",
      "  set hive.exec.reducers.bytes.per.reducer=<number>\n",
      "In order to limit the maximum number of reducers:\n",
      "  set hive.exec.reducers.max=<number>\n",
      "In order to set a constant number of reducers:\n",
      "  set mapreduce.job.reduces=<number>\n",
      "Job running in-process (local Hadoop)\n",
      "2018-09-06 21:40:15,841 Stage-1 map = 100%,  reduce = 100%\n",
      "Ended Job = job_local1215288763_0007\n",
      "MapReduce Jobs Launched: \n",
      "Stage-Stage-1:  HDFS Read: 0 HDFS Write: 0 SUCCESS\n",
      "Total MapReduce CPU Time Spent: 0 msec\n",
      "OK\n",
      "3\n",
      "Time taken: 1.612 seconds, Fetched: 1 row(s)\n"
     ]
    }
   ],
   "source": [
    "%%hive\n",
    "--\n",
    "-- Cuenta la cantidad de registros con información \n",
    "-- en el campo fullname\n",
    "--\n",
    "SELECT COUNT(fullname) FROM persons;"
   ]
  },
  {
   "cell_type": "markdown",
   "metadata": {},
   "source": [
    "---\n",
    "**Ejercicio.--** Calcule la suma de las edades de las personas.\n",
    "\n",
    "---"
   ]
  },
  {
   "cell_type": "code",
   "execution_count": 27,
   "metadata": {},
   "outputs": [
    {
     "name": "stdout",
     "output_type": "stream",
     "text": [
      "--\n",
      "-- Cuenta cuantas veces aparece cada año\n",
      "-- de nacimiento en la tabla.\n",
      "--\n",
      "SELECT YEAR(birthdate), COUNT(*) FROM persons GROUP BY YEAR(birthdate);\n",
      "Query ID = jdvelasq_20180906214016_33ed0f7f-2664-41e4-a9a7-af1e511d945f\n",
      "Total jobs = 1\n",
      "Launching Job 1 out of 1\n",
      "Number of reduce tasks not specified. Estimated from input data size: 1\n",
      "In order to change the average load for a reducer (in bytes):\n",
      "  set hive.exec.reducers.bytes.per.reducer=<number>\n",
      "In order to limit the maximum number of reducers:\n",
      "  set hive.exec.reducers.max=<number>\n",
      "In order to set a constant number of reducers:\n",
      "  set mapreduce.job.reduces=<number>\n",
      "Job running in-process (local Hadoop)\n",
      "2018-09-06 21:40:17,862 Stage-1 map = 100%,  reduce = 100%\n",
      "Ended Job = job_local1761202344_0008\n",
      "MapReduce Jobs Launched: \n",
      "Stage-Stage-1:  HDFS Read: 0 HDFS Write: 0 SUCCESS\n",
      "Total MapReduce CPU Time Spent: 0 msec\n",
      "OK\n",
      "1969\t1\n",
      "1974\t1\n",
      "1988\t1\n",
      "Time taken: 1.711 seconds, Fetched: 3 row(s)\n"
     ]
    }
   ],
   "source": [
    "%%hive\n",
    "--\n",
    "-- Cuenta cuantas veces aparece cada año\n",
    "-- de nacimiento en la tabla.\n",
    "--\n",
    "SELECT YEAR(birthdate), COUNT(*) FROM persons GROUP BY YEAR(birthdate);"
   ]
  },
  {
   "cell_type": "code",
   "execution_count": 28,
   "metadata": {},
   "outputs": [
    {
     "name": "stdout",
     "output_type": "stream",
     "text": [
      "--\n",
      "-- Cuenta cuantas veces aparece cada año\n",
      "-- de nacimiento en la tabla.\n",
      "--\n",
      "SELECT YEAR(birthdate), COUNT(*) FROM persons GROUP BY YEAR(birthdate);\n",
      "Query ID = jdvelasq_20180906214018_ac870230-a3cf-4d66-98f5-9c65a4d58edd\n",
      "Total jobs = 1\n",
      "Launching Job 1 out of 1\n",
      "Number of reduce tasks not specified. Estimated from input data size: 1\n",
      "In order to change the average load for a reducer (in bytes):\n",
      "  set hive.exec.reducers.bytes.per.reducer=<number>\n",
      "In order to limit the maximum number of reducers:\n",
      "  set hive.exec.reducers.max=<number>\n",
      "In order to set a constant number of reducers:\n",
      "  set mapreduce.job.reduces=<number>\n",
      "Job running in-process (local Hadoop)\n",
      "2018-09-06 21:40:19,858 Stage-1 map = 100%,  reduce = 100%\n",
      "Ended Job = job_local1443383601_0009\n",
      "MapReduce Jobs Launched: \n",
      "Stage-Stage-1:  HDFS Read: 0 HDFS Write: 0 SUCCESS\n",
      "Total MapReduce CPU Time Spent: 0 msec\n",
      "OK\n",
      "1969\t1\n",
      "1974\t1\n",
      "1988\t1\n",
      "Time taken: 1.697 seconds, Fetched: 3 row(s)\n"
     ]
    }
   ],
   "source": [
    "%%hive\n",
    "--\n",
    "-- Cuenta cuantas veces aparece cada año\n",
    "-- de nacimiento en la tabla.\n",
    "--\n",
    "SELECT YEAR(birthdate), COUNT(*) FROM persons GROUP BY YEAR(birthdate);"
   ]
  },
  {
   "cell_type": "markdown",
   "metadata": {},
   "source": [
    "---\n",
    "**Ejercicio.--** Agregue la columna edad con la edad de las personas.\n",
    "\n",
    "---"
   ]
  },
  {
   "cell_type": "markdown",
   "metadata": {},
   "source": [
    "**SUBCONSULTAS**"
   ]
  },
  {
   "cell_type": "code",
   "execution_count": 29,
   "metadata": {},
   "outputs": [
    {
     "name": "stdout",
     "output_type": "stream",
     "text": [
      "--\n",
      "-- Sub-consultas.\n",
      "-- Busca la persona más vieja en la tabla.\n",
      "--\n",
      "s);\n",
      "Query ID = jdvelasq_20180906214020_0f375063-ef51-438b-81ca-f21673b351fe\n",
      "Total jobs = 2\n",
      "Launching Job 1 out of 2\n",
      "Number of reduce tasks determined at compile time: 1\n",
      "In order to change the average load for a reducer (in bytes):\n",
      "  set hive.exec.reducers.bytes.per.reducer=<number>\n",
      "In order to limit the maximum number of reducers:\n",
      "  set hive.exec.reducers.max=<number>\n",
      "In order to set a constant number of reducers:\n",
      "  set mapreduce.job.reduces=<number>\n",
      "Job running in-process (local Hadoop)\n",
      "2018-09-06 21:40:22,006 Stage-2 map = 100%,  reduce = 100%\n",
      "Ended Job = job_local2122374576_0010\n",
      "SLF4J: Found binding in [jar:file:/Users/jdvelasq/hive/lib/log4j-slf4j-impl-2.10.0.jar!/org/slf4j/impl/StaticLoggerBinder.class]\n",
      "SLF4J: Actual binding is of type [org.apache.logging.slf4j.Log4jLoggerFactory]\n",
      "2018-09-06 21:40:35\tDump the side-table for tag: 0 with group count: 3 into file: file:/tmp/hive/java/jdvelasq/ee42b93c-3f20-4c48-996f-a3f301fad579/hive_2018-09-06_21-40-20_170_7351790960977525275-1/-local-10005/HashTable-Stage-3/MapJoin-mapfile00--.hashtable2018-09-06 21:40:35\tUploaded 1 File to: file:/tmp/hive/java/jdvelasq/ee42b93c-3f20-4c48-996f-a3f301fad579/hive_2018-09-06_21-40-20_170_7351790960977525275-1/-local-10005/HashTable-Stage-3/MapJoin-mapfile00--.hashtable (532 bytes)\n",
      "Execution completed successfully\n",
      "MapredLocal task succeeded\n",
      "Launching Job 2 out of 2\n",
      "Number of reduce tasks is set to 0 since there's no reduce operator\n",
      "Job running in-process (local Hadoop)\n",
      "2018-09-06 21:40:40,743 Stage-3 map = 100%,  reduce = 0%\n",
      "Ended Job = job_local1318583503_0011\n",
      "MapReduce Jobs Launched: \n",
      "Stage-Stage-2:  HDFS Read: 0 HDFS Write: 0 SUCCESS\n",
      "Stage-Stage-3:  HDFS Read: 0 HDFS Write: 0 SUCCESS\n",
      "Total MapReduce CPU Time Spent: 0 msec\n",
      "OK\n",
      "NULL\t177-44-1159\t(09)-5062-6922\tDetroit (Michigan)\tSingle\tRegina Lauritzen\t1969-07-27\n",
      "Time taken: 20.578 seconds, Fetched: 1 row(s)\n"
     ]
    }
   ],
   "source": [
    "%%hive\n",
    "--\n",
    "-- Sub-consultas.\n",
    "-- Busca la persona más vieja en la tabla.\n",
    "--\n",
    "SELECT * FROM persons WHERE birthdate = (SELECT MIN(birthdate) FROM persons);"
   ]
  },
  {
   "cell_type": "markdown",
   "metadata": {},
   "source": [
    "---\n",
    "**Ejercicio.--** Cómo se usa una clausula `CASE` ... `WHEN` ... `THEN` en Hive?\n",
    "\n",
    "**Ejercicio.--** Cómo se usa una clausula `GROUPBY` en Hive?\n",
    "\n",
    "**Ejercicio.--** Cómo se usa una clausula `HAVING` en Hive?\n",
    " \n",
    "---\n",
    "\n"
   ]
  },
  {
   "cell_type": "markdown",
   "metadata": {},
   "source": [
    "Gestión de Registros\n",
    "===\n",
    "\n",
    "**Juan David Velásquez Henao**  \n",
    "jdvelasq@unal.edu.co   \n",
    "Universidad Nacional de Colombia, Sede Medellín  \n",
    "Facultad de Minas  \n",
    "Medellín, Colombia\n",
    "\n",
    "---\n",
    "\n",
    "Haga click [aquí](https://github.com/jdvelasq/apache-hive-course) para acceder al repositorio en GitHub.\n",
    "\n",
    "Haga click [aquí](http://nbviewer.jupyter.org/github/jdvelasq/apache-hive-course/tree/master/) para explorar el repositorio usando en `nbviewer`. \n",
    "\n",
    "---"
   ]
  }
 ],
 "metadata": {
  "kernelspec": {
   "display_name": "Python 3",
   "language": "python",
   "name": "python3"
  },
  "language_info": {
   "codemirror_mode": {
    "name": "ipython",
    "version": 3
   },
   "file_extension": ".py",
   "mimetype": "text/x-python",
   "name": "python",
   "nbconvert_exporter": "python",
   "pygments_lexer": "ipython3",
   "version": "3.6.5"
  }
 },
 "nbformat": 4,
 "nbformat_minor": 2
}
