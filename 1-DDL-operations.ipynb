{
 "cells": [
  {
   "cell_type": "markdown",
   "metadata": {},
   "source": [
    "Lenguaje de Definición de Datos\n",
    "===\n",
    "\n",
    "**Juan David Velásquez Henao**  \n",
    "jdvelasq@unal.edu.co   \n",
    "Universidad Nacional de Colombia, Sede Medellín  \n",
    "Facultad de Minas  \n",
    "Medellín, Colombia\n",
    "\n",
    "---\n",
    "\n",
    "Haga click [aquí](https://github.com/jdvelasq/apache-hive-course) para acceder al repositorio en GitHub.\n",
    "\n",
    "Haga click [aquí](http://nbviewer.jupyter.org/github/jdvelasq/apache-hive-course/tree/master/) para explorar el repositorio usando en `nbviewer`. "
   ]
  },
  {
   "cell_type": "markdown",
   "metadata": {},
   "source": [
    "---"
   ]
  },
  {
   "cell_type": "markdown",
   "metadata": {},
   "source": [
    "## Ejecución de Hive"
   ]
  },
  {
   "cell_type": "markdown",
   "metadata": {},
   "source": [
    "**Ejecución de Hive en la consola de comandos.--** Esta es la forma más común de trabajo. La bodega de datos debe ser creada en la carpeta donde se invocará `hive` con el siguiente comando:\n",
    "\n",
    "     $HIVE_HOME/bin/schematool -dbType derby -initSchema\n",
    "     \n",
    "Note que si invoca `hive` desde otra carpeta se generará un error. En otras palabras, use el comando anterior en la carpeta donde descargo esta serie de tutoriales para que los comandos puedan ejecutarse desde Jupyter.\n",
    "\n",
    "La primera vez que se ejecuta Hive, crea en la carpeta actual, las carpetas:\n",
    "\n",
    "* metastore_db: contiene los metadatos\n",
    "\n",
    "\n",
    "* warehouse: contiene las bases de datos y las tablas\n",
    "\n",
    "También es posible enviar comandos y salir inmediatamente de `hive`. Para ello, use la opción `-e`; por ejemplo, en Terminal digite:\n",
    "\n",
    "    hive -e \"SHOW DATABASES;\"\n",
    "    \n",
    "La opción `-S` corresponde al modo silencioso, en el que se suprime información adicional. En conjunción con el operador `>` hace posible la generación de archivos de texto con los resultados de la ejecución de uno o más comandos:\n",
    "\n",
    "    hive -S -e \"SELECT * FROM table LIMIT 3;\" > result.txt\n",
    "    \n",
    "    \n",
    "Adicionalmente, es posible almacenar secuencias de comandos en archivos (usualmente con extensión \".q\" o \".hql\" que pueden ejecutarse desde `hive`. En el prompt de `hive` use el comando `source`:\n",
    "\n",
    "    hive> source miprog.hql\n",
    "    \n",
    "    \n",
    "y en la línea de comandos\n",
    "\n",
    "    hive -S -e \"source miprog.hql\"\n",
    "\n",
    "\n"
   ]
  },
  {
   "cell_type": "markdown",
   "metadata": {},
   "source": [
    "**Ejecución de comandos del sistema operativo desde Hive.--** `hive` permite la ejecución de comandos del sistema operativo usando `!`; por ejemplo:\n",
    "\n",
    "     hive> ! ls\n",
    "     \n",
    "También es posible usar comandos del sistema HDFS; el comando `hadoop dfs -ls /` se escribiría en `hive` como\n",
    "\n",
    "     hive> dfs -ls / ;\n",
    "     "
   ]
  },
  {
   "cell_type": "markdown",
   "metadata": {},
   "source": [
    "**Comentarios.--** Se usan los dos guiones `--`."
   ]
  },
  {
   "cell_type": "markdown",
   "metadata": {},
   "source": [
    "**Ejecución de Hive en Jupyter.--** A continuación se describe como ejecutar comandos de Hive en Jupyter. El archivo `hivemagic.py` contiene el codigo para ejecutar comandos de Hive directamente en las celdas de un libro de Jupyter. Para instalar el magic, simplemente ejecute el código de dicho archivo.\n",
    "\n",
    "Modifique el archivo `hivemagic.py` indicando el directorio de instalación de Hive."
   ]
  },
  {
   "cell_type": "code",
   "execution_count": 1,
   "metadata": {},
   "outputs": [
    {
     "name": "stdout",
     "output_type": "stream",
     "text": [
      "SLF4J: Class path contains multiple SLF4J bindings.\n",
      "SLF4J: Found binding in [jar:file:/Users/jdvelasq/hive/lib/log4j-slf4j-impl-2.10.0.jar!/org/slf4j/impl/StaticLoggerBinder.class]\n",
      "SLF4J: Found binding in [jar:file:/Users/jdvelasq/hadoop/share/hadoop/common/lib/slf4j-log4j12-1.7.25.jar!/org/slf4j/impl/StaticLoggerBinder.class]\n",
      "SLF4J: See http://www.slf4j.org/codes.html#multiple_bindings for an explanation.\n",
      "SLF4J: Actual binding is of type [org.apache.logging.slf4j.Log4jLoggerFactory]\n",
      "Hive Session ID = a9c41b53-6d99-41df-a7cb-19d7c7983335\n",
      "\n",
      "Logging initialized using configuration in jar:file:/Users/jdvelasq/hive/lib/hive-common-3.1.0.jar!/hive-log4j2.properties Async: true\n",
      "Hive Session ID = 5cf2071b-29b2-4791-860a-16194ec10678\n",
      "Hive-on-MR is deprecated in Hive 2 and may not be available in the future versions. Consider using a different execution engine (i.e. spark, tez) or using Hive 1.X releases.\n",
      "\n"
     ]
    }
   ],
   "source": [
    "%run hivemagic.py"
   ]
  },
  {
   "cell_type": "markdown",
   "metadata": {},
   "source": [
    "---"
   ]
  },
  {
   "cell_type": "markdown",
   "metadata": {},
   "source": [
    "**CREATE DATABASE**\n",
    "\n",
    "    CREATE (DATABASE|SCHEMA) [IF NOT EXISTS] database_name\n",
    "       [COMMENT database_comment]\n",
    "       [LOCATION hdfs_path]\n",
    "       [WITH DBPROPERTIES (property_name=property_value, ...)];"
   ]
  },
  {
   "cell_type": "code",
   "execution_count": 2,
   "metadata": {
    "scrolled": true
   },
   "outputs": [
    {
     "name": "stdout",
     "output_type": "stream",
     "text": [
      "-- \n",
      "-- Crea la base de datos mydb.\n",
      "--\n",
      "CREATE DATABASE mydb;\n",
      "OK\n",
      "Time taken: 0.985 seconds\n"
     ]
    }
   ],
   "source": [
    "%%hive\n",
    "-- \n",
    "-- Crea la base de datos mydb.\n",
    "--\n",
    "CREATE DATABASE mydb;"
   ]
  },
  {
   "cell_type": "code",
   "execution_count": 3,
   "metadata": {
    "scrolled": false
   },
   "outputs": [
    {
     "name": "stdout",
     "output_type": "stream",
     "text": [
      "--\n",
      "-- crea la base de datos mydb únicamente si no existe\n",
      "-- (note que aparece un warning)\n",
      "--\n",
      "CREATE DATABASE IF NOT EXISTS mydb COMMENT 'Database de prueba';\n",
      "OK\n",
      "Time taken: 0.009 seconds\n"
     ]
    }
   ],
   "source": [
    "%%hive\n",
    "--\n",
    "-- crea la base de datos mydb únicamente si no existe\n",
    "-- (note que aparece un warning)\n",
    "--\n",
    "CREATE DATABASE IF NOT EXISTS mydb COMMENT 'Database de prueba';"
   ]
  },
  {
   "cell_type": "markdown",
   "metadata": {},
   "source": [
    "---\n",
    "**Ejercicio.--** Describa el efecto del siguiente comando:\n",
    "  \n",
    "     CREATE DATABASE demo LOCATION ~/temp/directory ;\n",
    "     \n",
    "---"
   ]
  },
  {
   "cell_type": "markdown",
   "metadata": {},
   "source": [
    "**SHOW DATABASES**"
   ]
  },
  {
   "cell_type": "code",
   "execution_count": 4,
   "metadata": {
    "scrolled": false
   },
   "outputs": [
    {
     "name": "stdout",
     "output_type": "stream",
     "text": [
      "--\n",
      "-- muestra las bases de datos existentes\n",
      "-- \n",
      "SHOW DATABASES;\n",
      "OK\n",
      "db\n",
      "default\n",
      "mydb\n",
      "Time taken: 0.133 seconds, Fetched: 3 row(s)\n"
     ]
    }
   ],
   "source": [
    "%%hive\n",
    "--\n",
    "-- muestra las bases de datos existentes\n",
    "-- \n",
    "SHOW DATABASES;"
   ]
  },
  {
   "cell_type": "code",
   "execution_count": 5,
   "metadata": {},
   "outputs": [
    {
     "name": "stdout",
     "output_type": "stream",
     "text": [
      "SHOW DATABASES LIKE 'm*';\n",
      "OK\n",
      "mydb\n",
      "Time taken: 0.038 seconds, Fetched: 1 row(s)\n"
     ]
    }
   ],
   "source": [
    "%%hive\n",
    "SHOW DATABASES LIKE 'm*';"
   ]
  },
  {
   "cell_type": "markdown",
   "metadata": {},
   "source": [
    "**USE**"
   ]
  },
  {
   "cell_type": "code",
   "execution_count": 6,
   "metadata": {},
   "outputs": [
    {
     "name": "stdout",
     "output_type": "stream",
     "text": [
      "--\n",
      "-- Se conecta a la base de datos llamada mydb\n",
      "--\n",
      "USE mydb;\n",
      "OK\n",
      "Time taken: 0.008 seconds\n"
     ]
    }
   ],
   "source": [
    "%%hive\n",
    "--\n",
    "-- Se conecta a la base de datos llamada mydb\n",
    "--\n",
    "USE mydb;"
   ]
  },
  {
   "cell_type": "markdown",
   "metadata": {},
   "source": [
    "---\n",
    "**Ejercicio.--** Cuál es el resultado de los siguientes comandos:\n",
    "\n",
    "    DESCRIBE DATABASE mydb;\n",
    "    \n",
    "    DESCRIBE DATABASE EXTENDED mydb;\n",
    "    \n",
    "---"
   ]
  },
  {
   "cell_type": "markdown",
   "metadata": {},
   "source": [
    "**DROP DATABASE**\n",
    "\n",
    "    DROP (DATABASE|SCHEMA) [IF EXISTS] database_name [RESTRICT|CASCADE];\n",
    "    \n",
    "Por defecto se usa RESTRICT; esta opción genera un error si la base de datos no esta vacía. Si desea borrar también las tablas use la opción CASCADE.   "
   ]
  },
  {
   "cell_type": "code",
   "execution_count": 7,
   "metadata": {
    "scrolled": true
   },
   "outputs": [
    {
     "name": "stdout",
     "output_type": "stream",
     "text": [
      "--\n",
      "-- Borra la base de datos\n",
      "--\n",
      "DROP DATABASE IF EXISTS mydb CASCADE;\n",
      "OK\n",
      "Time taken: 0.152 seconds\n",
      "SHOW DATABASES;\n",
      "OK\n",
      "db\n",
      "default\n",
      "Time taken: 0.029 seconds, Fetched: 2 row(s)\n"
     ]
    }
   ],
   "source": [
    "%%hive\n",
    "--\n",
    "-- Borra la base de datos\n",
    "--\n",
    "DROP DATABASE IF EXISTS mydb CASCADE;\n",
    "SHOW DATABASES;"
   ]
  },
  {
   "cell_type": "markdown",
   "metadata": {},
   "source": [
    "---\n",
    "**Ejercicio.--** Cuál es el significado de la opción CASCADE?.\n",
    "\n",
    "**Ejercicio.--** Cree las bases de datos llamadas db1 y db2.\n",
    "\n",
    "**Ejercicio.--** Conectese a la base de datos db1.\n",
    "\n",
    "**Ejercicio.--** Conectese a la base de datos db2.\n",
    "\n",
    "**Ejercicio.--** Borre las bases de datos db1 y db2.\n",
    "\n",
    "---"
   ]
  },
  {
   "cell_type": "markdown",
   "metadata": {},
   "source": [
    "Las bases de datos se componen de tablas relacionadas por uno o mas campos, lo que permite gestionar diferentes fuentes de información.\n",
    "\n",
    "A continuación se presentan algunas funciones necesarias para la gestión de tablas:"
   ]
  },
  {
   "cell_type": "markdown",
   "metadata": {},
   "source": [
    "**CREATE TABLE**\n",
    "\n",
    "\n",
    "* Forma 1:\n",
    "\n",
    "      CREATE [TEMPORARY] [EXTERNAL] TABLE [IF NOT EXISTS] [db_name.]table_name    \n",
    "        [(col_name data_type [COMMENT col_comment], ... [constraint_specification])]\n",
    "        [COMMENT table_comment]\n",
    "        [PARTITIONED BY (col_name data_type [COMMENT col_comment], ...)]\n",
    "        [CLUSTERED BY (col_name, col_name, ...) [SORTED BY (col_name [ASC|DESC], ...)] \n",
    "          INTO num_buckets BUCKETS]\n",
    "        [SKEWED BY (col_name, col_name, ...)\n",
    "           ON ((col_value, col_value, ...), (col_value, col_value, ...), ...)\n",
    "           [STORED AS DIRECTORIES]\n",
    "        [\n",
    "          [ROW FORMAT row_format] \n",
    "          [STORED AS file_format]\n",
    "             | STORED BY 'storage.handler.class.name' [WITH SERDEPROPERTIES (...)]  \n",
    "        ]\n",
    "        [LOCATION hdfs_path]\n",
    "        [TBLPROPERTIES (property_name=property_value, ...)]  \n",
    "        [AS select_statement];\n",
    " \n",
    " \n",
    "* Forma 2:\n",
    "\n",
    "      CREATE [TEMPORARY] [EXTERNAL] TABLE [IF NOT EXISTS] [db_name.]table_name\n",
    "      LIKE existing_table_or_view_name\n",
    "      [LOCATION hdfs_path];\n",
    " \n",
    "Detalles:  https://cwiki.apache.org/confluence/display/Hive/LanguageManual+DDL#LanguageManualDDL-Create/Drop/Alter/UseDatabase\n",
    " \n",
    " "
   ]
  },
  {
   "cell_type": "code",
   "execution_count": 2,
   "metadata": {},
   "outputs": [
    {
     "name": "stdout",
     "output_type": "stream",
     "text": [
      "DROP DATABASE IF EXISTS db CASCADE;\n",
      "OK\n",
      "Time taken: 1.582 seconds\n",
      "CREATE DATABASE db;\n",
      "OK\n",
      "Time taken: 0.098 seconds\n",
      "USE db;\n",
      "OK\n",
      "Time taken: 0.007 seconds\n"
     ]
    }
   ],
   "source": [
    "%%hive\n",
    "DROP DATABASE IF EXISTS db CASCADE;\n",
    "CREATE DATABASE db;\n",
    "USE db;"
   ]
  },
  {
   "cell_type": "code",
   "execution_count": 3,
   "metadata": {},
   "outputs": [
    {
     "name": "stdout",
     "output_type": "stream",
     "text": [
      "--\n",
      "-- crea la tabla\n",
      "--\n",
      "CREATE TABLE persons (\n",
      "    id INT,\n",
      "    ssn VARCHAR(11),\n",
      "    phone VARCHAR(14),\n",
      "    city VARCHAR(30),\n",
      "    maritalstatus VARCHAR(10),\n",
      "    fullname VARCHAR(30),\n",
      "    birthday TIMESTAMP);\n",
      "OK\n",
      "Time taken: 0.231 seconds\n"
     ]
    }
   ],
   "source": [
    "%%hive\n",
    "--\n",
    "-- crea la tabla\n",
    "--\n",
    "CREATE TABLE persons (\n",
    "    id INT,\n",
    "    ssn VARCHAR(11),\n",
    "    phone VARCHAR(14),\n",
    "    city VARCHAR(30),\n",
    "    maritalstatus VARCHAR(10),\n",
    "    fullname VARCHAR(30),\n",
    "    birthday TIMESTAMP);"
   ]
  },
  {
   "cell_type": "markdown",
   "metadata": {},
   "source": [
    "---\n",
    "**Ejercicio.--** Describa que devuelve el comando:\n",
    "\n",
    "    SHOW TABLES;\n",
    "    \n",
    "**Ejercicio.--** Describa que devuelve el comando:\n",
    "\n",
    "    SHOW CREATE TABLE persons;\n",
    "    \n",
    "**Ejercicio.--** Describa que devuelve el comando:\n",
    "\n",
    "    DESCRIBE persons;\n",
    "    \n",
    "    \n",
    "**Ejercicio.--** Cuáles son los siguientes tipos de datos? Existen en MySQL?\n",
    "\n",
    "* `STRUCT`\n",
    "\n",
    "\n",
    "* `MAP`\n",
    "\n",
    "\n",
    "* `ARRAY`\n",
    "\n",
    "**Ejercicio.--** De ejemplos de uso de los tipos de datos anteriores.\n",
    "\n",
    "\n",
    "---"
   ]
  },
  {
   "cell_type": "code",
   "execution_count": 4,
   "metadata": {},
   "outputs": [
    {
     "name": "stdout",
     "output_type": "stream",
     "text": [
      "CREATE TABLE persons1 (\n",
      "    id INT,\n",
      "    ssn VARCHAR(11),\n",
      "    phone VARCHAR(14),\n",
      "    city VARCHAR(30),\n",
      "    maritalstatus VARCHAR(10),\n",
      "    fullname VARCHAR(30),\n",
      "    birthday TIMESTAMP)\n",
      "COMMENT 'Esta es mi primera tabla'\n",
      "ROW FORMAT DELIMITED\n",
      "FIELDS TERMINATED BY ';'\n",
      "LINES TERMINATED BY '\\n'\n",
      "STORED AS TEXTFILE;\n",
      "OK\n",
      "Time taken: 0.037 seconds\n"
     ]
    }
   ],
   "source": [
    "%%hive\n",
    "CREATE TABLE persons1 (\n",
    "    id INT,\n",
    "    ssn VARCHAR(11),\n",
    "    phone VARCHAR(14),\n",
    "    city VARCHAR(30),\n",
    "    maritalstatus VARCHAR(10),\n",
    "    fullname VARCHAR(30),\n",
    "    birthday TIMESTAMP)\n",
    "COMMENT 'Esta es mi primera tabla'\n",
    "ROW FORMAT DELIMITED\n",
    "FIELDS TERMINATED BY ';'\n",
    "LINES TERMINATED BY '\\n'\n",
    "STORED AS TEXTFILE;"
   ]
  },
  {
   "cell_type": "markdown",
   "metadata": {},
   "source": [
    "---\n",
    "**Ejercicio.--** Donde se almacenó la tabla anteior?\n",
    "\n",
    "\n",
    "**Ejercicio.--** Cuál es el resultado del comando:\n",
    "\n",
    "     SHOW TBLPROPERTIES persons1\n",
    "\n",
    "---\n"
   ]
  },
  {
   "cell_type": "markdown",
   "metadata": {},
   "source": [
    "`LIKE`  permite copiar la estructura de una tabla (pero no sus datos)."
   ]
  },
  {
   "cell_type": "code",
   "execution_count": 5,
   "metadata": {},
   "outputs": [
    {
     "name": "stdout",
     "output_type": "stream",
     "text": [
      "CREATE TABLE IF NOT EXISTS mydb.persons2 LIKE persons1;\n",
      "OK\n",
      "Time taken: 0.019 seconds\n"
     ]
    }
   ],
   "source": [
    "%%hive\n",
    "CREATE TABLE IF NOT EXISTS mydb.persons2 LIKE persons1;"
   ]
  },
  {
   "cell_type": "code",
   "execution_count": 6,
   "metadata": {},
   "outputs": [
    {
     "name": "stdout",
     "output_type": "stream",
     "text": [
      "SHOW TABLES IN mydb;\n",
      "OK\n",
      "persons\n",
      "persons2\n",
      "Time taken: 0.098 seconds, Fetched: 2 row(s)\n"
     ]
    }
   ],
   "source": [
    "%%hive\n",
    "SHOW TABLES IN mydb;"
   ]
  },
  {
   "cell_type": "markdown",
   "metadata": {},
   "source": [
    "**ALTER TABLE**\n",
    "\n",
    "    ALTER TABLE table_name RENAME TO new_table_name;\n",
    "\n",
    "    ALTER TABLE table_name ADD COLUMNS (col_name data_type [COMMENT col_comment], ...)\n",
    "\n",
    "    ALTER TABLE table_name REPLACE COLUMNS (col_name data_type [COMMENT col_comment], ...)\n"
   ]
  },
  {
   "cell_type": "code",
   "execution_count": 7,
   "metadata": {},
   "outputs": [
    {
     "name": "stdout",
     "output_type": "stream",
     "text": [
      "-- \n",
      "-- Agrega una nueva columna especificando su posición.\n",
      "--\n",
      "ALTER TABLE persons ADD COLUMNS (state VARCHAR(8));\n",
      "OK\n",
      "Time taken: 0.072 seconds\n",
      "DESCRIBE persons;\n",
      "OK\n",
      "id                  \tint                 \t                    \n",
      "ssn                 \tvarchar(11)         \t                    \n",
      "phone               \tvarchar(14)         \t                    \n",
      "city                \tvarchar(30)         \t                    \n",
      "maritalstatus       \tvarchar(10)         \t                    \n",
      "fullname            \tvarchar(30)         \t                    \n",
      "birthday            \ttimestamp           \t                    \n",
      "state               \tvarchar(8)          \t                    \n",
      "Time taken: 0.048 seconds, Fetched: 8 row(s)\n"
     ]
    }
   ],
   "source": [
    "%%hive\n",
    "-- \n",
    "-- Agrega una nueva columna especificando su posición.\n",
    "--\n",
    "ALTER TABLE persons ADD COLUMNS (state VARCHAR(8));\n",
    "DESCRIBE persons;"
   ]
  },
  {
   "cell_type": "markdown",
   "metadata": {},
   "source": [
    "---\n",
    "**Ejercicio.--** Cuál es el resultado de los siguientes comandos?\n",
    "\n",
    "     DESCRIBE persons;\n",
    "     \n",
    "     DESCRIBE EXTENDED persons;\n",
    "     \n",
    "     DESCRIBE FORMATED persons;\n",
    "     \n",
    "---"
   ]
  },
  {
   "cell_type": "code",
   "execution_count": 8,
   "metadata": {},
   "outputs": [
    {
     "name": "stdout",
     "output_type": "stream",
     "text": [
      "-- \n",
      "-- Modifica el tipo de campo de una columna.\n",
      "--\n",
      "ALTER TABLE persons CHANGE phone phone VARCHAR(12);\n",
      "OK\n",
      "Time taken: 0.07 seconds\n",
      "DESCRIBE persons;\n",
      "OK\n",
      "id                  \tint                 \t                    \n",
      "ssn                 \tvarchar(11)         \t                    \n",
      "phone               \tvarchar(12)         \t                    \n",
      "city                \tvarchar(30)         \t                    \n",
      "maritalstatus       \tvarchar(10)         \t                    \n",
      "fullname            \tvarchar(30)         \t                    \n",
      "birthday            \ttimestamp           \t                    \n",
      "state               \tvarchar(8)          \t                    \n",
      "Time taken: 0.047 seconds, Fetched: 8 row(s)\n"
     ]
    }
   ],
   "source": [
    "%%hive\n",
    "-- \n",
    "-- Modifica el tipo de campo de una columna.\n",
    "--\n",
    "ALTER TABLE persons CHANGE phone phone VARCHAR(12);\n",
    "DESCRIBE persons;"
   ]
  },
  {
   "cell_type": "code",
   "execution_count": 9,
   "metadata": {
    "scrolled": true
   },
   "outputs": [
    {
     "name": "stdout",
     "output_type": "stream",
     "text": [
      "--\n",
      "-- Borra columnas.\n",
      "--\n",
      "--ALTER TABLE persons REPLACE COLUMNS (id INT, ssn VARCHAR(11));\n",
      "DESCRIBE persons;\n",
      "OK\n",
      "id                  \tint                 \t                    \n",
      "ssn                 \tvarchar(11)         \t                    \n",
      "phone               \tvarchar(12)         \t                    \n",
      "city                \tvarchar(30)         \t                    \n",
      "maritalstatus       \tvarchar(10)         \t                    \n",
      "fullname            \tvarchar(30)         \t                    \n",
      "birthday            \ttimestamp           \t                    \n",
      "state               \tvarchar(8)          \t                    \n",
      "Time taken: 0.045 seconds, Fetched: 8 row(s)\n"
     ]
    }
   ],
   "source": [
    "%%hive\n",
    "--\n",
    "-- Borra columnas.\n",
    "--\n",
    "--ALTER TABLE persons REPLACE COLUMNS (id INT, ssn VARCHAR(11));\n",
    "DESCRIBE persons;"
   ]
  },
  {
   "cell_type": "code",
   "execution_count": 10,
   "metadata": {
    "scrolled": false
   },
   "outputs": [
    {
     "name": "stdout",
     "output_type": "stream",
     "text": [
      "--\n",
      "-- Borrado de tablas:\n",
      "--\n",
      "DROP TABLE IF EXISTS persons;\n",
      "OK\n",
      "Time taken: 0.062 seconds\n",
      "DROP TABLE IF EXISTS persons1;\n",
      "OK\n",
      "Time taken: 0.053 seconds\n"
     ]
    }
   ],
   "source": [
    "%%hive\n",
    "--\n",
    "-- Borrado de tablas:\n",
    "--\n",
    "DROP TABLE IF EXISTS persons;\n",
    "DROP TABLE IF EXISTS persons1;"
   ]
  },
  {
   "cell_type": "markdown",
   "metadata": {},
   "source": [
    "**EXTERNAL TABLES**\n",
    "\n",
    "Las tablas creadas hasta el momento son completamente manejadas por `Hive` y almacenadas en el directorio especificado en la propiedad `hive.metastore.warehouse.dir` del archivo `hive-site.xml`. Sin embargo, estas tablas no son convenientes para compartir directamente información con otras aplicaciones, ya que `Hive` administra los datos. Para analizar info generada por otras aplicaciones resulta más conveniente usar tablas externas. A continuación se presentan dos ejemplos:\n",
    "\n",
    "    CREATE EXTERNAL TABLE IF NOT EXISTS mydb.table1 \n",
    "    LIKE mydb.table\n",
    "    LOCATION '/path/to/data';\n",
    "    \n",
    "    CREATE EXTERNAL TABLE IF NOT EXISTS table1 (\n",
    "       col1 STRING,\n",
    "       col2 STRING)\n",
    "    ROW FORMAT DELIMITED FIELDS TERMINATED BY ',' \n",
    "    LOCATION '/path/to/data';"
   ]
  },
  {
   "cell_type": "markdown",
   "metadata": {},
   "source": [
    "**TABLAS PARTICIONADAS**\n",
    "\n",
    "Permiten dividir físicamente los datos para agilizar procesos de búsqueda y gestión de información. Por ejemplo:\n",
    "\n",
    "    CREATE TABLE IF NOT EXISTS table (\n",
    "       col1 STRING,\n",
    "       col2 STRING,\n",
    "       col3 STRING)\n",
    "    PARTITIONED BY (col4 STRING, col5 STRING);\n",
    "    \n",
    "---\n",
    "**Ejercicio.--** Cómo cambia la estrucutura en disco para una tabla particionada?\n",
    "\n",
    "---\n",
    "\n",
    "Para ver las particiones:\n",
    "\n",
    "    SHOW PARTITIONS table;\n",
    "    \n",
    "    SHOW PARTITIONS table PARTITION (col4='x');\n",
    "    \n",
    "    \n",
    "Las particiones también pueden crearse después de haber creado la tabla.\n",
    "\n",
    "    ALTER TABLE table ADD PARTITION(col5 = xxx, col6 = xxxx)\n",
    "    LOCATION '/path/to/data';\n",
    "    \n",
    "La partición también puede lograrse al momento de cargar los datos:\n",
    "\n",
    "    LOAD DATA INPATH 'path/to/data'\n",
    "    INTO TABLE table\n",
    "    PARTITION(col4 = val, col5 = val);\n",
    "    \n",
    "También es posible usar este tipo de tablas con tablas externas:\n",
    "\n",
    "    CREATE EXTERNAL TABLE IF NOT EXISTS table1 (\n",
    "       col1 STRING,\n",
    "       col2 STRING)\n",
    "    PARTITIONED BY (col3 INT)\n",
    "    ROW FORMAT DELIMITED FIELDS TERMINATED BY ',' \n",
    "    LOCATION '/path/to/data';"
   ]
  },
  {
   "cell_type": "markdown",
   "metadata": {},
   "source": [
    "---"
   ]
  },
  {
   "cell_type": "markdown",
   "metadata": {},
   "source": [
    "Lenguaje de Definición de Datos\n",
    "===\n",
    "\n",
    "**Juan David Velásquez Henao**  \n",
    "jdvelasq@unal.edu.co   \n",
    "Universidad Nacional de Colombia, Sede Medellín  \n",
    "Facultad de Minas  \n",
    "Medellín, Colombia\n",
    "\n",
    "---\n",
    "\n",
    "Haga click [aquí](https://github.com/jdvelasq/apache-hive-course) para acceder al repositorio en GitHub.\n",
    "\n",
    "Haga click [aquí](http://nbviewer.jupyter.org/github/jdvelasq/apache-hive-course/tree/master/) para explorar el repositorio usando en `nbviewer`. \n",
    "\n",
    "---"
   ]
  }
 ],
 "metadata": {
  "kernelspec": {
   "display_name": "Python 3",
   "language": "python",
   "name": "python3"
  },
  "language_info": {
   "codemirror_mode": {
    "name": "ipython",
    "version": 3
   },
   "file_extension": ".py",
   "mimetype": "text/x-python",
   "name": "python",
   "nbconvert_exporter": "python",
   "pygments_lexer": "ipython3",
   "version": "3.6.5"
  }
 },
 "nbformat": 4,
 "nbformat_minor": 2
}
