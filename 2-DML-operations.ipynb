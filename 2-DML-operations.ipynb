{
 "cells": [
  {
   "cell_type": "markdown",
   "metadata": {},
   "source": [
    "Lenguaje de Manipulación de Datos\n",
    "===\n",
    "\n",
    "**Juan David Velásquez Henao**  \n",
    "jdvelasq@unal.edu.co   \n",
    "Universidad Nacional de Colombia, Sede Medellín  \n",
    "Facultad de Minas  \n",
    "Medellín, Colombia\n",
    "\n",
    "---\n",
    "\n",
    "Haga click [aquí](https://github.com/jdvelasq/apache-hive-course) para acceder al repositorio en GitHub.\n",
    "\n",
    "Haga click [aquí](http://nbviewer.jupyter.org/github/jdvelasq/apache-hive-course/tree/master/) para explorar el repositorio usando en `nbviewer`. "
   ]
  },
  {
   "cell_type": "markdown",
   "metadata": {},
   "source": [
    "---"
   ]
  },
  {
   "cell_type": "code",
   "execution_count": 1,
   "metadata": {},
   "outputs": [
    {
     "name": "stdout",
     "output_type": "stream",
     "text": [
      "SLF4J: Class path contains multiple SLF4J bindings.\n",
      "SLF4J: Found binding in [jar:file:/Users/jdvelasq/hive/lib/log4j-slf4j-impl-2.10.0.jar!/org/slf4j/impl/StaticLoggerBinder.class]\n",
      "SLF4J: Found binding in [jar:file:/Users/jdvelasq/hadoop/share/hadoop/common/lib/slf4j-log4j12-1.7.25.jar!/org/slf4j/impl/StaticLoggerBinder.class]\n",
      "SLF4J: See http://www.slf4j.org/codes.html#multiple_bindings for an explanation.\n",
      "SLF4J: Actual binding is of type [org.apache.logging.slf4j.Log4jLoggerFactory]\n",
      "Hive Session ID = 31fe3ad2-5e17-47b1-a6c4-6325a69dc62c\n",
      "\n",
      "Logging initialized using configuration in jar:file:/Users/jdvelasq/hive/lib/hive-common-3.1.0.jar!/hive-log4j2.properties Async: true\n",
      "Hive Session ID = 2066b975-d018-4f4e-b1a4-c478aef89096\n",
      "Hive-on-MR is deprecated in Hive 2 and may not be available in the future versions. Consider using a different execution engine (i.e. spark, tez) or using Hive 1.X releases.\n",
      "\n"
     ]
    }
   ],
   "source": [
    "%run hivemagic.py"
   ]
  },
  {
   "cell_type": "markdown",
   "metadata": {},
   "source": [
    "---"
   ]
  },
  {
   "cell_type": "markdown",
   "metadata": {},
   "source": [
    "**Preparación de datos.**"
   ]
  },
  {
   "cell_type": "code",
   "execution_count": 2,
   "metadata": {},
   "outputs": [
    {
     "name": "stdout",
     "output_type": "stream",
     "text": [
      "DROP DATABASE IF EXISTS DMLdb CASCADE;\n",
      "OK\n",
      "Time taken: 1.548 seconds\n",
      "CREATE DATABASE DMLdb;\n",
      "OK\n",
      "Time taken: 0.094 seconds\n",
      "USE DMLdb;\n",
      "OK\n",
      "Time taken: 0.007 seconds\n",
      "CREATE TABLE persons (\n",
      "    ssn VARCHAR(11),\n",
      "    phone VARCHAR(14),\n",
      "    city VARCHAR(30),\n",
      "    maritalstatus VARCHAR(10),\n",
      "    fullname VARCHAR(40),\n",
      "    birthdate DATE\n",
      ");\n",
      "OK\n",
      "Time taken: 0.226 seconds\n"
     ]
    }
   ],
   "source": [
    "%%hive\n",
    "DROP DATABASE IF EXISTS DMLdb CASCADE;\n",
    "CREATE DATABASE DMLdb;\n",
    "USE DMLdb;\n",
    "CREATE TABLE persons (\n",
    "    ssn VARCHAR(11),\n",
    "    phone VARCHAR(14),\n",
    "    city VARCHAR(30),\n",
    "    maritalstatus VARCHAR(10),\n",
    "    fullname VARCHAR(40),\n",
    "    birthdate DATE\n",
    ");"
   ]
  },
  {
   "cell_type": "markdown",
   "metadata": {},
   "source": [
    "---"
   ]
  },
  {
   "cell_type": "markdown",
   "metadata": {},
   "source": [
    "**INSERT** \n",
    "\n",
    "    INSERT INTO TABLE tablename VALUES values_row [, values_row ...]\n",
    "    \n",
    "    values_row: \n",
    "       (value [, value ...])\n",
    "       \n",
    "Note que a diferencia de SQL, aca no es posible indicar para que columnas se van a insertar los valores, de tal manera que siempre se deben dar valores para todas las columnas.       "
   ]
  },
  {
   "cell_type": "code",
   "execution_count": 3,
   "metadata": {},
   "outputs": [
    {
     "name": "stdout",
     "output_type": "stream",
     "text": [
      "--\n",
      "-- Inserta el registro en la tabla.\n",
      "-- Los valores están en el mismo orden de los campos.\n",
      "--\n",
      "INSERT INTO persons VALUES\n",
      "oodman\",\"1988-06-30\");\n",
      "Query ID = jdvelasq_20180909213533_491017d8-8cd9-456e-be7b-f527ef4ace5f\n",
      "Total jobs = 3\n",
      "Launching Job 1 out of 3\n",
      "Number of reduce tasks is set to 0 since there's no reduce operator\n",
      "Job running in-process (local Hadoop)\n",
      "2018-09-09 21:35:36,787 Stage-1 map = 100%,  reduce = 0%\n",
      "Ended Job = job_local1384623658_0001\n",
      "Stage-4 is selected by condition resolver.\n",
      "Stage-3 is filtered out by condition resolver.\n",
      "Stage-5 is filtered out by condition resolver.\n",
      "Moving data to directory file:/Users/jdvelasq/warehouse/dmldb.db/persons/.hive-staging_hive_2018-09-09_21-35-33_087_2369206570743151897-1/-ext-10000\n",
      "Loading data to table dmldb.persons\n",
      "MapReduce Jobs Launched: \n",
      "Stage-Stage-1:  HDFS Read: 0 HDFS Write: 0 SUCCESS\n",
      "Total MapReduce CPU Time Spent: 0 msec\n",
      "OK\n",
      "Time taken: 3.832 seconds\n",
      "    \n",
      "SELECT * FROM persons;\n",
      "OK\n",
      "216-51-1025\t(09)-5580-7527\tMemphis (Tennessee)\tSingle\tMarco Goodman\t1988-06-30\n",
      "Time taken: 0.149 seconds, Fetched: 1 row(s)\n"
     ]
    }
   ],
   "source": [
    "%%hive\n",
    "--\n",
    "-- Inserta el registro en la tabla.\n",
    "-- Los valores están en el mismo orden de los campos.\n",
    "--\n",
    "INSERT INTO persons VALUES\n",
    "   (\"216-51-1025\",\"(09)-5580-7527\",\"Memphis (Tennessee)\",\"Single\",\"Marco Goodman\",\"1988-06-30\");\n",
    "    \n",
    "SELECT * FROM persons;"
   ]
  },
  {
   "cell_type": "code",
   "execution_count": 4,
   "metadata": {},
   "outputs": [
    {
     "name": "stdout",
     "output_type": "stream",
     "text": [
      "--\n",
      "-- Inserta varios registros a la vez.\n",
      "-- Los valores deben estar en el mismo orden de los campos.\n",
      "--\n",
      "INSERT INTO persons VALUES\n",
      "e Kerns\",\"1974-11-27\"),\n",
      "Lauritzen\",\"1969-07-27\");\n",
      "Query ID = jdvelasq_20180909213537_bbc6afa4-e033-44a8-aa33-cf85442dea6e\n",
      "Total jobs = 3\n",
      "Launching Job 1 out of 3\n",
      "Number of reduce tasks is set to 0 since there's no reduce operator\n",
      "Job running in-process (local Hadoop)\n",
      "2018-09-09 21:35:39,347 Stage-1 map = 100%,  reduce = 0%\n",
      "Ended Job = job_local2130312190_0002\n",
      "Stage-4 is selected by condition resolver.\n",
      "Stage-3 is filtered out by condition resolver.\n",
      "Stage-5 is filtered out by condition resolver.\n",
      "Moving data to directory file:/Users/jdvelasq/warehouse/dmldb.db/persons/.hive-staging_hive_2018-09-09_21-35-37_615_1025289639570410066-1/-ext-10000\n",
      "Loading data to table dmldb.persons\n",
      "MapReduce Jobs Launched: \n",
      "Stage-Stage-1:  HDFS Read: 0 HDFS Write: 0 SUCCESS\n",
      "Total MapReduce CPU Time Spent: 0 msec\n",
      "OK\n",
      "Time taken: 1.828 seconds\n",
      "    \n",
      "SELECT * FROM persons;    \n",
      "OK\n",
      "216-51-1025\t(09)-5580-7527\tMemphis (Tennessee)\tSingle\tMarco Goodman\t1988-06-30\n",
      "116-51-1291\t(07)-2905-7818\tBuffalo (New York)\tMarried\tRoxanne Kerns\t1974-11-27\n",
      "177-44-1159\t(09)-5062-6922\tDetroit (Michigan)\tSingle\tRegina Lauritzen\t1969-07-27\n",
      "Time taken: 0.085 seconds, Fetched: 3 row(s)\n"
     ]
    }
   ],
   "source": [
    "%%hive\n",
    "--\n",
    "-- Inserta varios registros a la vez.\n",
    "-- Los valores deben estar en el mismo orden de los campos.\n",
    "--\n",
    "INSERT INTO persons VALUES\n",
    "    (\"116-51-1291\",\"(07)-2905-7818\",\"Buffalo (New York)\",\"Married\",\"Roxanne Kerns\",\"1974-11-27\"),\n",
    "    (\"177-44-1159\",\"(09)-5062-6922\",\"Detroit (Michigan)\",\"Single\",\"Regina Lauritzen\",\"1969-07-27\");\n",
    "    \n",
    "SELECT * FROM persons;    "
   ]
  },
  {
   "cell_type": "markdown",
   "metadata": {},
   "source": [
    "**UPDATE**\n",
    "\n",
    "Hive no soporta operaciones de actualización de registros o grupos de registros en tablas."
   ]
  },
  {
   "cell_type": "markdown",
   "metadata": {},
   "source": [
    "**DELETE**\n",
    "\n",
    "Hive no soporta operaciones de borrado de registros o grupos de registros en tablas."
   ]
  },
  {
   "cell_type": "markdown",
   "metadata": {},
   "source": [
    "**ESCRITURA DE DATOS AL DISCO**\n",
    "\n",
    "    INSERT OVERWRITE [LOCAL] DIRECTORY directory1\n",
    "      [ROW FORMAT row_format] [STORED AS file_format] \n",
    "      SELECT ... FROM ..."
   ]
  },
  {
   "cell_type": "markdown",
   "metadata": {},
   "source": [
    "Si el archivo requerido ya tiene el formato deseado, es posible copiarlo directamente del sistema de archivos. En caso contrario, puede usar un INSERT para realizar la conversión de formato."
   ]
  },
  {
   "cell_type": "code",
   "execution_count": 5,
   "metadata": {},
   "outputs": [],
   "source": [
    "## crea el directorio persons-data\n",
    "!rm -rf persons-data\n",
    "!mkdir persons-data"
   ]
  },
  {
   "cell_type": "code",
   "execution_count": 6,
   "metadata": {},
   "outputs": [
    {
     "name": "stdout",
     "output_type": "stream",
     "text": [
      "INSERT OVERWRITE LOCAL DIRECTORY 'persons-data'\n",
      "ROW FORMAT \n",
      "DELIMITED FIELDS TERMINATED BY ','\n",
      "SELECT * FROM persons;\n",
      "Query ID = jdvelasq_20180909213540_883a26ad-87b7-4991-982d-d7596b231c38\n",
      "Total jobs = 1\n",
      "Launching Job 1 out of 1\n",
      "Number of reduce tasks is set to 0 since there's no reduce operator\n",
      "Job running in-process (local Hadoop)\n",
      "2018-09-09 21:35:41,824 Stage-1 map = 100%,  reduce = 0%\n",
      "Ended Job = job_local926221336_0003\n",
      "Moving data to local directory persons-data\n",
      "MapReduce Jobs Launched: \n",
      "Stage-Stage-1:  HDFS Read: 0 HDFS Write: 0 SUCCESS\n",
      "Total MapReduce CPU Time Spent: 0 msec\n",
      "OK\n",
      "Time taken: 1.716 seconds\n"
     ]
    }
   ],
   "source": [
    "%%hive\n",
    "INSERT OVERWRITE LOCAL DIRECTORY 'persons-data'\n",
    "ROW FORMAT \n",
    "DELIMITED FIELDS TERMINATED BY ','\n",
    "SELECT * FROM persons;"
   ]
  },
  {
   "cell_type": "code",
   "execution_count": 7,
   "metadata": {},
   "outputs": [
    {
     "name": "stdout",
     "output_type": "stream",
     "text": [
      "persons-data/000000_0\n"
     ]
    }
   ],
   "source": [
    "!ls persons-data/* "
   ]
  },
  {
   "cell_type": "code",
   "execution_count": 8,
   "metadata": {},
   "outputs": [
    {
     "name": "stdout",
     "output_type": "stream",
     "text": [
      "216-51-1025,(09)-5580-7527,Memphis (Tennessee),Single,Marco Goodman,1988-06-30\n",
      "116-51-1291,(07)-2905-7818,Buffalo (New York),Married,Roxanne Kerns,1974-11-27\n",
      "177-44-1159,(09)-5062-6922,Detroit (Michigan),Single,Regina Lauritzen,1969-07-27\n"
     ]
    }
   ],
   "source": [
    "!cat persons-data/* > persons-data.csv\n",
    "!cat persons-data.csv"
   ]
  },
  {
   "cell_type": "code",
   "execution_count": 9,
   "metadata": {},
   "outputs": [],
   "source": [
    "## se borra el archivo si existe\n",
    "!rm -rf persons-data\n",
    "!rm persons-data.csv"
   ]
  },
  {
   "cell_type": "markdown",
   "metadata": {},
   "source": [
    "**LOAD DATA**"
   ]
  },
  {
   "cell_type": "code",
   "execution_count": 10,
   "metadata": {},
   "outputs": [
    {
     "name": "stdout",
     "output_type": "stream",
     "text": [
      "-- el separador de campos debe ser ctrl-A\n",
      "sons; \n"
     ]
    }
   ],
   "source": [
    "%%hive\n",
    "-- el separador de campos debe ser ctrl-A\n",
    "# LOAD DATA LOCAL INPATH 'files/SQL-personas.csv' OVERWRITE INTO TABLE persons; "
   ]
  },
  {
   "cell_type": "code",
   "execution_count": 11,
   "metadata": {},
   "outputs": [
    {
     "name": "stdout",
     "output_type": "stream",
     "text": [
      "-- SELECT * FROM persons;\n"
     ]
    }
   ],
   "source": [
    "%%hive\n",
    "-- SELECT * FROM persons;"
   ]
  },
  {
   "cell_type": "markdown",
   "metadata": {},
   "source": [
    "**INSERT ... SELECT ... **"
   ]
  },
  {
   "cell_type": "markdown",
   "metadata": {},
   "source": [
    "También es posible insertar datos desde queries. La sintaxis sería la siguiente:\n",
    "\n",
    "    INSERT OVERWRITE TABLE bancos1\n",
    "    SELECT * FROM Bancos\n",
    "    WHERE .... ;\n",
    "    \n",
    "\n",
    "La clausula anterior es posible reescribirla como:\n",
    "\n",
    "    FROM Bancos se \n",
    "    INSERT OVERWRITE TABLE bancos1\n",
    "       SELECT * WEHRE ....\n",
    "    INSERT OVERWRITE TABLE bancos2\n",
    "       SELECT * WHERE ... ;\n",
    "       \n",
    "generando múltiples INSERT a tablas diferentes."
   ]
  },
  {
   "cell_type": "markdown",
   "metadata": {},
   "source": [
    "---"
   ]
  },
  {
   "cell_type": "markdown",
   "metadata": {},
   "source": [
    "Lenguaje de Manipulación de Datos\n",
    "===\n",
    "\n",
    "**Juan David Velásquez Henao**  \n",
    "jdvelasq@unal.edu.co   \n",
    "Universidad Nacional de Colombia, Sede Medellín  \n",
    "Facultad de Minas  \n",
    "Medellín, Colombia\n",
    "\n",
    "---\n",
    "\n",
    "Haga click [aquí](https://github.com/jdvelasq/apache-hive-course) para acceder al repositorio en GitHub.\n",
    "\n",
    "Haga click [aquí](http://nbviewer.jupyter.org/github/jdvelasq/apache-hive-course/tree/master/) para explorar el repositorio usando en `nbviewer`. \n",
    "\n",
    "---"
   ]
  }
 ],
 "metadata": {
  "kernelspec": {
   "display_name": "Python 3",
   "language": "python",
   "name": "python3"
  },
  "language_info": {
   "codemirror_mode": {
    "name": "ipython",
    "version": 3
   },
   "file_extension": ".py",
   "mimetype": "text/x-python",
   "name": "python",
   "nbconvert_exporter": "python",
   "pygments_lexer": "ipython3",
   "version": "3.6.5"
  }
 },
 "nbformat": 4,
 "nbformat_minor": 2
}
