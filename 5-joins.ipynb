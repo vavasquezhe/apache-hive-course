{
 "cells": [
  {
   "cell_type": "markdown",
   "metadata": {},
   "source": [
    "Uniones\n",
    "===\n",
    "\n",
    "**Juan David Velásquez Henao**  \n",
    "jdvelasq@unal.edu.co   \n",
    "Universidad Nacional de Colombia, Sede Medellín  \n",
    "Facultad de Minas  \n",
    "Medellín, Colombia\n",
    "\n",
    "---\n",
    "\n",
    "Haga click [aquí](https://github.com/jdvelasq/apache-hive-course) para acceder al repositorio en GitHub.\n",
    "\n",
    "Haga click [aquí](http://nbviewer.jupyter.org/github/jdvelasq/apache-hive-course/tree/master/) para explorar el repositorio usando en `nbviewer`. "
   ]
  },
  {
   "cell_type": "markdown",
   "metadata": {},
   "source": [
    "---"
   ]
  },
  {
   "cell_type": "code",
   "execution_count": 1,
   "metadata": {},
   "outputs": [
    {
     "name": "stdout",
     "output_type": "stream",
     "text": [
      "SLF4J: Class path contains multiple SLF4J bindings.\n",
      "SLF4J: Found binding in [jar:file:/Users/jdvelasq/hive/lib/log4j-slf4j-impl-2.10.0.jar!/org/slf4j/impl/StaticLoggerBinder.class]\n",
      "SLF4J: Found binding in [jar:file:/Users/jdvelasq/hadoop/share/hadoop/common/lib/slf4j-log4j12-1.7.25.jar!/org/slf4j/impl/StaticLoggerBinder.class]\n",
      "SLF4J: See http://www.slf4j.org/codes.html#multiple_bindings for an explanation.\n",
      "SLF4J: Actual binding is of type [org.apache.logging.slf4j.Log4jLoggerFactory]\n",
      "Hive Session ID = eeec7bda-0b6b-4866-9b10-6ae37bad9285\n",
      "\n",
      "Logging initialized using configuration in jar:file:/Users/jdvelasq/hive/lib/hive-common-3.1.0.jar!/hive-log4j2.properties Async: true\n",
      "Hive Session ID = 19e8cbb4-634b-4e0f-9798-8f0bfef2320a\n",
      "Hive-on-MR is deprecated in Hive 2 and may not be available in the future versions. Consider using a different execution engine (i.e. spark, tez) or using Hive 1.X releases.\n",
      "\n"
     ]
    }
   ],
   "source": [
    "%run hivemagic.py"
   ]
  },
  {
   "cell_type": "markdown",
   "metadata": {},
   "source": [
    "# Uniones (joins) de tablas en Hive"
   ]
  },
  {
   "cell_type": "markdown",
   "metadata": {},
   "source": [
    "**Preperación de los datos de ejemplo.** Los datos de ejemplo son los mismos usados en el tutorial *04-csv.ipynb*."
   ]
  },
  {
   "cell_type": "markdown",
   "metadata": {},
   "source": [
    "**JOIN**\n",
    "\n",
    "Los joins permiten unir la información de dos o más tablas. Los distintos tipos de joins son explicados en la siguiente gráfica:\n",
    "\n",
    "![joins.jpg](images/joins.jpg)"
   ]
  },
  {
   "cell_type": "code",
   "execution_count": 2,
   "metadata": {},
   "outputs": [
    {
     "name": "stdout",
     "output_type": "stream",
     "text": [
      "--\n",
      "-- Combina la información de las dos tablas usando como clave\n",
      "-- el campo ssn.\n",
      "--\n",
      "SELECT fullname, phone, bank, personas.ssn, bancos.ssn\n",
      "FROM personas JOIN bancos\n",
      "ON personas.ssn = bancos.ssn LIMIT 10;\n",
      "FAILED: SemanticException [Error 10001]: Line 2:5 Table not found 'personas'\n"
     ]
    }
   ],
   "source": [
    "%%hive\n",
    "--\n",
    "-- Combina la información de las dos tablas usando como clave\n",
    "-- el campo ssn.\n",
    "--\n",
    "SELECT fullname, phone, bank, personas.ssn, bancos.ssn\n",
    "FROM personas JOIN bancos\n",
    "ON personas.ssn = bancos.ssn LIMIT 10;"
   ]
  },
  {
   "cell_type": "markdown",
   "metadata": {},
   "source": [
    "---\n",
    "**Ejercicio.--** Genere una tabla que contenga la cantidad de tarjetas emitidas por cada banco (campo `bank`).\n",
    "\n",
    "**Ejercicio.--** Genere una tabla que contenga la cantidad de tarjetas de cada franquicia (campo `ccntype`).\n",
    "\n",
    "**Ejercicio.--** Genere una tabla que contenga el cliente más joven de cada banco.\n",
    "\n",
    "**Ejercicio.--** Genere una tabla que contenga por cada banco, la cantidad de clientes nacidos cada año.\n",
    "\n",
    "**Ejercicio.--** Genere una tabla que contenga la suma de los montos (`quote`) por franquisia.\n",
    "\n",
    "**Ejercicio.--** Genere una tabla que contenga el banco, la franquisia y el nombre del titular de la tarjeta de crédito. \n",
    "\n",
    "---"
   ]
  },
  {
   "cell_type": "markdown",
   "metadata": {},
   "source": [
    "Uniones\n",
    "===\n",
    "\n",
    "**Juan David Velásquez Henao**  \n",
    "jdvelasq@unal.edu.co   \n",
    "Universidad Nacional de Colombia, Sede Medellín  \n",
    "Facultad de Minas  \n",
    "Medellín, Colombia\n",
    "\n",
    "---\n",
    "\n",
    "Haga click [aquí](https://github.com/jdvelasq/apache-hive-course) para acceder al repositorio en GitHub.\n",
    "\n",
    "Haga click [aquí](http://nbviewer.jupyter.org/github/jdvelasq/apache-hive-course/tree/master/) para explorar el repositorio usando en `nbviewer`. \n",
    "\n",
    "---"
   ]
  }
 ],
 "metadata": {
  "kernelspec": {
   "display_name": "Python 3",
   "language": "python",
   "name": "python3"
  },
  "language_info": {
   "codemirror_mode": {
    "name": "ipython",
    "version": 3
   },
   "file_extension": ".py",
   "mimetype": "text/x-python",
   "name": "python",
   "nbconvert_exporter": "python",
   "pygments_lexer": "ipython3",
   "version": "3.6.5"
  }
 },
 "nbformat": 4,
 "nbformat_minor": 2
}
