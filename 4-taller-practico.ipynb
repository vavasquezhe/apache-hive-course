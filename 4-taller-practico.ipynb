{
 "cells": [
  {
   "cell_type": "markdown",
   "metadata": {},
   "source": [
    "Taller práctico - Apache Hive\n",
    "===\n",
    "\n",
    "**Juan David Velásquez Henao**  \n",
    "jdvelasq@unal.edu.co   \n",
    "Universidad Nacional de Colombia, Sede Medellín  \n",
    "Facultad de Minas  \n",
    "Medellín, Colombia\n",
    "\n",
    "---\n",
    "\n",
    "Haga click [aquí](https://github.com/jdvelasq/apache-hive-course/blob/master/01-uso-interactivo.ipynb) para acceder a la última versión online\n",
    "\n",
    "Haga click [aquí](http://nbviewer.jupyter.org/github/jdvelasq/apache-hive-course/blob/master/01-uso-interactivo.ipynb) para ver la última versión online en `nbviewer`. \n",
    "\n",
    "---"
   ]
  },
  {
   "cell_type": "markdown",
   "metadata": {},
   "source": [
    "### Descripción del problema"
   ]
  },
  {
   "cell_type": "markdown",
   "metadata": {},
   "source": [
    "Usted ha sido elegido como gerente de talento humano de una compañía manufacturera que se dedica a la producción y comercialización de un producto orgánico a base de caña de azucar, en Colombia. Su primera tarea consiste en incluir la información sobre los empleados, que reposan hoy en día en archivos de Excel, en una base de datos estructurada y a continuación evaluar la equidad de salarios entre los cargos.\n",
    "\n",
    "Los archivos contienen de la siguiente información:\n",
    "\n",
    "> **salarios.csv**\n",
    "    \n",
    "         > empleado_id = Identificación del empleado\n",
    "         > salario = Salario mensual en USD\n",
    "         > desde = Fecha de inicio del contrato actual \n",
    "         > hasta = Fecha de finalización del contrato actual\n",
    "\n",
    "> **empleados.csv**\n",
    "    \n",
    "         > empleado_id \n",
    "         > nombre \n",
    "         > f_nacimiento = Fecha de nacimiento\n",
    "         > departamento_id = Identificación del departamento al que pertenece\n",
    "         > SesionLog = identificación de la persona que recolectó la información.\n",
    "         \n",
    "> **contacto.csv**\n",
    "    \n",
    "         > empleado_id \n",
    "         > celular = Teléfono celular del empleado\n",
    "         > dirección \n",
    "         > email\n",
    "         > teléfono\n",
    "         \n",
    "> **departamento.csv**\n",
    "    \n",
    "         > empleado_id \n",
    "         > departamento_id\n",
    "         > departamento \n",
    "         > cargo\n",
    "         \n",
    "         \n",
    "A partir del planteamiento anterior, responda ante los siguientes requerimientos de información:"
   ]
  },
  {
   "cell_type": "code",
   "execution_count": null,
   "metadata": {},
   "outputs": [],
   "source": [
    "%run hivemagic.py"
   ]
  },
  {
   "cell_type": "code",
   "execution_count": null,
   "metadata": {},
   "outputs": [],
   "source": [
    "%load_ext sql_magic"
   ]
  },
  {
   "cell_type": "code",
   "execution_count": null,
   "metadata": {},
   "outputs": [],
   "source": [
    "%load_ext sql"
   ]
  },
  {
   "cell_type": "code",
   "execution_count": null,
   "metadata": {},
   "outputs": [],
   "source": [
    "import findspark\n",
    "from pyspark import SparkContext, HiveContext    \n",
    "findspark.init()\n",
    "spark_context = SparkContext()\n",
    "hive_context = HiveContext(spark_context)\n",
    "%config SQL.conn_name = 'hive_context'"
   ]
  },
  {
   "cell_type": "markdown",
   "metadata": {},
   "source": [
    "### Requerimiento 1. \n",
    "Cree una base de datos llamada `talento_humano`.\n"
   ]
  },
  {
   "cell_type": "code",
   "execution_count": null,
   "metadata": {},
   "outputs": [],
   "source": [
    "%%read_sql\n",
    "-- inserte su codigo aquí\n"
   ]
  },
  {
   "cell_type": "markdown",
   "metadata": {},
   "source": [
    "### Requerimiento 2. \n",
    "De acuerdo con los archivos existentes, cree tablas en la base de datos que permitan almacenar toda la información."
   ]
  },
  {
   "cell_type": "code",
   "execution_count": null,
   "metadata": {},
   "outputs": [],
   "source": [
    "%%read_sql\n",
    "-- inserte su codigo aquí\n"
   ]
  },
  {
   "cell_type": "markdown",
   "metadata": {},
   "source": [
    "### Requerimiento 3. \n",
    "Establezca el ID de empleado como el registro de identificación en la base de datos, es decir, como la clave primaria de las tablas creadas. "
   ]
  },
  {
   "cell_type": "code",
   "execution_count": null,
   "metadata": {},
   "outputs": [],
   "source": [
    "%%read_sql\n",
    "-- inserte su codigo aquí\n"
   ]
  },
  {
   "cell_type": "markdown",
   "metadata": {},
   "source": [
    "### Requerimiento 4. \n",
    "Cargue la información de los archivos a la base de datos."
   ]
  },
  {
   "cell_type": "code",
   "execution_count": null,
   "metadata": {},
   "outputs": [],
   "source": [
    "%%read_sql\n",
    "-- inserte su codigo aquí\n"
   ]
  },
  {
   "cell_type": "markdown",
   "metadata": {},
   "source": [
    "### Requerimiento 5. \n",
    "Obtenga salarios de todos los empleados de la compañía."
   ]
  },
  {
   "cell_type": "code",
   "execution_count": null,
   "metadata": {},
   "outputs": [],
   "source": [
    "%%read_sql\n",
    "-- inserte su codigo aquí\n"
   ]
  },
  {
   "cell_type": "markdown",
   "metadata": {},
   "source": [
    "### Requerimiento 7. \n",
    "Actualice el número de teléfono del empleado con ID = 70632172 con el dato (984) 331-3366."
   ]
  },
  {
   "cell_type": "code",
   "execution_count": null,
   "metadata": {},
   "outputs": [],
   "source": [
    "%%read_sql\n",
    "-- inserte su codigo aquí\n"
   ]
  },
  {
   "cell_type": "markdown",
   "metadata": {},
   "source": [
    "### Requerimiento 8. \n",
    "Obtenga los cargos únicos por departamento."
   ]
  },
  {
   "cell_type": "code",
   "execution_count": null,
   "metadata": {},
   "outputs": [],
   "source": [
    "%%read_sql\n",
    "-- inserte su codigo aquí\n"
   ]
  },
  {
   "cell_type": "markdown",
   "metadata": {},
   "source": [
    "### Requerimiento 9. \n",
    "Obtenga el número total de empleados y el salario promedio."
   ]
  },
  {
   "cell_type": "code",
   "execution_count": null,
   "metadata": {},
   "outputs": [],
   "source": [
    "%%read_sql\n",
    "-- inserte su codigo aquí\n"
   ]
  },
  {
   "cell_type": "markdown",
   "metadata": {},
   "source": [
    "### Requerimiento 10. \n",
    "Obtenga una tabla que contenga el ID de los empleados con cargo `Asistente` y aquellos que tenga un salario mayor a `6000 USD`."
   ]
  },
  {
   "cell_type": "code",
   "execution_count": null,
   "metadata": {},
   "outputs": [],
   "source": [
    "%%read_sql\n",
    "-- inserte su codigo aquí\n"
   ]
  },
  {
   "cell_type": "markdown",
   "metadata": {},
   "source": [
    "### Requerimiento 11. \n",
    "Obtenga una tabla que muestre la identificación de los empleados y su edad en años. "
   ]
  },
  {
   "cell_type": "code",
   "execution_count": null,
   "metadata": {},
   "outputs": [],
   "source": [
    "%%read_sql\n",
    "-- inserte su codigo aquí\n"
   ]
  },
  {
   "cell_type": "markdown",
   "metadata": {},
   "source": [
    "### Requerimiento 12. \n",
    "Obtenga una tabla que contenga el empleado_ID y nombre de los empleados que tienen menos de `30 años`."
   ]
  },
  {
   "cell_type": "code",
   "execution_count": null,
   "metadata": {},
   "outputs": [],
   "source": [
    "%%read_sql\n",
    "-- inserte su codigo aquí\n"
   ]
  },
  {
   "cell_type": "markdown",
   "metadata": {},
   "source": [
    "### Requerimiento 13. \n",
    "Obtenga una tabla que muestre la identificación de los empleados, la duración de sus respectivos contratos en meses y cuanto tiempo resta del mismo."
   ]
  },
  {
   "cell_type": "code",
   "execution_count": null,
   "metadata": {},
   "outputs": [],
   "source": [
    "%%read_sql\n",
    "-- inserte su codigo aquí\n"
   ]
  },
  {
   "cell_type": "markdown",
   "metadata": {},
   "source": [
    "### Requerimiento 14. \n",
    "Obtenga el salario promedio por departamento"
   ]
  },
  {
   "cell_type": "code",
   "execution_count": null,
   "metadata": {},
   "outputs": [],
   "source": [
    "%%read_sql\n",
    "-- inserte su codigo aquí\n"
   ]
  },
  {
   "cell_type": "markdown",
   "metadata": {},
   "source": [
    "### Requerimiento 15. \n",
    "Obtenga el salario promedio por cargo"
   ]
  },
  {
   "cell_type": "code",
   "execution_count": null,
   "metadata": {},
   "outputs": [],
   "source": [
    "%%read_sql\n",
    "-- inserte su codigo aquí\n"
   ]
  },
  {
   "cell_type": "markdown",
   "metadata": {},
   "source": [
    "### Requerimiento 16. \n",
    "Obtenga una tabla que contenga los datos personales del empleado, departamento, cargo y salario."
   ]
  },
  {
   "cell_type": "code",
   "execution_count": null,
   "metadata": {},
   "outputs": [],
   "source": [
    "%%read_sql\n",
    "-- inserte su codigo aquí\n"
   ]
  },
  {
   "cell_type": "markdown",
   "metadata": {},
   "source": [
    "### Requerimiento 17. \n",
    "Exporte la tabla anterior a un archivo `.csv`."
   ]
  },
  {
   "cell_type": "code",
   "execution_count": null,
   "metadata": {},
   "outputs": [],
   "source": [
    "%%read_sql\n",
    "-- inserte su codigo aquí\n"
   ]
  },
  {
   "cell_type": "markdown",
   "metadata": {},
   "source": [
    "### Requerimiento 18. \n",
    "Obtenga una tabla que muestre el nombre, email y teléfono de los empleados que tienen entre `25 - 28 años`."
   ]
  },
  {
   "cell_type": "code",
   "execution_count": null,
   "metadata": {},
   "outputs": [],
   "source": [
    "%%read_sql\n",
    "-- inserte su codigo aquí\n"
   ]
  },
  {
   "cell_type": "markdown",
   "metadata": {},
   "source": [
    "---"
   ]
  },
  {
   "cell_type": "markdown",
   "metadata": {},
   "source": [
    "Taller práctico - Apache Hive\n",
    "===\n",
    "\n",
    "**Juan David Velásquez Henao**  \n",
    "jdvelasq@unal.edu.co   \n",
    "Universidad Nacional de Colombia, Sede Medellín  \n",
    "Facultad de Minas  \n",
    "Medellín, Colombia\n",
    "\n",
    "---\n",
    "\n",
    "Haga click [aquí](https://github.com/jdvelasq/apache-hive-course/blob/master/01-uso-interactivo.ipynb) para acceder a la última versión online\n",
    "\n",
    "Haga click [aquí](http://nbviewer.jupyter.org/github/jdvelasq/apache-hive-course/blob/master/01-uso-interactivo.ipynb) para ver la última versión online en `nbviewer`. \n",
    "\n",
    "---"
   ]
  }
 ],
 "metadata": {
  "kernelspec": {
   "display_name": "Python 3",
   "language": "python",
   "name": "python3"
  },
  "language_info": {
   "codemirror_mode": {
    "name": "ipython",
    "version": 3
   },
   "file_extension": ".py",
   "mimetype": "text/x-python",
   "name": "python",
   "nbconvert_exporter": "python",
   "pygments_lexer": "ipython3",
   "version": "3.6.5"
  }
 },
 "nbformat": 4,
 "nbformat_minor": 2
}
